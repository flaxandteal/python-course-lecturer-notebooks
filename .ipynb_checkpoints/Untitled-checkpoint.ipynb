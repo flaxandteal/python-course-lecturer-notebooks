{
 "cells": [
  {
   "cell_type": "markdown",
   "metadata": {
    "slideshow": {
     "slide_type": "slide"
    }
   },
   "source": [
    "# Moving to the desktop"
   ]
  },
  {
   "cell_type": "markdown",
   "metadata": {},
   "source": [
    "## Returning to the 20th Century"
   ]
  },
  {
   "cell_type": "markdown",
   "metadata": {
    "slideshow": {
     "slide_type": "notes"
    }
   },
   "source": [
    "Jupyter is all well and good, but sometimes what we want are simple Python scripts and a traditional scientific interface. This where Spyder comes in..."
   ]
  },
  {
   "cell_type": "markdown",
   "metadata": {
    "slideshow": {
     "slide_type": "slide"
    }
   },
   "source": [
    "## Starting Spyder\n",
    "\n",
    "Hit the Windows key and start typing \"Spyder\"\n",
    "\n",
    "When the snake-on-a-web icon appears, click it"
   ]
  },
  {
   "cell_type": "markdown",
   "metadata": {
    "slideshow": {
     "slide_type": "notes"
    }
   },
   "source": [
    "Spyder has been growing over the last couple years and is quite well set up for scientific Python...\n",
    "\n",
    "You will see on the left, a large editor window like any other IDE. On the bottom right, is an IPython notebook. This is really just the text version (and origin of) Jupyter. You can use it that same way, modulo interactive graphs and plotting (which you can instead write to a file, say). The top right window provides a handy way of accessing object documentation."
   ]
  },
  {
   "cell_type": "markdown",
   "metadata": {},
   "source": [
    "# Virtualenv\n",
    "## Building sandcastles"
   ]
  },
  {
   "cell_type": "markdown",
   "metadata": {
    "slideshow": {
     "slide_type": "notes"
    }
   },
   "source": []
  },
  {
   "cell_type": "markdown",
   "metadata": {
    "slideshow": {
     "slide_type": "slide"
    }
   },
   "source": [
    "# The Ghost of Coding Future\n",
    "## Styling for future you"
   ]
  },
  {
   "cell_type": "markdown",
   "metadata": {
    "slideshow": {
     "slide_type": "notes"
    }
   },
   "source": [
    "Only recently, when having to work with code written by new Pythoners, and my appeals for *some* code style have fallen on deaf ears, have I realised how worthwhile emphasizing this at the start is. Not that it was worse than any other language, and as you're mostly computer scientists rather than physical scientists, decent style is just status quo.\n",
    "\n",
    "However, half the point of Python is that this *should not* be a problem in Python, and so Python-style is part of learning the language. I know for a fact, my Python was pretty ropey when I started out, and I paid the price when I went back six months later to edit some of it. However, I was simultaneously editing my six month old mathematician C++, so even with the ropey Python, I was sold on the benefits."
   ]
  },
  {
   "cell_type": "markdown",
   "metadata": {
    "slideshow": {
     "slide_type": "slide"
    }
   },
   "source": [
    "To begin, I am going to give you a group 5 minute challenge:\n",
    "\n",
    " * rewrite the code in `bad-python.py` to print, when `newversion` is `True`:\n",
    "\n",
    "```\n",
    "1:PRINTING VALUES\n",
    "\n",
    "2:0.84 is sin(x), 0.54 is cos(x)\n",
    "3:0.91 is sin(x), -0.42 is cos(x)\n",
    "4:0.14 is sin(x), -0.99 is cos(x)\n",
    "5:-0.76 is sin(x), -0.65 is cos(x)\n",
    "6:-0.96 is sin(x), 0.28 is cos(x)\n",
    "7:-0.28 is sin(x), 0.96 is cos(x)\n",
    "8:0.66 is sin(x), 0.75 is cos(x)\n",
    "9:0.99 is sin(x), -0.15 is cos(x)\n",
    "10:0.41 is sin(x), -0.91 is cos(x)\n",
    "```\n",
    " * return to original functionality when `newversion` is `False`"
   ]
  },
  {
   "cell_type": "markdown",
   "metadata": {
    "slideshow": {
     "slide_type": "notes"
    }
   },
   "source": [
    "There are a few new features snuck in there - use Google and ask on Etherpad to find out about them. If you have any ideas or hints, put them into Etherpad - exchange ideas! And put up your stars!\n",
    "\n",
    "This isn't just me being irritating - this is the kind of code accretion that can happen with shortcuts to include a feature - writing code rather than using libraries, taking the first solution rather than looking for a Pythonic one... it's not hard to end up with this sort of thing..."
   ]
  },
  {
   "cell_type": "markdown",
   "metadata": {
    "slideshow": {
     "slide_type": "slide"
    }
   },
   "source": [
    "# The Revelation\n",
    "\n",
    "\"*Scrooge hung his head to hear his own words quoted by the Spirit, and was overcome with penitence and grief.*\"<br/> ~ A Christmas Carol, Ch. Dickens"
   ]
  },
  {
   "cell_type": "markdown",
   "metadata": {},
   "source": [
    "We will try this now with slightly more readable code."
   ]
  },
  {
   "cell_type": "markdown",
   "metadata": {
    "slideshow": {
     "slide_type": "slide"
    }
   },
   "source": [
    "Now try it with better (not best!) code:\n",
    "\n",
    " * rewrite the code in `better-python.py` to print, when `newversion` is `True`:\n",
    "\n",
    "```\n",
    "1:PRINTING VALUES OF SIN AND COS FOR x IN 1, 2,..., 9\n",
    "\n",
    "2:0.84 is sin(x), 0.54 is cos(x)\n",
    "3:0.91 is sin(x), -0.42 is cos(x)\n",
    "4:0.14 is sin(x), -0.99 is cos(x)\n",
    "5:-0.76 is sin(x), -0.65 is cos(x)\n",
    "6:-0.96 is sin(x), 0.28 is cos(x)\n",
    "7:-0.28 is sin(x), 0.96 is cos(x)\n",
    "8:0.66 is sin(x), 0.75 is cos(x)\n",
    "9:0.99 is sin(x), -0.15 is cos(x)\n",
    "10:0.41 is sin(x), -0.91 is cos(x)\n",
    "```\n",
    " * return to original functionality when `newversion` is `False`"
   ]
  },
  {
   "cell_type": "markdown",
   "metadata": {
    "slideshow": {
     "slide_type": "notes"
    }
   },
   "source": [
    "TIP 1: [zip](https://docs.python.org/3/library/functions.html#zip) pairs up items in equal length lists/arrays/etc. and turns them into a series of tuples\n",
    "\n",
    "TIP 2: the `in` operator can assign N-length tuples on the right to N comma separated variables on the left, e.g.\n",
    "```python\n",
    "x = [(1, 3, 1), (4, 2, 9), (1, 0, 10), (9, 18, 1)]\n",
    "for a, b, c in x:\n",
    "    print(\"A+B/C =\", a + b / c)\n",
    "```"
   ]
  },
  {
   "cell_type": "markdown",
   "metadata": {},
   "source": [
    "# Final Challenge - Ease of extension\n",
    "## It is easier to extend good code than PhD funding"
   ]
  },
  {
   "cell_type": "markdown",
   "metadata": {
    "slideshow": {
     "slide_type": "notes"
    }
   },
   "source": [
    "So, experiment wildly, which Python is awesome for, but also aim to write for panicking future-you, who wants to get stuff added quickly and painlessly..."
   ]
  },
  {
   "cell_type": "markdown",
   "metadata": {
    "slideshow": {
     "slide_type": "slide"
    }
   },
   "source": [
    "Use `matplotlib` or `bokeh` to add plotting functionality to `better-python.py`. Note that both of them can output to a file (`bokeh` to HTML for interactivity)."
   ]
  },
  {
   "cell_type": "markdown",
   "metadata": {
    "slideshow": {
     "slide_type": "notes"
    }
   },
   "source": [
    "Do this whatever way you want - with axes labels, interactivity, line colours, separate functionality for newversion on and off (or just when on)."
   ]
  },
  {
   "cell_type": "markdown",
   "metadata": {},
   "source": [
    "# Other people's code\n",
    "# Virtualenv\n",
    "# module installation\n",
    "# FFT\n",
    "# network analysis\n",
    "# Generators"
   ]
  }
 ],
 "metadata": {
  "celltoolbar": "Slideshow",
  "kernelspec": {
   "display_name": "Python 3",
   "language": "python",
   "name": "python3"
  }
 },
 "nbformat": 4,
 "nbformat_minor": 0
}
