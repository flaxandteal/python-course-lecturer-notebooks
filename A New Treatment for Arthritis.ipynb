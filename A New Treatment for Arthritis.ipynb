{
 "cells": [
  {
   "cell_type": "markdown",
   "metadata": {
    "slideshow": {
     "slide_type": "notes"
    }
   },
   "source": [
    "First off, an acknowledgement of the usefulness of the Software Carpentry materials, and particularly data, in preparing this session - this course is not, however, affiliated with or endorsed by the Software Carpentry team. Nonetheless, if you would like a more in-depth walkthrough, relevant to this arthritis example, I recommend you explore their resources, particularly the python-novice-inflammation workshop."
   ]
  },
  {
   "cell_type": "markdown",
   "metadata": {
    "slideshow": {
     "slide_type": "slide"
    }
   },
   "source": [
    "# A New Treatment for Arthritis\n",
    "\n",
    "## Starting out with some data"
   ]
  },
  {
   "cell_type": "markdown",
   "metadata": {
    "slideshow": {
     "slide_type": "notes"
    }
   },
   "source": [
    "In this task, we will examine some data representing trials of an arthritis treatment. Our data is in the form of an ASCII file, where each row represents a patient and each column a consecutive day's measurement of inflammation."
   ]
  },
  {
   "cell_type": "markdown",
   "metadata": {
    "slideshow": {
     "slide_type": "slide"
    }
   },
   "source": [
    "# The Scientific Python Trifecta"
   ]
  },
  {
   "cell_type": "markdown",
   "metadata": {
    "slideshow": {
     "slide_type": "fragment"
    }
   },
   "source": [
    "* **numpy** - handling numbers"
   ]
  },
  {
   "cell_type": "markdown",
   "metadata": {
    "slideshow": {
     "slide_type": "fragment"
    }
   },
   "source": [
    "* **matplotlib** - plotting"
   ]
  },
  {
   "cell_type": "markdown",
   "metadata": {
    "slideshow": {
     "slide_type": "fragment"
    }
   },
   "source": [
    "* **scipy** - general scientific methods"
   ]
  },
  {
   "cell_type": "markdown",
   "metadata": {
    "slideshow": {
     "slide_type": "notes"
    }
   },
   "source": [
    "**numpy** has flexible routines for loading raw data..."
   ]
  },
  {
   "cell_type": "markdown",
   "metadata": {
    "slideshow": {
     "slide_type": "slide"
    }
   },
   "source": [
    "In the same directory as your notebooks, there is a folder with some data, called `data`."
   ]
  },
  {
   "cell_type": "code",
   "execution_count": 1,
   "metadata": {
    "collapsed": false,
    "slideshow": {
     "slide_type": "fragment"
    }
   },
   "outputs": [
    {
     "name": "stdout",
     "output_type": "stream",
     "text": [
      "0,0,1,3,1,2,4,7,8,3,3,3,10,5,7,4,7,7,12,18,6,13,11,11,7,7,4,6,8,8,4,4,5,7,3,4,2,3,0,0\n",
      " 0,1,2,1,2,1,3,2,2,6,10,11,5,9,4,4,7,16,8,6,18,4,12,5,12,7,11,5,11,3,3,5,4,4,5,5,1,1,0,1\n",
      " 0,1,1,3,3,2,6,2,5,9,5,7,4,5,4,15,5,11,9,10,19,14,12,17,7,12,11,7,4,2,10,5,4,2,2,3,2,2,1,1\n",
      "\n"
     ]
    }
   ],
   "source": [
    "with open('data/inflammation-01.csv', 'r') as f:\n",
    "    snippet = f.readlines()[:3]\n",
    "print(*snippet)"
   ]
  },
  {
   "cell_type": "markdown",
   "metadata": {
    "slideshow": {
     "slide_type": "notes"
    }
   },
   "source": [
    "This construct, a `with` statement, addresses the age-old problem of cleaning up file descriptors. In general, a *with context* expects the object being used to have some open and close routines that will be called at the entrance and exit of the block, respectively. Note that we don't have scoping here - the `snippet` variable exists outside the block, making it easy to load data in a short block and handle it later."
   ]
  },
  {
   "cell_type": "markdown",
   "metadata": {
    "slideshow": {
     "slide_type": "subslide"
    }
   },
   "source": [
    "We could use more traditional syntax:\n",
    "\n",
    "```python\n",
    "    f = open('foo.csv', 'r')\n",
    "    ...\n",
    "    f.close()\n",
    "```\n",
    "\n",
    "but this succinct approach has the benefit of containing use within a protected block."
   ]
  },
  {
   "cell_type": "markdown",
   "metadata": {
    "slideshow": {
     "slide_type": "notes"
    }
   },
   "source": [
    "It can be used for much more than just simple files, such as RMV."
   ]
  },
  {
   "cell_type": "markdown",
   "metadata": {
    "slideshow": {
     "slide_type": "notes"
    }
   },
   "source": [
    "We also note that a new piece of Python syntax has appeared - a star, indicating that an iterable (here, a list) is used to fill up arguments to a function. This is especially useful with print, and is equivalent to:\n",
    "\n",
    "```python\n",
    "    print(snippet[0], snippet[1], snippet[2])\n",
    "```\n",
    "\n",
    "However, there are places it really shines. In fact, you can also name arguments to a function - in that case you can additionally provide a dict that fills them out (with two stars to indicate the expansion)."
   ]
  },
  {
   "cell_type": "markdown",
   "metadata": {
    "slideshow": {
     "slide_type": "notes"
    }
   },
   "source": [
    "Looking at the printed data, you can see we have a large number of columns (equal for each row), data in the range 0-20 and it is comma-separated. Remember, each row represents a patient and each column, the measurement of inflammation on a given day."
   ]
  },
  {
   "cell_type": "markdown",
   "metadata": {
    "slideshow": {
     "slide_type": "slide"
    }
   },
   "source": [
    "# Import the data"
   ]
  },
  {
   "cell_type": "code",
   "execution_count": 2,
   "metadata": {
    "collapsed": false
   },
   "outputs": [
    {
     "name": "stdout",
     "output_type": "stream",
     "text": [
      "[[ 0.  0.  1. ...,  3.  0.  0.]\n",
      " [ 0.  1.  2. ...,  1.  0.  1.]\n",
      " [ 0.  1.  1. ...,  2.  1.  1.]\n",
      " ..., \n",
      " [ 0.  1.  1. ...,  1.  1.  1.]\n",
      " [ 0.  0.  0. ...,  0.  2.  0.]\n",
      " [ 0.  0.  1. ...,  1.  1.  0.]]\n"
     ]
    }
   ],
   "source": [
    "import numpy as np\n",
    "data = np.loadtxt(fname='data/inflammation-01.csv', delimiter=',') # Comma-separated...\n",
    "print(data)"
   ]
  },
  {
   "cell_type": "markdown",
   "metadata": {
    "slideshow": {
     "slide_type": "notes"
    }
   },
   "source": [
    "While this has kindly been rendered for us as if it were a list of lists, in reality it is something much more useful..."
   ]
  },
  {
   "cell_type": "code",
   "execution_count": 3,
   "metadata": {
    "collapsed": false,
    "slideshow": {
     "slide_type": "fragment"
    }
   },
   "outputs": [
    {
     "data": {
      "text/plain": [
       "numpy.ndarray"
      ]
     },
     "execution_count": 3,
     "metadata": {},
     "output_type": "execute_result"
    }
   ],
   "source": [
    "type(data)"
   ]
  },
  {
   "cell_type": "markdown",
   "metadata": {
    "slideshow": {
     "slide_type": "notes"
    }
   },
   "source": [
    "This type is `numpy`'s N-dimensional matrix class. This means we get a wide swathe of attributes and methods applicable to matrices, and a whole load of functions inside `numpy` and other libraries that will happily take it as an argument. One particularly useful property is `shape`:"
   ]
  },
  {
   "cell_type": "code",
   "execution_count": 4,
   "metadata": {
    "collapsed": false,
    "slideshow": {
     "slide_type": "fragment"
    }
   },
   "outputs": [
    {
     "data": {
      "text/plain": [
       "(60, 40)"
      ]
     },
     "execution_count": 4,
     "metadata": {},
     "output_type": "execute_result"
    }
   ],
   "source": [
    "data.shape"
   ]
  },
  {
   "cell_type": "markdown",
   "metadata": {
    "slideshow": {
     "slide_type": "notes"
    }
   },
   "source": [
    "This tells us that there are 60 patients (rows), each with 40 days of inflammation measurements (columns)."
   ]
  },
  {
   "cell_type": "markdown",
   "metadata": {
    "slideshow": {
     "slide_type": "slide"
    }
   },
   "source": [
    "We can get an idea of the wide variety of methods available on the `data` object..."
   ]
  },
  {
   "cell_type": "code",
   "execution_count": 5,
   "metadata": {
    "collapsed": false,
    "scrolled": true
   },
   "outputs": [
    {
     "data": {
      "text/plain": [
       "'T, __abs__, __add__, __and__, __array__, __array_finalize__, __array_interface__, __array_prepare__, __array_priority__, __array_struct__, __array_wrap__, __bool__, __class__, __contains__, __copy__, __deepcopy__, __delattr__, __delitem__, __dir__, __divmod__, __doc__, __eq__, __float__, __floordiv__, __format__, __ge__, __getattribute__, __getitem__, __gt__, __hash__, __iadd__, __iand__, __ifloordiv__, __ilshift__, __imod__, __imul__, __index__, __init__, __int__, __invert__, __ior__, __ipow__, __irshift__, __isub__, __iter__, __itruediv__, __ixor__, __le__, __len__, __lshift__, __lt__, __mod__, __mul__, __ne__, __neg__, __new__, __or__, __pos__, __pow__, __radd__, __rand__, __rdivmod__, __reduce__, __reduce_ex__, __repr__, __rfloordiv__, __rlshift__, __rmod__, __rmul__, __ror__, __rpow__, __rrshift__, __rshift__, __rsub__, __rtruediv__, __rxor__, __setattr__, __setitem__, __setstate__, __sizeof__, __str__, __sub__, __subclasshook__, __truediv__, __xor__, all, any, argmax, argmin, argpartition, argsort, astype, base, byteswap, choose, clip, compress, conj, conjugate, copy, ctypes, cumprod, cumsum, data, diagonal, dot, dtype, dump, dumps, fill, flags, flat, flatten, getfield, imag, item, itemset, itemsize, max, mean, min, nbytes, ndim, newbyteorder, nonzero, partition, prod, ptp, put, ravel, real, repeat, reshape, resize, round, searchsorted, setfield, setflags, shape, size, sort, squeeze, std, strides, sum, swapaxes, take, tofile, tolist, tostring, trace, transpose, var, view'"
      ]
     },
     "execution_count": 5,
     "metadata": {},
     "output_type": "execute_result"
    }
   ],
   "source": [
    "\", \".join(dir(data))"
   ]
  },
  {
   "cell_type": "markdown",
   "metadata": {
    "slideshow": {
     "slide_type": "notes"
    }
   },
   "source": [
    "A lot of the magic methods here, those with double underscores on either side, allow Python to treat this object more like a built-in. For instance, the `__neg__` method will get called when we enter `-data`. If we try `data1 < data2`, then `data1.__lt__` will be called with `data2` as an argument, expecting a boolean return. The behaviour when the user writes `data.previously_unknown_attr` is defined by the `__getattr__` method - this need not be an error. In some ways, you can think of this as an expansion of the concept of operator overloading.\n",
    "\n",
    "The `ndarray` class uses those methods very effectively, to help us write clear and efficient code."
   ]
  },
  {
   "cell_type": "code",
   "execution_count": 6,
   "metadata": {
    "collapsed": false,
    "slideshow": {
     "slide_type": "slide"
    }
   },
   "outputs": [
    {
     "name": "stdout",
     "output_type": "stream",
     "text": [
      "[[ 0.  0.  2. ...,  6.  0.  0.]\n",
      " [ 0.  2.  4. ...,  2.  0.  2.]\n",
      " [ 0.  2.  2. ...,  4.  2.  2.]\n",
      " ..., \n",
      " [ 0.  2.  2. ...,  2.  2.  2.]\n",
      " [ 0.  0.  0. ...,  0.  4.  0.]\n",
      " [ 0.  0.  2. ...,  2.  2.  0.]]\n"
     ]
    }
   ],
   "source": [
    "print(data * 2)"
   ]
  },
  {
   "cell_type": "markdown",
   "metadata": {},
   "source": [
    "This works because `numpy` has overridden the `__mul__` method."
   ]
  },
  {
   "cell_type": "markdown",
   "metadata": {
    "slideshow": {
     "slide_type": "slide"
    }
   },
   "source": [
    "We can also do our slicing in multiple dimensions... let's get the top-left corner..."
   ]
  },
  {
   "cell_type": "code",
   "execution_count": 7,
   "metadata": {
    "collapsed": false
   },
   "outputs": [
    {
     "data": {
      "text/plain": [
       "array([[ 0.,  0.,  1.],\n",
       "       [ 0.,  1.,  2.],\n",
       "       [ 0.,  1.,  1.]])"
      ]
     },
     "execution_count": 7,
     "metadata": {},
     "output_type": "execute_result"
    }
   ],
   "source": [
    "data[0:3, 0:3]"
   ]
  },
  {
   "cell_type": "code",
   "execution_count": 8,
   "metadata": {
    "collapsed": false
   },
   "outputs": [
    {
     "data": {
      "text/plain": [
       "array([[ 0.,  0.,  1.],\n",
       "       [ 0.,  1.,  2.],\n",
       "       [ 0.,  1.,  1.]])"
      ]
     },
     "execution_count": 8,
     "metadata": {},
     "output_type": "execute_result"
    }
   ],
   "source": [
    "data[:3,:3]"
   ]
  },
  {
   "cell_type": "markdown",
   "metadata": {
    "slideshow": {
     "slide_type": "notes"
    }
   },
   "source": [
    "...or more succinctly..."
   ]
  },
  {
   "cell_type": "markdown",
   "metadata": {
    "slideshow": {
     "slide_type": "slide"
    }
   },
   "source": [
    "Try grabbing the bottom left corner (3x3)..."
   ]
  },
  {
   "cell_type": "code",
   "execution_count": 9,
   "metadata": {
    "collapsed": true
   },
   "outputs": [],
   "source": [
    "# Use this cell!"
   ]
  },
  {
   "cell_type": "markdown",
   "metadata": {
    "slideshow": {
     "slide_type": "slide"
    }
   },
   "source": [
    "A few more practical uses of `nparray`:"
   ]
  },
  {
   "cell_type": "code",
   "execution_count": 10,
   "metadata": {
    "collapsed": false,
    "slideshow": {
     "slide_type": "fragment"
    }
   },
   "outputs": [
    {
     "data": {
      "text/plain": [
       "(6.1487499999999997, 20.0, 0.0)"
      ]
     },
     "execution_count": 10,
     "metadata": {},
     "output_type": "execute_result"
    }
   ],
   "source": [
    "data.mean(), data.max(), data.min()"
   ]
  },
  {
   "cell_type": "code",
   "execution_count": 11,
   "metadata": {
    "collapsed": false,
    "slideshow": {
     "slide_type": "fragment"
    }
   },
   "outputs": [
    {
     "data": {
      "text/plain": [
       "17.0"
      ]
     },
     "execution_count": 11,
     "metadata": {},
     "output_type": "execute_result"
    }
   ],
   "source": [
    "data[3].max()  # Max inflammation for 4th patient"
   ]
  },
  {
   "cell_type": "markdown",
   "metadata": {},
   "source": [
    "This could also be written `data[3,:]` - colon on its own just signifies all entries in that axis, from first to last"
   ]
  },
  {
   "cell_type": "code",
   "execution_count": 12,
   "metadata": {
    "collapsed": false,
    "slideshow": {
     "slide_type": "fragment"
    }
   },
   "outputs": [
    {
     "data": {
      "text/plain": [
       "1.0"
      ]
     },
     "execution_count": 12,
     "metadata": {},
     "output_type": "execute_result"
    }
   ],
   "source": [
    "data[:,1].max() # Max infl for 2nd day"
   ]
  },
  {
   "cell_type": "markdown",
   "metadata": {
    "slideshow": {
     "slide_type": "slide"
    }
   },
   "source": [
    "Suppose we want the max for every day..."
   ]
  },
  {
   "cell_type": "markdown",
   "metadata": {
    "slideshow": {
     "slide_type": "notes"
    }
   },
   "source": [
    "We could create a new list and write a loop to go through it, but it seems there should be a more transparent, succinct, *Pythonic* approach"
   ]
  },
  {
   "cell_type": "code",
   "execution_count": 13,
   "metadata": {
    "collapsed": false,
    "slideshow": {
     "slide_type": "fragment"
    }
   },
   "outputs": [
    {
     "data": {
      "text/plain": [
       "array([  0.,   1.,   2.,   3.,   4.,   5.,   6.,   7.,   8.,   9.,  10.,\n",
       "        11.,  12.,  13.,  14.,  15.,  16.,  17.,  18.,  19.,  20.,  19.,\n",
       "        18.,  17.,  16.,  15.,  14.,  13.,  12.,  11.,  10.,   9.,   8.,\n",
       "         7.,   6.,   5.,   4.,   3.,   2.,   1.])"
      ]
     },
     "execution_count": 13,
     "metadata": {},
     "output_type": "execute_result"
    }
   ],
   "source": [
    "data.max(axis=0)"
   ]
  },
  {
   "cell_type": "markdown",
   "metadata": {
    "slideshow": {
     "slide_type": "notes"
    }
   },
   "source": [
    "As you can see, the second day does indeed have `max` of `1.0`. Notice that it returns an array (this is a superclass of `ndarray`), so we can do...\n",
    "\n",
    "An aside: this is the first time you have seen a named argument. In an argument list of a function, you can supply a name for arguments:"
   ]
  },
  {
   "cell_type": "markdown",
   "metadata": {
    "slideshow": {
     "slide_type": "fragment"
    }
   },
   "source": [
    "```python\n",
    "def some_function(arg1, info=38, axis=None):\n",
    "   ...\n",
    "```"
   ]
  },
  {
   "cell_type": "markdown",
   "metadata": {},
   "source": [
    "To write a function like this, you must provide a default for the argument. You can then call the function only passing a subset of arguments, as you have just seen."
   ]
  },
  {
   "cell_type": "code",
   "execution_count": 14,
   "metadata": {
    "collapsed": false,
    "slideshow": {
     "slide_type": "fragment"
    }
   },
   "outputs": [
    {
     "data": {
      "text/plain": [
       "(40,)"
      ]
     },
     "execution_count": 14,
     "metadata": {},
     "output_type": "execute_result"
    }
   ],
   "source": [
    "data.max(axis=0).shape"
   ]
  },
  {
   "cell_type": "markdown",
   "metadata": {
    "slideshow": {
     "slide_type": "notes"
    }
   },
   "source": [
    "This shouldn't be surprising - we take the average over all patients for each of 40 days, so we end up with a 40 element array."
   ]
  },
  {
   "cell_type": "markdown",
   "metadata": {
    "slideshow": {
     "slide_type": "slide"
    }
   },
   "source": [
    "Try using the following cell to get the mean inflammation over all patients for each of the first three days..."
   ]
  },
  {
   "cell_type": "markdown",
   "metadata": {
    "slideshow": {
     "slide_type": "notes"
    }
   },
   "source": [
    "(you should use slicing and end up with a 3 element array)"
   ]
  },
  {
   "cell_type": "code",
   "execution_count": 15,
   "metadata": {
    "collapsed": true
   },
   "outputs": [],
   "source": [
    "# Use this cell!"
   ]
  },
  {
   "cell_type": "markdown",
   "metadata": {
    "slideshow": {
     "slide_type": "slide"
    }
   },
   "source": [
    "# RIGHT\n",
    "## Enough text."
   ]
  },
  {
   "cell_type": "markdown",
   "metadata": {
    "slideshow": {
     "slide_type": "notes"
    }
   },
   "source": [
    "Programming isn't about writing reams of code, it's about getting stuff done and having fun while doing it. Right? Right. Right. RIGHT.\n",
    "\n",
    "In any case, when examining data, it's a whole lot more pleasant and efficient to see visualizations, so lets get started with some plotting."
   ]
  },
  {
   "cell_type": "markdown",
   "metadata": {
    "slideshow": {
     "slide_type": "slide"
    }
   },
   "source": [
    "# Plotting\n",
    "## Like we're Brutus the Younger"
   ]
  },
  {
   "cell_type": "markdown",
   "metadata": {
    "slideshow": {
     "slide_type": "slide"
    }
   },
   "source": [
    "First, we use a magic method that works in Jupyter (strictly, in its IPython backend)"
   ]
  },
  {
   "cell_type": "code",
   "execution_count": 16,
   "metadata": {
    "collapsed": false
   },
   "outputs": [],
   "source": [
    "# Switch on the joy\n",
    "% matplotlib inline"
   ]
  },
  {
   "cell_type": "markdown",
   "metadata": {
    "slideshow": {
     "slide_type": "fragment"
    }
   },
   "source": [
    "Now for inline plotting we can use the `matplotlib` module, the go-to for Python plotting (but not in the Dijkstra sense)..."
   ]
  },
  {
   "cell_type": "code",
   "execution_count": 17,
   "metadata": {
    "collapsed": false,
    "slideshow": {
     "slide_type": "fragment"
    }
   },
   "outputs": [
    {
     "data": {
      "image/png": "[encoded data removed]",
      "text/plain": [
       "<matplotlib.figure.Figure at 0x7f01c1d30550>"
      ]
     },
     "metadata": {},
     "output_type": "display_data"
    }
   ],
   "source": [
    "import matplotlib\n",
    "pretty_pic = matplotlib.pyplot.imshow(data)\n",
    "matplotlib.pyplot.show(pretty_pic)"
   ]
  },
  {
   "cell_type": "markdown",
   "metadata": {
    "slideshow": {
     "slide_type": "notes"
    }
   },
   "source": [
    "MMMM. Pretty. Red shows greater inflammation, and what we may have guessed from the bits of CSV we saw, inflammation starts low, grows and reduces. Patients along the side, days along the bottom."
   ]
  },
  {
   "cell_type": "markdown",
   "metadata": {
    "slideshow": {
     "slide_type": "slide"
    }
   },
   "source": [
    "Time for a challenge... plot the heat map (as above) for the fourth, fifth and sixth patients, transposed with days up the side. The easiest way is to [start with Google](https://www.google.ie/search?q=numpy+ndarray+transpose)... But first, put up your stars so I can see them!"
   ]
  },
  {
   "cell_type": "code",
   "execution_count": 18,
   "metadata": {
    "collapsed": true
   },
   "outputs": [],
   "source": [
    "# Use this cell!"
   ]
  },
  {
   "cell_type": "markdown",
   "metadata": {
    "slideshow": {
     "slide_type": "slide"
    }
   },
   "source": [
    "# Reproducible Plots\n",
    "\n",
    "If you come from a MATLAB background, or use other plotting tools, you will be used to saving/re-opening a plot..."
   ]
  },
  {
   "cell_type": "markdown",
   "metadata": {
    "slideshow": {
     "slide_type": "fragment"
    }
   },
   "source": [
    "...in Python you normally have a plotting script that you run each time (and save the image)."
   ]
  },
  {
   "cell_type": "markdown",
   "metadata": {
    "slideshow": {
     "slide_type": "slide"
    }
   },
   "source": [
    "## Cons\n",
    "\n",
    "* You have no standard GUI for designing plots\n",
    "* If your plot involves lots of processing, it's slow to open"
   ]
  },
  {
   "cell_type": "markdown",
   "metadata": {
    "slideshow": {
     "slide_type": "fragment"
    }
   },
   "source": [
    "## Pros\n",
    "\n",
    "* Changes are trivially easy\n",
    "* Every time you open the plot, it contains current data"
   ]
  },
  {
   "cell_type": "markdown",
   "metadata": {
    "slideshow": {
     "slide_type": "slide"
    }
   },
   "source": [
    "## Con-workarounds\n",
    "\n",
    "* There are libraries for adding GUI elements to plots\n",
    "* You can split into two scripts\n",
    " * output processed data\n",
    " * plot"
   ]
  },
  {
   "cell_type": "markdown",
   "metadata": {
    "slideshow": {
     "slide_type": "slide"
    }
   },
   "source": [
    "# Example plotting script"
   ]
  },
  {
   "cell_type": "code",
   "execution_count": 19,
   "metadata": {
    "collapsed": false
   },
   "outputs": [
    {
     "data": {
      "image/png": "[encoded data removed]",
      "text/plain": [
       "<matplotlib.figure.Figure at 0x7f01c1cba198>"
      ]
     },
     "metadata": {},
     "output_type": "display_data"
    }
   ],
   "source": [
    "import numpy as np\n",
    "from matplotlib import pyplot\n",
    "\n",
    "data = np.loadtxt(fname='data/inflammation-01.csv', delimiter=',')\n",
    "pyplot.figure(figsize=(5.0, 3.0))\n",
    "\n",
    "pyplot.xlabel('Day')    \n",
    "pyplot.ylabel('Inflammation')\n",
    "\n",
    "pyplot.plot(data.mean(axis=0), label='Average')\n",
    "pyplot.plot(data.max(axis=0), label='Max')\n",
    "pyplot.plot(data.min(axis=0), label='Min')\n",
    "pyplot.legend()\n",
    "\n",
    "pyplot.show()"
   ]
  },
  {
   "cell_type": "code",
   "execution_count": 20,
   "metadata": {
    "collapsed": false,
    "scrolled": false,
    "slideshow": {
     "slide_type": "slide"
    }
   },
   "outputs": [
    {
     "ename": "IndexError",
     "evalue": "list index out of range",
     "output_type": "error",
     "traceback": [
      "\u001b[1;31m---------------------------------------------------------------------------\u001b[0m",
      "\u001b[1;31mIndexError\u001b[0m                                Traceback (most recent call last)",
      "\u001b[1;32m<ipython-input-20-6ed111e0acbd>\u001b[0m in \u001b[0;36m<module>\u001b[1;34m()\u001b[0m\n\u001b[1;32m----> 1\u001b[1;33m \u001b[0mexec\u001b[0m\u001b[1;33m(\u001b[0m\u001b[0mIn\u001b[0m\u001b[1;33m[\u001b[0m\u001b[1;36m42\u001b[0m\u001b[1;33m]\u001b[0m\u001b[1;33m)\u001b[0m  \u001b[1;31m# Cheeky way to reshow output... forget immediately.\u001b[0m\u001b[1;33m\u001b[0m\u001b[0m\n\u001b[0m",
      "\u001b[1;31mIndexError\u001b[0m: list index out of range"
     ]
    }
   ],
   "source": [
    "exec(In[42])  # Cheeky way to reshow output... forget immediately."
   ]
  },
  {
   "cell_type": "markdown",
   "metadata": {
    "slideshow": {
     "slide_type": "notes"
    }
   },
   "source": [
    "Now if I want to modify some part... I can do so and have the updated plot straight-away"
   ]
  },
  {
   "cell_type": "markdown",
   "metadata": {
    "slideshow": {
     "slide_type": "notes"
    }
   },
   "source": [
    "This particular syntax is for fairly basic use, with only one set of axis and so forth, but it's probably quite familiar if you are coming from MATLAB. If we want to expand a bit more, first we use a more classic matplotlib approach, and neater programming approach, by setting properties directly on specific objects, such as axes..."
   ]
  },
  {
   "cell_type": "code",
   "execution_count": 21,
   "metadata": {
    "collapsed": false,
    "slideshow": {
     "slide_type": "slide"
    }
   },
   "outputs": [
    {
     "data": {
      "image/png": "[encoded data removed]",
      "text/plain": [
       "<matplotlib.figure.Figure at 0x7f01c1bd8cc0>"
      ]
     },
     "metadata": {},
     "output_type": "display_data"
    }
   ],
   "source": [
    "# This is the whole figure, possibly\n",
    "# with multiple subplots\n",
    "fig = pyplot.figure(figsize=(5.0, 3.0))\n",
    "\n",
    "# This is a specific set of axes\n",
    "axes = fig.add_subplot(1, 1, 1)\n",
    "axes.set_xlabel('Day')\n",
    "axes.set_ylabel('Inflammation')\n",
    "\n",
    "axes.plot(data.mean(axis=0), label='Average')\n",
    "axes.plot(data.max(axis=0), label='Max')\n",
    "axes.plot(data.min(axis=0), label='Min')\n",
    "axes.legend()\n",
    "\n",
    "pyplot.show()"
   ]
  },
  {
   "cell_type": "markdown",
   "metadata": {
    "slideshow": {
     "slide_type": "notes"
    }
   },
   "source": [
    "Not particularly more complicated, but more flexible... say we have a series of plots..."
   ]
  },
  {
   "cell_type": "code",
   "execution_count": 22,
   "metadata": {
    "collapsed": false,
    "slideshow": {
     "slide_type": "slide"
    }
   },
   "outputs": [
    {
     "data": {
      "image/png": "[encoded data removed]",
      "text/plain": [
       "<matplotlib.figure.Figure at 0x7f01c037c0f0>"
      ]
     },
     "metadata": {},
     "output_type": "display_data"
    }
   ],
   "source": [
    "fig = pyplot.figure(figsize=(10.0, 3.0))\n",
    "\n",
    "axes = []  # Blank list\n",
    "for i in range(1, 4):\n",
    "    ax = fig.add_subplot(1, 3, i)\n",
    "    ax.set_xlabel('Day')\n",
    "    axes.append(ax)\n",
    "    \n",
    "axes[0].set_ylabel('Average')\n",
    "axes[1].set_ylabel('Max')\n",
    "axes[2].set_ylabel('Min')\n",
    "\n",
    "axes[0].plot(data.mean(axis=0))\n",
    "axes[1].plot(data.max(axis=0))\n",
    "axes[2].plot(data.min(axis=0))\n",
    "\n",
    "fig.tight_layout()\n",
    "pyplot.show(fig)"
   ]
  },
  {
   "cell_type": "markdown",
   "metadata": {
    "slideshow": {
     "slide_type": "slide"
    }
   },
   "source": [
    "# Challenge\n",
    "\n",
    "## Put up your stars!!"
   ]
  },
  {
   "cell_type": "markdown",
   "metadata": {
    "slideshow": {
     "slide_type": "fragment"
    }
   },
   "source": [
    "Modify the previous cell to give the max line with a dash, the blue line with dots and the red line solid.\n",
    "\n",
    "Even better, add a title at the top."
   ]
  },
  {
   "cell_type": "markdown",
   "metadata": {
    "slideshow": {
     "slide_type": "notes"
    }
   },
   "source": [
    "When done, swap to the arrow. If you find this very easy and are waiting, leave your arrow up and have a go at plotting all the patients in very light grey behind your three coloured lines. See how long it takes to run for those 63 lines."
   ]
  },
  {
   "cell_type": "markdown",
   "metadata": {
    "slideshow": {
     "slide_type": "fragment"
    }
   },
   "source": [
    "RMV: To get you started, Google **pyplot line style** and pick the **pylab_examples example code** link..."
   ]
  },
  {
   "cell_type": "markdown",
   "metadata": {
    "slideshow": {
     "slide_type": "notes"
    }
   },
   "source": [
    "Bear in mind, and this is particularly the case with matplotlib, that there are multiple similar tools with slightly different configurations and long lists of technical documentation - try not to get lost in them and use Etherpad to flags things up. However, short examples are findable via Google, especially via Stack Overflow, that get you going fast."
   ]
  },
  {
   "cell_type": "markdown",
   "metadata": {
    "slideshow": {
     "slide_type": "slide"
    }
   },
   "source": [
    "# But...\n",
    "## Not so interactive"
   ]
  },
  {
   "cell_type": "markdown",
   "metadata": {
    "slideshow": {
     "slide_type": "notes"
    }
   },
   "source": [
    "If we are using Jupyter, it is probably because we want to have something interactive. Fixed plots in a web-page make it seem like something is missing."
   ]
  },
  {
   "cell_type": "markdown",
   "metadata": {
    "slideshow": {
     "slide_type": "slide"
    }
   },
   "source": [
    "# Bokeh\n",
    "## Dynamic plots"
   ]
  },
  {
   "cell_type": "code",
   "execution_count": 24,
   "metadata": {
    "collapsed": false
   },
   "outputs": [
    {
     "data": {
      "text/html": [
       "\n",
       "\n",
       "    <script type=\"text/javascript\">\n",
       "      \n",
       "      (function(global) {\n",
       "        function now() {\n",
       "          return new Date();\n",
       "        }\n",
       "      \n",
       "        if (typeof (window._bokeh_onload_callbacks) === \"undefined\") {\n",
       "          window._bokeh_onload_callbacks = [];\n",
       "        }\n",
       "      \n",
       "        function run_callbacks() {\n",
       "          window._bokeh_onload_callbacks.forEach(function(callback) { callback() });\n",
       "          delete window._bokeh_onload_callbacks\n",
       "          console.info(\"Bokeh: all callbacks have finished\");\n",
       "        }\n",
       "      \n",
       "        function load_libs(js_urls, callback) {\n",
       "          window._bokeh_onload_callbacks.push(callback);\n",
       "          if (window._bokeh_is_loading > 0) {\n",
       "            console.log(\"Bokeh: BokehJS is being loaded, scheduling callback at\", now());\n",
       "            return null;\n",
       "          }\n",
       "          if (js_urls == null || js_urls.length === 0) {\n",
       "            run_callbacks();\n",
       "            return null;\n",
       "          }\n",
       "          console.log(\"Bokeh: BokehJS not loaded, scheduling load and callback at\", now());\n",
       "          window._bokeh_is_loading = js_urls.length;\n",
       "          for (var i = 0; i < js_urls.length; i++) {\n",
       "            var url = js_urls[i];\n",
       "            var s = document.createElement('script');\n",
       "            s.src = url;\n",
       "            s.async = false;\n",
       "            s.onreadystatechange = s.onload = function() {\n",
       "              window._bokeh_is_loading--;\n",
       "              if (window._bokeh_is_loading === 0) {\n",
       "                console.log(\"Bokeh: all BokehJS libraries loaded\");\n",
       "                run_callbacks()\n",
       "              }\n",
       "            };\n",
       "            s.onerror = function() {\n",
       "              console.warn(\"failed to load library \" + url);\n",
       "            };\n",
       "            console.log(\"Bokeh: injecting script tag for BokehJS library: \", url);\n",
       "            document.getElementsByTagName(\"head\")[0].appendChild(s);\n",
       "          }\n",
       "        };var js_urls = ['https://cdn.pydata.org/bokeh/release/bokeh-0.11.0.min.js', 'https://cdn.pydata.org/bokeh/release/bokeh-widgets-0.11.0.min.js', 'https://cdn.pydata.org/bokeh/release/bokeh-compiler-0.11.0.min.js'];\n",
       "      \n",
       "        var inline_js = [\n",
       "          function(Bokeh) {\n",
       "            Bokeh.set_log_level(\"info\");\n",
       "          },\n",
       "          function(Bokeh) {\n",
       "            console.log(\"Bokeh: injecting CSS: https://cdn.pydata.org/bokeh/release/bokeh-0.11.0.min.css\");\n",
       "            Bokeh.embed.inject_css(\"https://cdn.pydata.org/bokeh/release/bokeh-0.11.0.min.css\");\n",
       "            console.log(\"Bokeh: injecting CSS: https://cdn.pydata.org/bokeh/release/bokeh-widgets-0.11.0.min.css\");\n",
       "            Bokeh.embed.inject_css(\"https://cdn.pydata.org/bokeh/release/bokeh-widgets-0.11.0.min.css\");\n",
       "          }\n",
       "        ];\n",
       "      \n",
       "        function run_inline_js() {\n",
       "          for (var i = 0; i < inline_js.length; i++) {\n",
       "            inline_js[i](window.Bokeh);\n",
       "          }\n",
       "        }\n",
       "      \n",
       "        if (window._bokeh_is_loading === 0) {\n",
       "          console.log(\"Bokeh: BokehJS loaded, going straight to plotting\");\n",
       "          run_inline_js();\n",
       "        } else {\n",
       "          load_libs(js_urls, function() {\n",
       "            console.log(\"Bokeh: BokehJS plotting callback run at\", now());\n",
       "            run_inline_js();\n",
       "          });\n",
       "        }\n",
       "      }(this));\n",
       "    </script>\n",
       "    <div>\n",
       "        <a href=\"http://bokeh.pydata.org\" target=\"_blank\" class=\"bk-logo bk-logo-small bk-logo-notebook\"></a>\n",
       "        <span>BokehJS successfully loaded.</span>\n",
       "    </div>"
      ]
     },
     "metadata": {},
     "output_type": "display_data"
    }
   ],
   "source": [
    "import bokeh.plotting as bplot\n",
    "from bokeh.io import output_notebook\n",
    "output_notebook()"
   ]
  },
  {
   "cell_type": "markdown",
   "metadata": {},
   "source": [
    "If this works, you should see an icon like a rainbow-coloured camera shutter."
   ]
  },
  {
   "cell_type": "code",
   "execution_count": 25,
   "metadata": {
    "collapsed": false,
    "slideshow": {
     "slide_type": "slide"
    }
   },
   "outputs": [
    {
     "data": {
      "text/html": [
       "\n",
       "\n",
       "    <div class=\"plotdiv\" id=\"a22934e1-d443-4731-bb35-bf28b297201b\"></div>\n",
       "<script type=\"text/javascript\">\n",
       "  \n",
       "  (function(global) {\n",
       "    function now() {\n",
       "      return new Date();\n",
       "    }\n",
       "  \n",
       "    if (typeof (window._bokeh_onload_callbacks) === \"undefined\") {\n",
       "      window._bokeh_onload_callbacks = [];\n",
       "    }\n",
       "  \n",
       "    function run_callbacks() {\n",
       "      window._bokeh_onload_callbacks.forEach(function(callback) { callback() });\n",
       "      delete window._bokeh_onload_callbacks\n",
       "      console.info(\"Bokeh: all callbacks have finished\");\n",
       "    }\n",
       "  \n",
       "    function load_libs(js_urls, callback) {\n",
       "      window._bokeh_onload_callbacks.push(callback);\n",
       "      if (window._bokeh_is_loading > 0) {\n",
       "        console.log(\"Bokeh: BokehJS is being loaded, scheduling callback at\", now());\n",
       "        return null;\n",
       "      }\n",
       "      if (js_urls == null || js_urls.length === 0) {\n",
       "        run_callbacks();\n",
       "        return null;\n",
       "      }\n",
       "      console.log(\"Bokeh: BokehJS not loaded, scheduling load and callback at\", now());\n",
       "      window._bokeh_is_loading = js_urls.length;\n",
       "      for (var i = 0; i < js_urls.length; i++) {\n",
       "        var url = js_urls[i];\n",
       "        var s = document.createElement('script');\n",
       "        s.src = url;\n",
       "        s.async = false;\n",
       "        s.onreadystatechange = s.onload = function() {\n",
       "          window._bokeh_is_loading--;\n",
       "          if (window._bokeh_is_loading === 0) {\n",
       "            console.log(\"Bokeh: all BokehJS libraries loaded\");\n",
       "            run_callbacks()\n",
       "          }\n",
       "        };\n",
       "        s.onerror = function() {\n",
       "          console.warn(\"failed to load library \" + url);\n",
       "        };\n",
       "        console.log(\"Bokeh: injecting script tag for BokehJS library: \", url);\n",
       "        document.getElementsByTagName(\"head\")[0].appendChild(s);\n",
       "      }\n",
       "    };var element = document.getElementById(\"a22934e1-d443-4731-bb35-bf28b297201b\");\n",
       "    if (element == null) {\n",
       "      console.log(\"Bokeh: ERROR: autoload.js configured with elementid 'a22934e1-d443-4731-bb35-bf28b297201b' but no matching script tag was found. \")\n",
       "      return false;\n",
       "    }var js_urls = [];\n",
       "  \n",
       "    var inline_js = [\n",
       "      function(Bokeh) {\n",
       "        Bokeh.$(function() {\n",
       "            var docs_json = {\"1d18802a-d14a-48d8-b27f-3a1156c04c02\": {\"roots\": {\"root_ids\": [\"6dc380a6-b1ae-4eff-9330-34cd39dbf16e\"], \"references\": [{\"type\": \"Grid\", \"attributes\": {\"plot\": {\"type\": \"Plot\", \"id\": \"6dc380a6-b1ae-4eff-9330-34cd39dbf16e\", \"subtype\": \"Figure\"}, \"ticker\": {\"type\": \"BasicTicker\", \"id\": \"6f2708b1-b5d3-4de2-b645-7dae672c2f55\"}}, \"id\": \"aac412d8-6531-4e5c-8410-fa632abd44e7\"}, {\"type\": \"ResizeTool\", \"attributes\": {\"plot\": {\"type\": \"Plot\", \"id\": \"6dc380a6-b1ae-4eff-9330-34cd39dbf16e\", \"subtype\": \"Figure\"}}, \"id\": \"08bfd82b-58c8-4896-9b8d-01ae3bc83239\"}, {\"type\": \"HelpTool\", \"attributes\": {\"plot\": {\"type\": \"Plot\", \"id\": \"6dc380a6-b1ae-4eff-9330-34cd39dbf16e\", \"subtype\": \"Figure\"}}, \"id\": \"1011f937-ee8a-41a9-907b-8d34cb40ce8d\"}, {\"type\": \"GlyphRenderer\", \"attributes\": {\"nonselection_glyph\": {\"type\": \"Line\", \"id\": \"f7cf2a29-764d-42d6-9d55-6bafc124031a\"}, \"data_source\": {\"type\": \"ColumnDataSource\", \"id\": \"dd50e726-ffe3-4417-b3ca-50a196179c38\"}, \"selection_glyph\": null, \"hover_glyph\": null, \"glyph\": {\"type\": \"Line\", \"id\": \"e7fad632-f2c7-4009-b318-dc02d18a7ba2\"}}, \"id\": \"b348930d-48c1-4feb-a831-038bb4383812\"}, {\"type\": \"Grid\", \"attributes\": {\"plot\": {\"type\": \"Plot\", \"id\": \"6dc380a6-b1ae-4eff-9330-34cd39dbf16e\", \"subtype\": \"Figure\"}, \"dimension\": 1, \"ticker\": {\"type\": \"BasicTicker\", \"id\": \"8528bf71-b88e-4169-b7b0-efeb18d34714\"}}, \"id\": \"21c2b41b-4e43-4cfb-aefe-4ea3b1606de5\"}, {\"type\": \"WheelZoomTool\", \"attributes\": {\"plot\": {\"type\": \"Plot\", \"id\": \"6dc380a6-b1ae-4eff-9330-34cd39dbf16e\", \"subtype\": \"Figure\"}}, \"id\": \"44562f08-da51-4b94-b731-efb480b49cd6\"}, {\"type\": \"LinearAxis\", \"attributes\": {\"axis_label\": \"Day\", \"plot\": {\"type\": \"Plot\", \"id\": \"6dc380a6-b1ae-4eff-9330-34cd39dbf16e\", \"subtype\": \"Figure\"}, \"formatter\": {\"type\": \"BasicTickFormatter\", \"id\": \"23b5a85c-6606-4e76-9e68-aaebdb838bb1\"}, \"ticker\": {\"type\": \"BasicTicker\", \"id\": \"6f2708b1-b5d3-4de2-b645-7dae672c2f55\"}}, \"id\": \"c2ea5ac0-9f32-4628-970a-c785676f0006\"}, {\"type\": \"BoxAnnotation\", \"attributes\": {\"fill_alpha\": {\"value\": 0.5}, \"line_dash\": [4, 4], \"render_mode\": \"css\", \"bottom_units\": \"screen\", \"right_units\": \"screen\", \"line_alpha\": {\"value\": 1.0}, \"plot\": null, \"top_units\": \"screen\", \"fill_color\": {\"value\": \"lightgrey\"}, \"line_width\": {\"value\": 2}, \"left_units\": \"screen\", \"level\": \"overlay\", \"line_color\": {\"value\": \"black\"}}, \"id\": \"239738b3-b75b-4a73-a0e2-7f8200ec241d\"}, {\"type\": \"Line\", \"attributes\": {\"line_color\": {\"value\": \"#1f77b4\"}, \"x\": {\"field\": \"x\"}, \"y\": {\"field\": \"y\"}}, \"id\": \"e7fad632-f2c7-4009-b318-dc02d18a7ba2\"}, {\"type\": \"BasicTickFormatter\", \"attributes\": {}, \"id\": \"44518742-21f2-4fb7-9cf8-3a5ca69ee9de\"}, {\"type\": \"Line\", \"attributes\": {\"line_alpha\": {\"value\": 0.1}, \"line_color\": {\"value\": \"#1f77b4\"}, \"x\": {\"field\": \"x\"}, \"y\": {\"field\": \"y\"}}, \"id\": \"f7cf2a29-764d-42d6-9d55-6bafc124031a\"}, {\"type\": \"BoxZoomTool\", \"attributes\": {\"plot\": {\"type\": \"Plot\", \"id\": \"6dc380a6-b1ae-4eff-9330-34cd39dbf16e\", \"subtype\": \"Figure\"}, \"overlay\": {\"type\": \"BoxAnnotation\", \"id\": \"239738b3-b75b-4a73-a0e2-7f8200ec241d\"}}, \"id\": \"b4c483d1-35a5-4fcc-971e-cef677d7d3db\"}, {\"type\": \"DataRange1d\", \"attributes\": {\"callback\": null}, \"id\": \"c2bd80c7-53a1-4f26-8e4e-f88c88bb29fc\"}, {\"type\": \"BasicTicker\", \"attributes\": {}, \"id\": \"8528bf71-b88e-4169-b7b0-efeb18d34714\"}, {\"type\": \"ToolEvents\", \"attributes\": {}, \"id\": \"0cbe1e29-5e15-45c7-96db-f8d7e06e28fb\"}, {\"type\": \"BasicTickFormatter\", \"attributes\": {}, \"id\": \"23b5a85c-6606-4e76-9e68-aaebdb838bb1\"}, {\"type\": \"Plot\", \"attributes\": {\"x_range\": {\"type\": \"DataRange1d\", \"id\": \"f2131dd8-3835-4883-bf02-24fe5b60b45e\"}, \"left\": [{\"type\": \"LinearAxis\", \"id\": \"fa6cb4af-b6ab-4783-92a1-5540e728301e\"}], \"renderers\": [{\"type\": \"LinearAxis\", \"id\": \"c2ea5ac0-9f32-4628-970a-c785676f0006\"}, {\"type\": \"Grid\", \"id\": \"aac412d8-6531-4e5c-8410-fa632abd44e7\"}, {\"type\": \"LinearAxis\", \"id\": \"fa6cb4af-b6ab-4783-92a1-5540e728301e\"}, {\"type\": \"Grid\", \"id\": \"21c2b41b-4e43-4cfb-aefe-4ea3b1606de5\"}, {\"type\": \"BoxAnnotation\", \"id\": \"239738b3-b75b-4a73-a0e2-7f8200ec241d\"}, {\"type\": \"GlyphRenderer\", \"id\": \"b348930d-48c1-4feb-a831-038bb4383812\"}], \"tool_events\": {\"type\": \"ToolEvents\", \"id\": \"0cbe1e29-5e15-45c7-96db-f8d7e06e28fb\"}, \"tools\": [{\"type\": \"PanTool\", \"id\": \"a6230222-2a1a-480e-914f-4cceb60c4636\"}, {\"type\": \"WheelZoomTool\", \"id\": \"44562f08-da51-4b94-b731-efb480b49cd6\"}, {\"type\": \"BoxZoomTool\", \"id\": \"b4c483d1-35a5-4fcc-971e-cef677d7d3db\"}, {\"type\": \"PreviewSaveTool\", \"id\": \"1238c933-e670-45b5-b0bb-78bf3b54eea5\"}, {\"type\": \"ResizeTool\", \"id\": \"08bfd82b-58c8-4896-9b8d-01ae3bc83239\"}, {\"type\": \"ResetTool\", \"id\": \"299bea49-2051-4a1d-93d4-bdd20bcac595\"}, {\"type\": \"HelpTool\", \"id\": \"1011f937-ee8a-41a9-907b-8d34cb40ce8d\"}], \"y_range\": {\"type\": \"DataRange1d\", \"id\": \"c2bd80c7-53a1-4f26-8e4e-f88c88bb29fc\"}, \"below\": [{\"type\": \"LinearAxis\", \"id\": \"c2ea5ac0-9f32-4628-970a-c785676f0006\"}]}, \"subtype\": \"Figure\", \"id\": \"6dc380a6-b1ae-4eff-9330-34cd39dbf16e\"}, {\"type\": \"DataRange1d\", \"attributes\": {\"callback\": null}, \"id\": \"f2131dd8-3835-4883-bf02-24fe5b60b45e\"}, {\"type\": \"ResetTool\", \"attributes\": {\"plot\": {\"type\": \"Plot\", \"id\": \"6dc380a6-b1ae-4eff-9330-34cd39dbf16e\", \"subtype\": \"Figure\"}}, \"id\": \"299bea49-2051-4a1d-93d4-bdd20bcac595\"}, {\"type\": \"ColumnDataSource\", \"attributes\": {\"data\": {\"y\": [0.0, 0.45, 1.1166666666666667, 1.75, 2.433333333333333, 3.15, 3.8, 3.8833333333333333, 5.233333333333333, 5.516666666666667, 5.95, 5.9, 8.35, 7.733333333333333, 8.366666666666667, 9.5, 9.583333333333334, 10.633333333333333, 11.566666666666666, 12.35, 13.25, 11.966666666666667, 11.033333333333333, 10.166666666666666, 10.0, 8.666666666666666, 9.15, 7.25, 7.333333333333333, 6.583333333333333, 6.066666666666666, 5.95, 5.116666666666666, 3.6, 3.3, 3.566666666666667, 2.4833333333333334, 1.5, 1.1333333333333333, 0.5666666666666667], \"x\": [0, 1, 2, 3, 4, 5, 6, 7, 8, 9, 10, 11, 12, 13, 14, 15, 16, 17, 18, 19, 20, 21, 22, 23, 24, 25, 26, 27, 28, 29, 30, 31, 32, 33, 34, 35, 36, 37, 38, 39]}, \"column_names\": [\"y\", \"x\"], \"callback\": null}, \"id\": \"dd50e726-ffe3-4417-b3ca-50a196179c38\"}, {\"type\": \"PanTool\", \"attributes\": {\"plot\": {\"type\": \"Plot\", \"id\": \"6dc380a6-b1ae-4eff-9330-34cd39dbf16e\", \"subtype\": \"Figure\"}}, \"id\": \"a6230222-2a1a-480e-914f-4cceb60c4636\"}, {\"type\": \"BasicTicker\", \"attributes\": {}, \"id\": \"6f2708b1-b5d3-4de2-b645-7dae672c2f55\"}, {\"type\": \"PreviewSaveTool\", \"attributes\": {\"plot\": {\"type\": \"Plot\", \"id\": \"6dc380a6-b1ae-4eff-9330-34cd39dbf16e\", \"subtype\": \"Figure\"}}, \"id\": \"1238c933-e670-45b5-b0bb-78bf3b54eea5\"}, {\"type\": \"LinearAxis\", \"attributes\": {\"formatter\": {\"type\": \"BasicTickFormatter\", \"id\": \"44518742-21f2-4fb7-9cf8-3a5ca69ee9de\"}, \"plot\": {\"type\": \"Plot\", \"id\": \"6dc380a6-b1ae-4eff-9330-34cd39dbf16e\", \"subtype\": \"Figure\"}, \"ticker\": {\"type\": \"BasicTicker\", \"id\": \"8528bf71-b88e-4169-b7b0-efeb18d34714\"}}, \"id\": \"fa6cb4af-b6ab-4783-92a1-5540e728301e\"}]}, \"version\": \"0.11.0\", \"title\": \"Bokeh Application\"}};\n",
       "            var render_items = [{\"notebook_comms_target\": \"c8fb3b9f-e6f6-487d-bcf8-c3f3963c6dca\", \"elementid\": \"a22934e1-d443-4731-bb35-bf28b297201b\", \"docid\": \"1d18802a-d14a-48d8-b27f-3a1156c04c02\", \"modelid\": \"6dc380a6-b1ae-4eff-9330-34cd39dbf16e\"}];\n",
       "            \n",
       "            Bokeh.embed.embed_items(docs_json, render_items);\n",
       "        });\n",
       "      },\n",
       "      function(Bokeh) {\n",
       "      }\n",
       "    ];\n",
       "  \n",
       "    function run_inline_js() {\n",
       "      for (var i = 0; i < inline_js.length; i++) {\n",
       "        inline_js[i](window.Bokeh);\n",
       "      }\n",
       "    }\n",
       "  \n",
       "    if (window._bokeh_is_loading === 0) {\n",
       "      console.log(\"Bokeh: BokehJS loaded, going straight to plotting\");\n",
       "      run_inline_js();\n",
       "    } else {\n",
       "      load_libs(js_urls, function() {\n",
       "        console.log(\"Bokeh: BokehJS plotting callback run at\", now());\n",
       "        run_inline_js();\n",
       "      });\n",
       "    }\n",
       "  }(this));\n",
       "</script>"
      ]
     },
     "metadata": {},
     "output_type": "display_data"
    },
    {
     "data": {
      "text/plain": [
       "<bokeh.io._CommsHandle at 0x7f01b45a5048>"
      ]
     },
     "execution_count": 25,
     "metadata": {},
     "output_type": "execute_result"
    }
   ],
   "source": [
    "fig = bplot.figure()\n",
    "days = np.arange(data.shape[1])\n",
    "fig.line(days, data.mean(axis=0))\n",
    "fig.xaxis.axis_label = \"Day\"\n",
    "bplot.show(fig)"
   ]
  },
  {
   "cell_type": "markdown",
   "metadata": {
    "slideshow": {
     "slide_type": "notes"
    }
   },
   "source": [
    "Notice the syntax is quite similar to `matplotlib` but a little different, so make sure you don't get them mixed up. For example, `plot` has become specifically `line` and we now explicitly provide the days along the bottom. Note that `numpy.arange` is just like `range` but it returns a `numpy` array."
   ]
  },
  {
   "cell_type": "markdown",
   "metadata": {
    "slideshow": {
     "slide_type": "slide"
    }
   },
   "source": [
    "# Challenge II\n",
    "\n",
    "## Reproduce our three-line matplotlib plot in Bokeh"
   ]
  },
  {
   "cell_type": "code",
   "execution_count": null,
   "metadata": {
    "collapsed": true
   },
   "outputs": [],
   "source": [
    "# Here's cell for you..."
   ]
  },
  {
   "cell_type": "markdown",
   "metadata": {
    "slideshow": {
     "slide_type": "notes"
    }
   },
   "source": [
    "Don't forget to put up your star!\n",
    "\n",
    "Start with the [Bokeh documentation](http://bokeh.pydata.org/en/0.10.0/docs/quickstart.html) and the Bokeh example above..."
   ]
  },
  {
   "cell_type": "code",
   "execution_count": 26,
   "metadata": {
    "collapsed": false,
    "slideshow": {
     "slide_type": "slide"
    }
   },
   "outputs": [
    {
     "data": {
      "text/html": [
       "\n",
       "\n",
       "    <div class=\"plotdiv\" id=\"1aeb49e2-43cc-43e5-93c6-0d3fb243e702\"></div>\n",
       "<script type=\"text/javascript\">\n",
       "  \n",
       "  (function(global) {\n",
       "    function now() {\n",
       "      return new Date();\n",
       "    }\n",
       "  \n",
       "    if (typeof (window._bokeh_onload_callbacks) === \"undefined\") {\n",
       "      window._bokeh_onload_callbacks = [];\n",
       "    }\n",
       "  \n",
       "    function run_callbacks() {\n",
       "      window._bokeh_onload_callbacks.forEach(function(callback) { callback() });\n",
       "      delete window._bokeh_onload_callbacks\n",
       "      console.info(\"Bokeh: all callbacks have finished\");\n",
       "    }\n",
       "  \n",
       "    function load_libs(js_urls, callback) {\n",
       "      window._bokeh_onload_callbacks.push(callback);\n",
       "      if (window._bokeh_is_loading > 0) {\n",
       "        console.log(\"Bokeh: BokehJS is being loaded, scheduling callback at\", now());\n",
       "        return null;\n",
       "      }\n",
       "      if (js_urls == null || js_urls.length === 0) {\n",
       "        run_callbacks();\n",
       "        return null;\n",
       "      }\n",
       "      console.log(\"Bokeh: BokehJS not loaded, scheduling load and callback at\", now());\n",
       "      window._bokeh_is_loading = js_urls.length;\n",
       "      for (var i = 0; i < js_urls.length; i++) {\n",
       "        var url = js_urls[i];\n",
       "        var s = document.createElement('script');\n",
       "        s.src = url;\n",
       "        s.async = false;\n",
       "        s.onreadystatechange = s.onload = function() {\n",
       "          window._bokeh_is_loading--;\n",
       "          if (window._bokeh_is_loading === 0) {\n",
       "            console.log(\"Bokeh: all BokehJS libraries loaded\");\n",
       "            run_callbacks()\n",
       "          }\n",
       "        };\n",
       "        s.onerror = function() {\n",
       "          console.warn(\"failed to load library \" + url);\n",
       "        };\n",
       "        console.log(\"Bokeh: injecting script tag for BokehJS library: \", url);\n",
       "        document.getElementsByTagName(\"head\")[0].appendChild(s);\n",
       "      }\n",
       "    };var element = document.getElementById(\"1aeb49e2-43cc-43e5-93c6-0d3fb243e702\");\n",
       "    if (element == null) {\n",
       "      console.log(\"Bokeh: ERROR: autoload.js configured with elementid '1aeb49e2-43cc-43e5-93c6-0d3fb243e702' but no matching script tag was found. \")\n",
       "      return false;\n",
       "    }var js_urls = [];\n",
       "  \n",
       "    var inline_js = [\n",
       "      function(Bokeh) {\n",
       "        Bokeh.$(function() {\n",
       "            var docs_json = {\"fbb5f46b-f794-4082-ac7b-bf5d2261ba7d\": {\"roots\": {\"root_ids\": [\"6dc380a6-b1ae-4eff-9330-34cd39dbf16e\", \"0fe06206-5017-4813-b2ec-d0fd0ad80555\"], \"references\": [{\"type\": \"Grid\", \"attributes\": {\"plot\": {\"type\": \"Plot\", \"id\": \"6dc380a6-b1ae-4eff-9330-34cd39dbf16e\", \"subtype\": \"Figure\"}, \"ticker\": {\"type\": \"BasicTicker\", \"id\": \"6f2708b1-b5d3-4de2-b645-7dae672c2f55\"}}, \"id\": \"aac412d8-6531-4e5c-8410-fa632abd44e7\"}, {\"type\": \"ResizeTool\", \"attributes\": {\"plot\": {\"type\": \"Plot\", \"id\": \"6dc380a6-b1ae-4eff-9330-34cd39dbf16e\", \"subtype\": \"Figure\"}}, \"id\": \"08bfd82b-58c8-4896-9b8d-01ae3bc83239\"}, {\"type\": \"LinearAxis\", \"attributes\": {\"axis_label\": \"Day\", \"plot\": {\"type\": \"Plot\", \"id\": \"0fe06206-5017-4813-b2ec-d0fd0ad80555\", \"subtype\": \"Figure\"}, \"formatter\": {\"type\": \"BasicTickFormatter\", \"id\": \"4f463e02-7328-4a03-812f-132957667553\"}, \"ticker\": {\"type\": \"BasicTicker\", \"id\": \"a644e747-b908-40c5-a04c-d7f9bb4842ad\"}}, \"id\": \"88a1f013-1e4e-4843-b96c-cf15e9feef4e\"}, {\"type\": \"HelpTool\", \"attributes\": {\"plot\": {\"type\": \"Plot\", \"id\": \"6dc380a6-b1ae-4eff-9330-34cd39dbf16e\", \"subtype\": \"Figure\"}}, \"id\": \"1011f937-ee8a-41a9-907b-8d34cb40ce8d\"}, {\"type\": \"BoxZoomTool\", \"attributes\": {\"plot\": {\"type\": \"Plot\", \"id\": \"0fe06206-5017-4813-b2ec-d0fd0ad80555\", \"subtype\": \"Figure\"}, \"overlay\": {\"type\": \"BoxAnnotation\", \"id\": \"92fa3e25-63cb-40d4-9aa8-0d2856afd6ed\"}}, \"id\": \"84d6fe9e-1988-4e1b-b001-57b0a9a9d1a2\"}, {\"type\": \"ToolEvents\", \"attributes\": {}, \"id\": \"a5f19de9-fdba-43c8-b246-3b1a1c5c6d03\"}, {\"type\": \"WheelZoomTool\", \"attributes\": {\"plot\": {\"type\": \"Plot\", \"id\": \"6dc380a6-b1ae-4eff-9330-34cd39dbf16e\", \"subtype\": \"Figure\"}}, \"id\": \"44562f08-da51-4b94-b731-efb480b49cd6\"}, {\"type\": \"LinearAxis\", \"attributes\": {\"axis_label\": \"Day\", \"plot\": {\"type\": \"Plot\", \"id\": \"6dc380a6-b1ae-4eff-9330-34cd39dbf16e\", \"subtype\": \"Figure\"}, \"formatter\": {\"type\": \"BasicTickFormatter\", \"id\": \"23b5a85c-6606-4e76-9e68-aaebdb838bb1\"}, \"ticker\": {\"type\": \"BasicTicker\", \"id\": \"6f2708b1-b5d3-4de2-b645-7dae672c2f55\"}}, \"id\": \"c2ea5ac0-9f32-4628-970a-c785676f0006\"}, {\"type\": \"PreviewSaveTool\", \"attributes\": {\"plot\": {\"type\": \"Plot\", \"id\": \"6dc380a6-b1ae-4eff-9330-34cd39dbf16e\", \"subtype\": \"Figure\"}}, \"id\": \"1238c933-e670-45b5-b0bb-78bf3b54eea5\"}, {\"type\": \"Grid\", \"attributes\": {\"plot\": {\"type\": \"Plot\", \"id\": \"0fe06206-5017-4813-b2ec-d0fd0ad80555\", \"subtype\": \"Figure\"}, \"dimension\": 1, \"ticker\": {\"type\": \"BasicTicker\", \"id\": \"ef4435a3-1836-47b5-88ca-aa1079b2f6b9\"}}, \"id\": \"784e8103-1041-4c7c-ae0b-5b6de14f4918\"}, {\"type\": \"Line\", \"attributes\": {\"line_alpha\": {\"value\": 0.1}, \"line_color\": {\"value\": \"#1f77b4\"}, \"x\": {\"field\": \"x\"}, \"y\": {\"field\": \"y\"}}, \"id\": \"f7cf2a29-764d-42d6-9d55-6bafc124031a\"}, {\"type\": \"WheelZoomTool\", \"attributes\": {\"plot\": {\"type\": \"Plot\", \"id\": \"0fe06206-5017-4813-b2ec-d0fd0ad80555\", \"subtype\": \"Figure\"}}, \"id\": \"1a153d9d-0349-4fc2-9129-2c6aa879f867\"}, {\"type\": \"BasicTicker\", \"attributes\": {}, \"id\": \"a644e747-b908-40c5-a04c-d7f9bb4842ad\"}, {\"type\": \"BasicTickFormatter\", \"attributes\": {}, \"id\": \"66a29735-19d1-4c27-a6b0-ffb07b034f52\"}, {\"type\": \"BasicTicker\", \"attributes\": {}, \"id\": \"8528bf71-b88e-4169-b7b0-efeb18d34714\"}, {\"type\": \"Legend\", \"attributes\": {\"plot\": {\"type\": \"Plot\", \"id\": \"0fe06206-5017-4813-b2ec-d0fd0ad80555\", \"subtype\": \"Figure\"}, \"legends\": [[\"Average\", [{\"type\": \"GlyphRenderer\", \"id\": \"7da80203-c492-43de-948f-e3334715659e\"}]], [\"Max\", [{\"type\": \"GlyphRenderer\", \"id\": \"9b80651d-0cef-4a73-b7b4-33409c747b4f\"}]], [\"Min\", [{\"type\": \"GlyphRenderer\", \"id\": \"2903e827-6d90-4cca-a85d-4d74eb6fd69c\"}]]]}, \"id\": \"b3b30aac-53d1-4076-a4bf-58ace1ca2d27\"}, {\"type\": \"Line\", \"attributes\": {\"line_color\": {\"value\": \"blue\"}, \"x\": {\"field\": \"x\"}, \"y\": {\"field\": \"y\"}}, \"id\": \"d0b9a26f-0a04-4144-9653-e22655baa60e\"}, {\"type\": \"GlyphRenderer\", \"attributes\": {\"nonselection_glyph\": {\"type\": \"Line\", \"id\": \"f5c301d0-7f55-493b-b27b-56a8a6ff0bab\"}, \"data_source\": {\"type\": \"ColumnDataSource\", \"id\": \"82aba571-f6ce-4f95-9e6d-feda630f89b8\"}, \"selection_glyph\": null, \"hover_glyph\": null, \"glyph\": {\"type\": \"Line\", \"id\": \"d0b9a26f-0a04-4144-9653-e22655baa60e\"}}, \"id\": \"9b80651d-0cef-4a73-b7b4-33409c747b4f\"}, {\"type\": \"BoxAnnotation\", \"attributes\": {\"fill_alpha\": {\"value\": 0.5}, \"line_dash\": [4, 4], \"render_mode\": \"css\", \"bottom_units\": \"screen\", \"right_units\": \"screen\", \"line_alpha\": {\"value\": 1.0}, \"plot\": null, \"top_units\": \"screen\", \"fill_color\": {\"value\": \"lightgrey\"}, \"line_width\": {\"value\": 2}, \"left_units\": \"screen\", \"level\": \"overlay\", \"line_color\": {\"value\": \"black\"}}, \"id\": \"92fa3e25-63cb-40d4-9aa8-0d2856afd6ed\"}, {\"type\": \"ResetTool\", \"attributes\": {\"plot\": {\"type\": \"Plot\", \"id\": \"6dc380a6-b1ae-4eff-9330-34cd39dbf16e\", \"subtype\": \"Figure\"}}, \"id\": \"299bea49-2051-4a1d-93d4-bdd20bcac595\"}, {\"type\": \"ColumnDataSource\", \"attributes\": {\"data\": {\"y\": [0.0, 0.45, 1.1166666666666667, 1.75, 2.433333333333333, 3.15, 3.8, 3.8833333333333333, 5.233333333333333, 5.516666666666667, 5.95, 5.9, 8.35, 7.733333333333333, 8.366666666666667, 9.5, 9.583333333333334, 10.633333333333333, 11.566666666666666, 12.35, 13.25, 11.966666666666667, 11.033333333333333, 10.166666666666666, 10.0, 8.666666666666666, 9.15, 7.25, 7.333333333333333, 6.583333333333333, 6.066666666666666, 5.95, 5.116666666666666, 3.6, 3.3, 3.566666666666667, 2.4833333333333334, 1.5, 1.1333333333333333, 0.5666666666666667], \"x\": [0, 1, 2, 3, 4, 5, 6, 7, 8, 9, 10, 11, 12, 13, 14, 15, 16, 17, 18, 19, 20, 21, 22, 23, 24, 25, 26, 27, 28, 29, 30, 31, 32, 33, 34, 35, 36, 37, 38, 39]}, \"column_names\": [\"y\", \"x\"], \"callback\": null}, \"id\": \"dd50e726-ffe3-4417-b3ca-50a196179c38\"}, {\"type\": \"ColumnDataSource\", \"attributes\": {\"data\": {\"y\": [0.0, 1.0, 2.0, 3.0, 4.0, 5.0, 6.0, 7.0, 8.0, 9.0, 10.0, 11.0, 12.0, 13.0, 14.0, 15.0, 16.0, 17.0, 18.0, 19.0, 20.0, 19.0, 18.0, 17.0, 16.0, 15.0, 14.0, 13.0, 12.0, 11.0, 10.0, 9.0, 8.0, 7.0, 6.0, 5.0, 4.0, 3.0, 2.0, 1.0], \"x\": [0, 1, 2, 3, 4, 5, 6, 7, 8, 9, 10, 11, 12, 13, 14, 15, 16, 17, 18, 19, 20, 21, 22, 23, 24, 25, 26, 27, 28, 29, 30, 31, 32, 33, 34, 35, 36, 37, 38, 39]}, \"column_names\": [\"y\", \"x\"], \"callback\": null}, \"id\": \"82aba571-f6ce-4f95-9e6d-feda630f89b8\"}, {\"type\": \"DataRange1d\", \"attributes\": {\"callback\": null}, \"id\": \"2e50ecdb-5ebc-475c-bfbd-7f0c05c0c275\"}, {\"type\": \"Plot\", \"attributes\": {\"x_range\": {\"type\": \"DataRange1d\", \"id\": \"f2131dd8-3835-4883-bf02-24fe5b60b45e\"}, \"left\": [{\"type\": \"LinearAxis\", \"id\": \"fa6cb4af-b6ab-4783-92a1-5540e728301e\"}], \"renderers\": [{\"type\": \"LinearAxis\", \"id\": \"c2ea5ac0-9f32-4628-970a-c785676f0006\"}, {\"type\": \"Grid\", \"id\": \"aac412d8-6531-4e5c-8410-fa632abd44e7\"}, {\"type\": \"LinearAxis\", \"id\": \"fa6cb4af-b6ab-4783-92a1-5540e728301e\"}, {\"type\": \"Grid\", \"id\": \"21c2b41b-4e43-4cfb-aefe-4ea3b1606de5\"}, {\"type\": \"BoxAnnotation\", \"id\": \"239738b3-b75b-4a73-a0e2-7f8200ec241d\"}, {\"type\": \"GlyphRenderer\", \"id\": \"b348930d-48c1-4feb-a831-038bb4383812\"}], \"tool_events\": {\"type\": \"ToolEvents\", \"id\": \"0cbe1e29-5e15-45c7-96db-f8d7e06e28fb\"}, \"tools\": [{\"type\": \"PanTool\", \"id\": \"a6230222-2a1a-480e-914f-4cceb60c4636\"}, {\"type\": \"WheelZoomTool\", \"id\": \"44562f08-da51-4b94-b731-efb480b49cd6\"}, {\"type\": \"BoxZoomTool\", \"id\": \"b4c483d1-35a5-4fcc-971e-cef677d7d3db\"}, {\"type\": \"PreviewSaveTool\", \"id\": \"1238c933-e670-45b5-b0bb-78bf3b54eea5\"}, {\"type\": \"ResizeTool\", \"id\": \"08bfd82b-58c8-4896-9b8d-01ae3bc83239\"}, {\"type\": \"ResetTool\", \"id\": \"299bea49-2051-4a1d-93d4-bdd20bcac595\"}, {\"type\": \"HelpTool\", \"id\": \"1011f937-ee8a-41a9-907b-8d34cb40ce8d\"}], \"y_range\": {\"type\": \"DataRange1d\", \"id\": \"c2bd80c7-53a1-4f26-8e4e-f88c88bb29fc\"}, \"below\": [{\"type\": \"LinearAxis\", \"id\": \"c2ea5ac0-9f32-4628-970a-c785676f0006\"}]}, \"subtype\": \"Figure\", \"id\": \"6dc380a6-b1ae-4eff-9330-34cd39dbf16e\"}, {\"type\": \"BasicTicker\", \"attributes\": {}, \"id\": \"ef4435a3-1836-47b5-88ca-aa1079b2f6b9\"}, {\"type\": \"PreviewSaveTool\", \"attributes\": {\"plot\": {\"type\": \"Plot\", \"id\": \"0fe06206-5017-4813-b2ec-d0fd0ad80555\", \"subtype\": \"Figure\"}}, \"id\": \"400af48b-3a4b-48d9-8759-c2254b24bdbc\"}, {\"type\": \"ResizeTool\", \"attributes\": {\"plot\": {\"type\": \"Plot\", \"id\": \"0fe06206-5017-4813-b2ec-d0fd0ad80555\", \"subtype\": \"Figure\"}}, \"id\": \"a003fbe4-2f37-48c0-a496-02cbbdd0db95\"}, {\"type\": \"BasicTicker\", \"attributes\": {}, \"id\": \"6f2708b1-b5d3-4de2-b645-7dae672c2f55\"}, {\"type\": \"PanTool\", \"attributes\": {\"plot\": {\"type\": \"Plot\", \"id\": \"6dc380a6-b1ae-4eff-9330-34cd39dbf16e\", \"subtype\": \"Figure\"}}, \"id\": \"a6230222-2a1a-480e-914f-4cceb60c4636\"}, {\"type\": \"Grid\", \"attributes\": {\"plot\": {\"type\": \"Plot\", \"id\": \"6dc380a6-b1ae-4eff-9330-34cd39dbf16e\", \"subtype\": \"Figure\"}, \"dimension\": 1, \"ticker\": {\"type\": \"BasicTicker\", \"id\": \"8528bf71-b88e-4169-b7b0-efeb18d34714\"}}, \"id\": \"21c2b41b-4e43-4cfb-aefe-4ea3b1606de5\"}, {\"type\": \"LinearAxis\", \"attributes\": {\"formatter\": {\"type\": \"BasicTickFormatter\", \"id\": \"44518742-21f2-4fb7-9cf8-3a5ca69ee9de\"}, \"plot\": {\"type\": \"Plot\", \"id\": \"6dc380a6-b1ae-4eff-9330-34cd39dbf16e\", \"subtype\": \"Figure\"}, \"ticker\": {\"type\": \"BasicTicker\", \"id\": \"8528bf71-b88e-4169-b7b0-efeb18d34714\"}}, \"id\": \"fa6cb4af-b6ab-4783-92a1-5540e728301e\"}, {\"type\": \"GlyphRenderer\", \"attributes\": {\"nonselection_glyph\": {\"type\": \"Line\", \"id\": \"f7cf2a29-764d-42d6-9d55-6bafc124031a\"}, \"data_source\": {\"type\": \"ColumnDataSource\", \"id\": \"dd50e726-ffe3-4417-b3ca-50a196179c38\"}, \"selection_glyph\": null, \"hover_glyph\": null, \"glyph\": {\"type\": \"Line\", \"id\": \"e7fad632-f2c7-4009-b318-dc02d18a7ba2\"}}, \"id\": \"b348930d-48c1-4feb-a831-038bb4383812\"}, {\"type\": \"GlyphRenderer\", \"attributes\": {\"nonselection_glyph\": {\"type\": \"Line\", \"id\": \"ccc01585-05ec-4f93-a262-411eab2ba39b\"}, \"data_source\": {\"type\": \"ColumnDataSource\", \"id\": \"db6d560f-ea3d-4091-abf3-a905ba8feab2\"}, \"selection_glyph\": null, \"hover_glyph\": null, \"glyph\": {\"type\": \"Line\", \"id\": \"35d94fec-1bfd-40bf-a197-6426f65c0a21\"}}, \"id\": \"7da80203-c492-43de-948f-e3334715659e\"}, {\"type\": \"LinearAxis\", \"attributes\": {\"axis_label\": \"Inflammation\", \"plot\": {\"type\": \"Plot\", \"id\": \"0fe06206-5017-4813-b2ec-d0fd0ad80555\", \"subtype\": \"Figure\"}, \"formatter\": {\"type\": \"BasicTickFormatter\", \"id\": \"66a29735-19d1-4c27-a6b0-ffb07b034f52\"}, \"ticker\": {\"type\": \"BasicTicker\", \"id\": \"ef4435a3-1836-47b5-88ca-aa1079b2f6b9\"}}, \"id\": \"0787c34e-af57-4c24-93b3-1c6714e665b1\"}, {\"type\": \"Grid\", \"attributes\": {\"plot\": {\"type\": \"Plot\", \"id\": \"0fe06206-5017-4813-b2ec-d0fd0ad80555\", \"subtype\": \"Figure\"}, \"ticker\": {\"type\": \"BasicTicker\", \"id\": \"a644e747-b908-40c5-a04c-d7f9bb4842ad\"}}, \"id\": \"be4c6aa7-e862-4532-a746-23c68f824094\"}, {\"type\": \"HelpTool\", \"attributes\": {\"plot\": {\"type\": \"Plot\", \"id\": \"0fe06206-5017-4813-b2ec-d0fd0ad80555\", \"subtype\": \"Figure\"}}, \"id\": \"93853238-8a83-463d-bf70-2ea07c52b793\"}, {\"type\": \"BoxAnnotation\", \"attributes\": {\"fill_alpha\": {\"value\": 0.5}, \"line_dash\": [4, 4], \"render_mode\": \"css\", \"bottom_units\": \"screen\", \"right_units\": \"screen\", \"line_alpha\": {\"value\": 1.0}, \"plot\": null, \"top_units\": \"screen\", \"fill_color\": {\"value\": \"lightgrey\"}, \"line_width\": {\"value\": 2}, \"left_units\": \"screen\", \"level\": \"overlay\", \"line_color\": {\"value\": \"black\"}}, \"id\": \"239738b3-b75b-4a73-a0e2-7f8200ec241d\"}, {\"type\": \"Line\", \"attributes\": {\"line_alpha\": {\"value\": 0.1}, \"line_color\": {\"value\": \"#1f77b4\"}, \"x\": {\"field\": \"x\"}, \"y\": {\"field\": \"y\"}}, \"id\": \"6a571078-8b38-4c55-8441-57f18d97b2ea\"}, {\"type\": \"Line\", \"attributes\": {\"line_color\": {\"value\": \"red\"}, \"x\": {\"field\": \"x\"}, \"y\": {\"field\": \"y\"}}, \"id\": \"59c0cdca-b06f-41b6-8b88-1e7bd74f070b\"}, {\"type\": \"BoxZoomTool\", \"attributes\": {\"plot\": {\"type\": \"Plot\", \"id\": \"6dc380a6-b1ae-4eff-9330-34cd39dbf16e\", \"subtype\": \"Figure\"}, \"overlay\": {\"type\": \"BoxAnnotation\", \"id\": \"239738b3-b75b-4a73-a0e2-7f8200ec241d\"}}, \"id\": \"b4c483d1-35a5-4fcc-971e-cef677d7d3db\"}, {\"type\": \"Line\", \"attributes\": {\"line_color\": {\"value\": \"green\"}, \"x\": {\"field\": \"x\"}, \"y\": {\"field\": \"y\"}}, \"id\": \"35d94fec-1bfd-40bf-a197-6426f65c0a21\"}, {\"type\": \"DataRange1d\", \"attributes\": {\"callback\": null}, \"id\": \"c2bd80c7-53a1-4f26-8e4e-f88c88bb29fc\"}, {\"type\": \"DataRange1d\", \"attributes\": {\"callback\": null}, \"id\": \"f2131dd8-3835-4883-bf02-24fe5b60b45e\"}, {\"type\": \"Line\", \"attributes\": {\"line_alpha\": {\"value\": 0.1}, \"line_color\": {\"value\": \"#1f77b4\"}, \"x\": {\"field\": \"x\"}, \"y\": {\"field\": \"y\"}}, \"id\": \"ccc01585-05ec-4f93-a262-411eab2ba39b\"}, {\"type\": \"ToolEvents\", \"attributes\": {}, \"id\": \"0cbe1e29-5e15-45c7-96db-f8d7e06e28fb\"}, {\"type\": \"ColumnDataSource\", \"attributes\": {\"data\": {\"y\": [0.0, 0.0, 0.0, 0.0, 1.0, 1.0, 1.0, 1.0, 2.0, 2.0, 2.0, 2.0, 3.0, 3.0, 3.0, 3.0, 4.0, 5.0, 5.0, 5.0, 5.0, 4.0, 4.0, 4.0, 4.0, 3.0, 3.0, 3.0, 3.0, 2.0, 2.0, 2.0, 2.0, 1.0, 1.0, 1.0, 1.0, 0.0, 0.0, 0.0], \"x\": [0, 1, 2, 3, 4, 5, 6, 7, 8, 9, 10, 11, 12, 13, 14, 15, 16, 17, 18, 19, 20, 21, 22, 23, 24, 25, 26, 27, 28, 29, 30, 31, 32, 33, 34, 35, 36, 37, 38, 39]}, \"column_names\": [\"y\", \"x\"], \"callback\": null}, \"id\": \"aaa8098e-d051-4e4c-9f0a-229d98b31183\"}, {\"type\": \"BasicTickFormatter\", \"attributes\": {}, \"id\": \"23b5a85c-6606-4e76-9e68-aaebdb838bb1\"}, {\"type\": \"BasicTickFormatter\", \"attributes\": {}, \"id\": \"4f463e02-7328-4a03-812f-132957667553\"}, {\"type\": \"Line\", \"attributes\": {\"line_color\": {\"value\": \"#1f77b4\"}, \"x\": {\"field\": \"x\"}, \"y\": {\"field\": \"y\"}}, \"id\": \"e7fad632-f2c7-4009-b318-dc02d18a7ba2\"}, {\"type\": \"PanTool\", \"attributes\": {\"plot\": {\"type\": \"Plot\", \"id\": \"0fe06206-5017-4813-b2ec-d0fd0ad80555\", \"subtype\": \"Figure\"}}, \"id\": \"09ed4dac-4f48-4dff-a0f7-d1dc6b7b73d5\"}, {\"type\": \"GlyphRenderer\", \"attributes\": {\"nonselection_glyph\": {\"type\": \"Line\", \"id\": \"6a571078-8b38-4c55-8441-57f18d97b2ea\"}, \"data_source\": {\"type\": \"ColumnDataSource\", \"id\": \"aaa8098e-d051-4e4c-9f0a-229d98b31183\"}, \"selection_glyph\": null, \"hover_glyph\": null, \"glyph\": {\"type\": \"Line\", \"id\": \"59c0cdca-b06f-41b6-8b88-1e7bd74f070b\"}}, \"id\": \"2903e827-6d90-4cca-a85d-4d74eb6fd69c\"}, {\"type\": \"Line\", \"attributes\": {\"line_alpha\": {\"value\": 0.1}, \"line_color\": {\"value\": \"#1f77b4\"}, \"x\": {\"field\": \"x\"}, \"y\": {\"field\": \"y\"}}, \"id\": \"f5c301d0-7f55-493b-b27b-56a8a6ff0bab\"}, {\"type\": \"BasicTickFormatter\", \"attributes\": {}, \"id\": \"44518742-21f2-4fb7-9cf8-3a5ca69ee9de\"}, {\"type\": \"Plot\", \"attributes\": {\"x_range\": {\"type\": \"DataRange1d\", \"id\": \"5bd14e38-0bf7-4412-83b7-06f83135687d\"}, \"left\": [{\"type\": \"LinearAxis\", \"id\": \"0787c34e-af57-4c24-93b3-1c6714e665b1\"}], \"renderers\": [{\"type\": \"LinearAxis\", \"id\": \"88a1f013-1e4e-4843-b96c-cf15e9feef4e\"}, {\"type\": \"Grid\", \"id\": \"be4c6aa7-e862-4532-a746-23c68f824094\"}, {\"type\": \"LinearAxis\", \"id\": \"0787c34e-af57-4c24-93b3-1c6714e665b1\"}, {\"type\": \"Grid\", \"id\": \"784e8103-1041-4c7c-ae0b-5b6de14f4918\"}, {\"type\": \"BoxAnnotation\", \"id\": \"92fa3e25-63cb-40d4-9aa8-0d2856afd6ed\"}, {\"type\": \"Legend\", \"id\": \"b3b30aac-53d1-4076-a4bf-58ace1ca2d27\"}, {\"type\": \"GlyphRenderer\", \"id\": \"7da80203-c492-43de-948f-e3334715659e\"}, {\"type\": \"GlyphRenderer\", \"id\": \"9b80651d-0cef-4a73-b7b4-33409c747b4f\"}, {\"type\": \"GlyphRenderer\", \"id\": \"2903e827-6d90-4cca-a85d-4d74eb6fd69c\"}], \"tool_events\": {\"type\": \"ToolEvents\", \"id\": \"a5f19de9-fdba-43c8-b246-3b1a1c5c6d03\"}, \"tools\": [{\"type\": \"PanTool\", \"id\": \"09ed4dac-4f48-4dff-a0f7-d1dc6b7b73d5\"}, {\"type\": \"WheelZoomTool\", \"id\": \"1a153d9d-0349-4fc2-9129-2c6aa879f867\"}, {\"type\": \"BoxZoomTool\", \"id\": \"84d6fe9e-1988-4e1b-b001-57b0a9a9d1a2\"}, {\"type\": \"PreviewSaveTool\", \"id\": \"400af48b-3a4b-48d9-8759-c2254b24bdbc\"}, {\"type\": \"ResizeTool\", \"id\": \"a003fbe4-2f37-48c0-a496-02cbbdd0db95\"}, {\"type\": \"ResetTool\", \"id\": \"728a2555-2062-48b9-b75f-2019608e4a6a\"}, {\"type\": \"HelpTool\", \"id\": \"93853238-8a83-463d-bf70-2ea07c52b793\"}], \"y_range\": {\"type\": \"DataRange1d\", \"id\": \"2e50ecdb-5ebc-475c-bfbd-7f0c05c0c275\"}, \"below\": [{\"type\": \"LinearAxis\", \"id\": \"88a1f013-1e4e-4843-b96c-cf15e9feef4e\"}]}, \"subtype\": \"Figure\", \"id\": \"0fe06206-5017-4813-b2ec-d0fd0ad80555\"}, {\"type\": \"ColumnDataSource\", \"attributes\": {\"data\": {\"y\": [0.0, 0.45, 1.1166666666666667, 1.75, 2.433333333333333, 3.15, 3.8, 3.8833333333333333, 5.233333333333333, 5.516666666666667, 5.95, 5.9, 8.35, 7.733333333333333, 8.366666666666667, 9.5, 9.583333333333334, 10.633333333333333, 11.566666666666666, 12.35, 13.25, 11.966666666666667, 11.033333333333333, 10.166666666666666, 10.0, 8.666666666666666, 9.15, 7.25, 7.333333333333333, 6.583333333333333, 6.066666666666666, 5.95, 5.116666666666666, 3.6, 3.3, 3.566666666666667, 2.4833333333333334, 1.5, 1.1333333333333333, 0.5666666666666667], \"x\": [0, 1, 2, 3, 4, 5, 6, 7, 8, 9, 10, 11, 12, 13, 14, 15, 16, 17, 18, 19, 20, 21, 22, 23, 24, 25, 26, 27, 28, 29, 30, 31, 32, 33, 34, 35, 36, 37, 38, 39]}, \"column_names\": [\"y\", \"x\"], \"callback\": null}, \"id\": \"db6d560f-ea3d-4091-abf3-a905ba8feab2\"}, {\"type\": \"DataRange1d\", \"attributes\": {\"callback\": null}, \"id\": \"5bd14e38-0bf7-4412-83b7-06f83135687d\"}, {\"type\": \"ResetTool\", \"attributes\": {\"plot\": {\"type\": \"Plot\", \"id\": \"0fe06206-5017-4813-b2ec-d0fd0ad80555\", \"subtype\": \"Figure\"}}, \"id\": \"728a2555-2062-48b9-b75f-2019608e4a6a\"}]}, \"version\": \"0.11.0\", \"title\": \"Bokeh Application\"}};\n",
       "            var render_items = [{\"notebook_comms_target\": \"4c00ca88-2e4e-4c4d-8873-30030c7601dd\", \"elementid\": \"1aeb49e2-43cc-43e5-93c6-0d3fb243e702\", \"docid\": \"fbb5f46b-f794-4082-ac7b-bf5d2261ba7d\", \"modelid\": \"0fe06206-5017-4813-b2ec-d0fd0ad80555\"}];\n",
       "            \n",
       "            Bokeh.embed.embed_items(docs_json, render_items);\n",
       "        });\n",
       "      },\n",
       "      function(Bokeh) {\n",
       "      }\n",
       "    ];\n",
       "  \n",
       "    function run_inline_js() {\n",
       "      for (var i = 0; i < inline_js.length; i++) {\n",
       "        inline_js[i](window.Bokeh);\n",
       "      }\n",
       "    }\n",
       "  \n",
       "    if (window._bokeh_is_loading === 0) {\n",
       "      console.log(\"Bokeh: BokehJS loaded, going straight to plotting\");\n",
       "      run_inline_js();\n",
       "    } else {\n",
       "      load_libs(js_urls, function() {\n",
       "        console.log(\"Bokeh: BokehJS plotting callback run at\", now());\n",
       "        run_inline_js();\n",
       "      });\n",
       "    }\n",
       "  }(this));\n",
       "</script>"
      ]
     },
     "metadata": {},
     "output_type": "display_data"
    },
    {
     "data": {
      "text/plain": [
       "<bokeh.io._CommsHandle at 0x7f01b45b7e80>"
      ]
     },
     "execution_count": 26,
     "metadata": {},
     "output_type": "execute_result"
    }
   ],
   "source": [
    "# RMV\n",
    "# This is the whole figure, possibly\n",
    "# with multiple subplots\n",
    "fig = bplot.figure()\n",
    "\n",
    "days = np.arange(data.shape[1])\n",
    "\n",
    "# This is a specific set of axes\n",
    "fig.xaxis.axis_label = 'Day'\n",
    "fig.yaxis.axis_label = 'Inflammation'\n",
    "\n",
    "fig.line(days, data.mean(axis=0), legend='Average', color='green')\n",
    "fig.line(days, data.max(axis=0), legend='Max', color='blue')\n",
    "fig.line(days, data.min(axis=0), legend='Min', color='red')\n",
    "\n",
    "bplot.show(fig)"
   ]
  },
  {
   "cell_type": "markdown",
   "metadata": {
    "slideshow": {
     "slide_type": "slide"
    }
   },
   "source": [
    "# Interactive plots"
   ]
  },
  {
   "cell_type": "markdown",
   "metadata": {
    "slideshow": {
     "slide_type": "notes"
    }
   },
   "source": [
    "But really, this still isn't very interactive... let's try adding a drop-down to pick which function (average, max, min) that we want to use."
   ]
  },
  {
   "cell_type": "code",
   "execution_count": 42,
   "metadata": {
    "collapsed": false,
    "slideshow": {
     "slide_type": "fragment"
    }
   },
   "outputs": [],
   "source": [
    "from bokeh.models import ColumnDataSource\n",
    "from bokeh.io import push_notebook\n",
    "\n",
    "# Start out with days vs average\n",
    "initial_coordinates = {'x': days, 'y': data.mean(axis=0)}\n",
    "source = ColumnDataSource(initial_coordinates)\n",
    "\n",
    "# Define a callback to update the plot when we\n",
    "# pick something else\n",
    "def update_plot_statistic(statistic):\n",
    "    if statistic == \"Average\":\n",
    "        source.data['y'] = data.mean(axis=0)\n",
    "    elif statistic == \"Max\":\n",
    "        source.data['y'] = data.max(axis=0)\n",
    "    elif statistic == \"Min\":\n",
    "        source.data['y'] = data.min(axis=0)\n",
    "    push_notebook()"
   ]
  },
  {
   "cell_type": "markdown",
   "metadata": {
    "slideshow": {
     "slide_type": "notes"
    }
   },
   "source": [
    "First off, note that we do not have to tell the function to import the global variable, we can just use it. Now, examine the function - this is callback that we will use to update the plot when we change a drop-down menu choice of function.\n",
    "\n",
    "We create a `source` object, an instance of the `ColumnDataSource` class, and when this function is called, it updates the '`y`' item in `source.data`. Inside the function, we check what has been picked (this is the argument to the function), and update the source \"`y`\" array on that basis. Finally, we push this change to the notebook."
   ]
  },
  {
   "cell_type": "code",
   "execution_count": 47,
   "metadata": {
    "collapsed": false,
    "slideshow": {
     "slide_type": "slide"
    }
   },
   "outputs": [
    {
     "data": {
      "text/html": [
       "\n",
       "\n",
       "    <div class=\"plotdiv\" id=\"c0305eea-4b57-4d94-bb27-e72a7b459aaa\"></div>\n",
       "<script type=\"text/javascript\">\n",
       "  \n",
       "  (function(global) {\n",
       "    function now() {\n",
       "      return new Date();\n",
       "    }\n",
       "  \n",
       "    if (typeof (window._bokeh_onload_callbacks) === \"undefined\") {\n",
       "      window._bokeh_onload_callbacks = [];\n",
       "    }\n",
       "  \n",
       "    function run_callbacks() {\n",
       "      window._bokeh_onload_callbacks.forEach(function(callback) { callback() });\n",
       "      delete window._bokeh_onload_callbacks\n",
       "      console.info(\"Bokeh: all callbacks have finished\");\n",
       "    }\n",
       "  \n",
       "    function load_libs(js_urls, callback) {\n",
       "      window._bokeh_onload_callbacks.push(callback);\n",
       "      if (window._bokeh_is_loading > 0) {\n",
       "        console.log(\"Bokeh: BokehJS is being loaded, scheduling callback at\", now());\n",
       "        return null;\n",
       "      }\n",
       "      if (js_urls == null || js_urls.length === 0) {\n",
       "        run_callbacks();\n",
       "        return null;\n",
       "      }\n",
       "      console.log(\"Bokeh: BokehJS not loaded, scheduling load and callback at\", now());\n",
       "      window._bokeh_is_loading = js_urls.length;\n",
       "      for (var i = 0; i < js_urls.length; i++) {\n",
       "        var url = js_urls[i];\n",
       "        var s = document.createElement('script');\n",
       "        s.src = url;\n",
       "        s.async = false;\n",
       "        s.onreadystatechange = s.onload = function() {\n",
       "          window._bokeh_is_loading--;\n",
       "          if (window._bokeh_is_loading === 0) {\n",
       "            console.log(\"Bokeh: all BokehJS libraries loaded\");\n",
       "            run_callbacks()\n",
       "          }\n",
       "        };\n",
       "        s.onerror = function() {\n",
       "          console.warn(\"failed to load library \" + url);\n",
       "        };\n",
       "        console.log(\"Bokeh: injecting script tag for BokehJS library: \", url);\n",
       "        document.getElementsByTagName(\"head\")[0].appendChild(s);\n",
       "      }\n",
       "    };var element = document.getElementById(\"c0305eea-4b57-4d94-bb27-e72a7b459aaa\");\n",
       "    if (element == null) {\n",
       "      console.log(\"Bokeh: ERROR: autoload.js configured with elementid 'c0305eea-4b57-4d94-bb27-e72a7b459aaa' but no matching script tag was found. \")\n",
       "      return false;\n",
       "    }var js_urls = [];\n",
       "  \n",
       "    var inline_js = [\n",
       "      function(Bokeh) {\n",
       "        Bokeh.$(function() {\n",
       "            var docs_json = {\"27f1de90-80d5-4ac3-be24-eb5653bebe9b\": {\"roots\": {\"root_ids\": [\"6dc380a6-b1ae-4eff-9330-34cd39dbf16e\", \"0fe06206-5017-4813-b2ec-d0fd0ad80555\", \"d02bdba0-7f6d-44ee-be67-fccdac233d4b\", \"41ae819b-f50a-411a-80c7-0d49cc226975\", \"b7d3a0f4-448a-4a9d-841c-d8c60a5a960a\", \"59899abe-fc82-4e86-bbca-9be468ead2f6\", \"07de6f7c-d35e-42a8-a0ac-e92516b552c0\", \"c55136e3-b542-4820-a893-ac2bc3319c81\", \"e3412a97-d19a-469e-935d-bfb931e497ab\", \"1cb8a836-ad53-4b2b-bbd4-3db4e3b75bf2\", \"42dc7392-1323-49d8-b81c-bf55dada76ec\"], \"references\": [{\"type\": \"PreviewSaveTool\", \"attributes\": {\"plot\": {\"type\": \"Plot\", \"id\": \"d02bdba0-7f6d-44ee-be67-fccdac233d4b\", \"subtype\": \"Figure\"}}, \"id\": \"d496ab65-1cd1-4f50-94e8-b5e70338b5aa\"}, {\"type\": \"PreviewSaveTool\", \"attributes\": {\"plot\": {\"type\": \"Plot\", \"id\": \"07de6f7c-d35e-42a8-a0ac-e92516b552c0\", \"subtype\": \"Figure\"}}, \"id\": \"604a97b1-a944-4008-84c4-60a472d0bb98\"}, {\"type\": \"LinearAxis\", \"attributes\": {\"axis_label\": \"Day\", \"plot\": {\"type\": \"Plot\", \"id\": \"0fe06206-5017-4813-b2ec-d0fd0ad80555\", \"subtype\": \"Figure\"}, \"formatter\": {\"type\": \"BasicTickFormatter\", \"id\": \"4f463e02-7328-4a03-812f-132957667553\"}, \"ticker\": {\"type\": \"BasicTicker\", \"id\": \"a644e747-b908-40c5-a04c-d7f9bb4842ad\"}}, \"id\": \"88a1f013-1e4e-4843-b96c-cf15e9feef4e\"}, {\"type\": \"DataRange1d\", \"attributes\": {\"callback\": null}, \"id\": \"ed663852-62f6-42e9-8955-227767acd55a\"}, {\"type\": \"HelpTool\", \"attributes\": {\"plot\": {\"type\": \"Plot\", \"id\": \"0fe06206-5017-4813-b2ec-d0fd0ad80555\", \"subtype\": \"Figure\"}}, \"id\": \"93853238-8a83-463d-bf70-2ea07c52b793\"}, {\"type\": \"PreviewSaveTool\", \"attributes\": {\"plot\": {\"type\": \"Plot\", \"id\": \"c55136e3-b542-4820-a893-ac2bc3319c81\", \"subtype\": \"Figure\"}}, \"id\": \"d410d99d-7ba7-4ac2-9fd2-368e789be7de\"}, {\"type\": \"BasicTicker\", \"attributes\": {}, \"id\": \"a60de3c0-50d8-4ad2-a98d-e48c603c26f7\"}, {\"type\": \"Line\", \"attributes\": {\"line_color\": {\"value\": \"#1f77b4\"}, \"x\": {\"field\": \"x\"}, \"y\": {\"field\": \"y\"}}, \"id\": \"fefbcb88-16b5-4257-88ab-6673cac53912\"}, {\"type\": \"Line\", \"attributes\": {\"line_alpha\": {\"value\": 0.1}, \"line_color\": {\"value\": \"#1f77b4\"}, \"x\": {\"field\": \"x\"}, \"y\": {\"field\": \"y\"}}, \"id\": \"fe34f610-860c-4db1-9ff4-12f0a7a68758\"}, {\"type\": \"PreviewSaveTool\", \"attributes\": {\"plot\": {\"type\": \"Plot\", \"id\": \"41ae819b-f50a-411a-80c7-0d49cc226975\", \"subtype\": \"Figure\"}}, \"id\": \"982291a7-0258-4173-998f-61275d57166e\"}, {\"type\": \"Grid\", \"attributes\": {\"plot\": {\"type\": \"Plot\", \"id\": \"59899abe-fc82-4e86-bbca-9be468ead2f6\", \"subtype\": \"Figure\"}, \"ticker\": {\"type\": \"BasicTicker\", \"id\": \"bf0a12ed-924e-4537-ae30-d49b3a096ee9\"}}, \"id\": \"c09ea3db-c7c8-41fd-b355-3c1bf4d973b8\"}, {\"type\": \"BasicTickFormatter\", \"attributes\": {}, \"id\": \"44518742-21f2-4fb7-9cf8-3a5ca69ee9de\"}, {\"type\": \"HelpTool\", \"attributes\": {\"plot\": {\"type\": \"Plot\", \"id\": \"6dc380a6-b1ae-4eff-9330-34cd39dbf16e\", \"subtype\": \"Figure\"}}, \"id\": \"1011f937-ee8a-41a9-907b-8d34cb40ce8d\"}, {\"type\": \"GlyphRenderer\", \"attributes\": {\"nonselection_glyph\": {\"type\": \"Line\", \"id\": \"05df3401-ef4a-4e7a-b828-486121208070\"}, \"data_source\": {\"type\": \"ColumnDataSource\", \"id\": \"fab79e8e-6275-4c7e-a55b-ca5bf396de8b\"}, \"selection_glyph\": null, \"hover_glyph\": null, \"glyph\": {\"type\": \"Line\", \"id\": \"1839ff63-0a43-4139-8c97-62fa108e998b\"}}, \"id\": \"11bf0a83-842a-4510-a6b3-676607264b73\"}, {\"type\": \"BasicTickFormatter\", \"attributes\": {}, \"id\": \"c721c8a7-c87c-440a-afd1-57db0f78be2c\"}, {\"type\": \"WheelZoomTool\", \"attributes\": {\"plot\": {\"type\": \"Plot\", \"id\": \"41ae819b-f50a-411a-80c7-0d49cc226975\", \"subtype\": \"Figure\"}}, \"id\": \"8755b83b-5e0f-4015-8336-3ff32003b67c\"}, {\"type\": \"BasicTickFormatter\", \"attributes\": {}, \"id\": \"66a29735-19d1-4c27-a6b0-ffb07b034f52\"}, {\"type\": \"BasicTicker\", \"attributes\": {}, \"id\": \"a644e747-b908-40c5-a04c-d7f9bb4842ad\"}, {\"type\": \"ToolEvents\", \"attributes\": {}, \"id\": \"7429cca7-9edb-4952-9f0c-16addae6d79f\"}, {\"type\": \"LinearAxis\", \"attributes\": {\"axis_label\": \"Day\", \"plot\": {\"type\": \"Plot\", \"id\": \"42dc7392-1323-49d8-b81c-bf55dada76ec\", \"subtype\": \"Figure\"}, \"formatter\": {\"type\": \"BasicTickFormatter\", \"id\": \"b76223b6-8289-4a2d-bdb0-9f12687b9c1a\"}, \"ticker\": {\"type\": \"BasicTicker\", \"id\": \"1e199a2b-c6fa-4a8b-ae5c-e17f398b6594\"}}, \"id\": \"62d229b1-7868-486a-9ab4-9c58afd86dfb\"}, {\"type\": \"BasicTickFormatter\", \"attributes\": {}, \"id\": \"0eed27ae-896a-46d1-973c-25fbcc3ace31\"}, {\"type\": \"GlyphRenderer\", \"attributes\": {\"nonselection_glyph\": {\"type\": \"Line\", \"id\": \"114750be-1111-468c-a233-48188af54b0c\"}, \"data_source\": {\"type\": \"ColumnDataSource\", \"id\": \"53e9c0e6-95c1-4d41-aaca-b46bad388f79\"}, \"selection_glyph\": null, \"hover_glyph\": null, \"glyph\": {\"type\": \"Line\", \"id\": \"edc212e2-9c30-4cbb-8fa5-af5a1d429634\"}}, \"id\": \"dc87139c-9bd1-469f-a786-3b53ae2c68e3\"}, {\"type\": \"ColumnDataSource\", \"attributes\": {\"data\": {\"y\": [0.0, 0.45, 1.1166666666666667, 1.75, 2.433333333333333, 3.15, 3.8, 3.8833333333333333, 5.233333333333333, 5.516666666666667, 5.95, 5.9, 8.35, 7.733333333333333, 8.366666666666667, 9.5, 9.583333333333334, 10.633333333333333, 11.566666666666666, 12.35, 13.25, 11.966666666666667, 11.033333333333333, 10.166666666666666, 10.0, 8.666666666666666, 9.15, 7.25, 7.333333333333333, 6.583333333333333, 6.066666666666666, 5.95, 5.116666666666666, 3.6, 3.3, 3.566666666666667, 2.4833333333333334, 1.5, 1.1333333333333333, 0.5666666666666667], \"x\": [0, 1, 2, 3, 4, 5, 6, 7, 8, 9, 10, 11, 12, 13, 14, 15, 16, 17, 18, 19, 20, 21, 22, 23, 24, 25, 26, 27, 28, 29, 30, 31, 32, 33, 34, 35, 36, 37, 38, 39]}, \"column_names\": [\"y\", \"x\"], \"callback\": null}, \"id\": \"dd50e726-ffe3-4417-b3ca-50a196179c38\"}, {\"type\": \"PreviewSaveTool\", \"attributes\": {\"plot\": {\"type\": \"Plot\", \"id\": \"e3412a97-d19a-469e-935d-bfb931e497ab\", \"subtype\": \"Figure\"}}, \"id\": \"bdde12cd-c3e5-414d-ac1a-02ba73729b79\"}, {\"type\": \"BasicTicker\", \"attributes\": {}, \"id\": \"e04697bb-8b80-430c-a26c-261e92afe8fe\"}, {\"type\": \"BasicTickFormatter\", \"attributes\": {}, \"id\": \"d21d2aee-01c7-4d0c-8b1b-fea53a0d7d83\"}, {\"type\": \"ColumnDataSource\", \"attributes\": {\"data\": {\"y\": [0.0, 0.0, 0.0, 0.0, 1.0, 1.0, 1.0, 1.0, 2.0, 2.0, 2.0, 2.0, 3.0, 3.0, 3.0, 3.0, 4.0, 5.0, 5.0, 5.0, 5.0, 4.0, 4.0, 4.0, 4.0, 3.0, 3.0, 3.0, 3.0, 2.0, 2.0, 2.0, 2.0, 1.0, 1.0, 1.0, 1.0, 0.0, 0.0, 0.0], \"x\": [0, 1, 2, 3, 4, 5, 6, 7, 8, 9, 10, 11, 12, 13, 14, 15, 16, 17, 18, 19, 20, 21, 22, 23, 24, 25, 26, 27, 28, 29, 30, 31, 32, 33, 34, 35, 36, 37, 38, 39]}, \"column_names\": [\"y\", \"x\", \"y\", \"x\"], \"callback\": null}, \"id\": \"2dbe78ac-f0cc-4859-acd2-d90e9b42853f\"}, {\"type\": \"BasicTickFormatter\", \"attributes\": {}, \"id\": \"b76223b6-8289-4a2d-bdb0-9f12687b9c1a\"}, {\"type\": \"ResetTool\", \"attributes\": {\"plot\": {\"type\": \"Plot\", \"id\": \"41ae819b-f50a-411a-80c7-0d49cc226975\", \"subtype\": \"Figure\"}}, \"id\": \"6e7d668c-bdd1-48ad-ad87-79d2608efa5d\"}, {\"type\": \"ResetTool\", \"attributes\": {\"plot\": {\"type\": \"Plot\", \"id\": \"0fe06206-5017-4813-b2ec-d0fd0ad80555\", \"subtype\": \"Figure\"}}, \"id\": \"728a2555-2062-48b9-b75f-2019608e4a6a\"}, {\"type\": \"ToolEvents\", \"attributes\": {}, \"id\": \"a5f19de9-fdba-43c8-b246-3b1a1c5c6d03\"}, {\"type\": \"BasicTickFormatter\", \"attributes\": {}, \"id\": \"3b1a392a-5c99-4f32-8a45-7795324b62a5\"}, {\"type\": \"BasicTickFormatter\", \"attributes\": {}, \"id\": \"baf54699-888b-4c59-8688-71428ce056f1\"}, {\"type\": \"BasicTicker\", \"attributes\": {}, \"id\": \"610659ff-c487-489e-ab08-f2f4af7f23a0\"}, {\"type\": \"GlyphRenderer\", \"attributes\": {\"nonselection_glyph\": {\"type\": \"Line\", \"id\": \"f7cf2a29-764d-42d6-9d55-6bafc124031a\"}, \"data_source\": {\"type\": \"ColumnDataSource\", \"id\": \"dd50e726-ffe3-4417-b3ca-50a196179c38\"}, \"selection_glyph\": null, \"hover_glyph\": null, \"glyph\": {\"type\": \"Line\", \"id\": \"e7fad632-f2c7-4009-b318-dc02d18a7ba2\"}}, \"id\": \"b348930d-48c1-4feb-a831-038bb4383812\"}, {\"type\": \"ResizeTool\", \"attributes\": {\"plot\": {\"type\": \"Plot\", \"id\": \"0fe06206-5017-4813-b2ec-d0fd0ad80555\", \"subtype\": \"Figure\"}}, \"id\": \"a003fbe4-2f37-48c0-a496-02cbbdd0db95\"}, {\"type\": \"Grid\", \"attributes\": {\"plot\": {\"type\": \"Plot\", \"id\": \"07de6f7c-d35e-42a8-a0ac-e92516b552c0\", \"subtype\": \"Figure\"}, \"dimension\": 1, \"ticker\": {\"type\": \"BasicTicker\", \"id\": \"feef39bd-6dc0-409c-ba1c-0d13f2a5e7f7\"}}, \"id\": \"9d20c876-3712-418c-87dd-121e934b3410\"}, {\"type\": \"ToolEvents\", \"attributes\": {}, \"id\": \"a617e3f5-5337-4a56-8f3f-54f1f83a9cb5\"}, {\"type\": \"LinearAxis\", \"attributes\": {\"axis_label\": \"Inflammation\", \"plot\": {\"type\": \"Plot\", \"id\": \"07de6f7c-d35e-42a8-a0ac-e92516b552c0\", \"subtype\": \"Figure\"}, \"formatter\": {\"type\": \"BasicTickFormatter\", \"id\": \"baf54699-888b-4c59-8688-71428ce056f1\"}, \"ticker\": {\"type\": \"BasicTicker\", \"id\": \"feef39bd-6dc0-409c-ba1c-0d13f2a5e7f7\"}}, \"id\": \"f87a0999-c923-476e-a144-d6f192c2a42f\"}, {\"type\": \"LinearAxis\", \"attributes\": {\"axis_label\": \"Inflammation\", \"plot\": {\"type\": \"Plot\", \"id\": \"1cb8a836-ad53-4b2b-bbd4-3db4e3b75bf2\", \"subtype\": \"Figure\"}, \"formatter\": {\"type\": \"BasicTickFormatter\", \"id\": \"c729d29d-336c-4459-b0e5-a205646dfca8\"}, \"ticker\": {\"type\": \"BasicTicker\", \"id\": \"0a20864d-7b74-4ad1-813e-8674637a3a1d\"}}, \"id\": \"0a4cb264-3304-4b5c-8e61-c57ddaada748\"}, {\"type\": \"DataRange1d\", \"attributes\": {\"callback\": null}, \"id\": \"e3f3b131-6f64-4c9a-a87a-f109e89cc29b\"}, {\"type\": \"Grid\", \"attributes\": {\"plot\": {\"type\": \"Plot\", \"id\": \"c55136e3-b542-4820-a893-ac2bc3319c81\", \"subtype\": \"Figure\"}, \"dimension\": 1, \"ticker\": {\"type\": \"BasicTicker\", \"id\": \"951e14bb-e516-4693-8742-5948ae3dcb48\"}}, \"id\": \"9a84768e-e128-4b19-9170-6bfebecc41a1\"}, {\"type\": \"Line\", \"attributes\": {\"line_alpha\": {\"value\": 0.1}, \"line_color\": {\"value\": \"#1f77b4\"}, \"x\": {\"field\": \"x\"}, \"y\": {\"field\": \"y\"}}, \"id\": \"6a571078-8b38-4c55-8441-57f18d97b2ea\"}, {\"type\": \"BoxZoomTool\", \"attributes\": {\"plot\": {\"type\": \"Plot\", \"id\": \"59899abe-fc82-4e86-bbca-9be468ead2f6\", \"subtype\": \"Figure\"}, \"overlay\": {\"type\": \"BoxAnnotation\", \"id\": \"c8c0157d-12e8-462e-9e73-8d941daba2ec\"}}, \"id\": \"149eafca-7301-4c9e-a178-a2ba2dbc3729\"}, {\"type\": \"ResetTool\", \"attributes\": {\"plot\": {\"type\": \"Plot\", \"id\": \"c55136e3-b542-4820-a893-ac2bc3319c81\", \"subtype\": \"Figure\"}}, \"id\": \"e72ca6b0-e354-4a4c-90bb-5abcdc05bb27\"}, {\"type\": \"Line\", \"attributes\": {\"line_color\": {\"value\": \"#1f77b4\"}, \"x\": {\"field\": \"x\"}, \"y\": {\"field\": \"y\"}}, \"id\": \"add7cc6d-42ae-46d1-8cef-e5b880f444b8\"}, {\"type\": \"DataRange1d\", \"attributes\": {\"callback\": null}, \"id\": \"c2bd80c7-53a1-4f26-8e4e-f88c88bb29fc\"}, {\"type\": \"ToolEvents\", \"attributes\": {}, \"id\": \"9756d811-7481-46eb-b70e-6df3dddb6b08\"}, {\"type\": \"DataRange1d\", \"attributes\": {\"callback\": null}, \"id\": \"f2131dd8-3835-4883-bf02-24fe5b60b45e\"}, {\"type\": \"DataRange1d\", \"attributes\": {\"callback\": null}, \"id\": \"0542f082-ec16-4027-be96-66c2984b87b6\"}, {\"type\": \"GlyphRenderer\", \"attributes\": {\"nonselection_glyph\": {\"type\": \"Line\", \"id\": \"f5c301d0-7f55-493b-b27b-56a8a6ff0bab\"}, \"data_source\": {\"type\": \"ColumnDataSource\", \"id\": \"82aba571-f6ce-4f95-9e6d-feda630f89b8\"}, \"selection_glyph\": null, \"hover_glyph\": null, \"glyph\": {\"type\": \"Line\", \"id\": \"d0b9a26f-0a04-4144-9653-e22655baa60e\"}}, \"id\": \"9b80651d-0cef-4a73-b7b4-33409c747b4f\"}, {\"type\": \"BasicTicker\", \"attributes\": {}, \"id\": \"feef39bd-6dc0-409c-ba1c-0d13f2a5e7f7\"}, {\"type\": \"ResetTool\", \"attributes\": {\"plot\": {\"type\": \"Plot\", \"id\": \"1cb8a836-ad53-4b2b-bbd4-3db4e3b75bf2\", \"subtype\": \"Figure\"}}, \"id\": \"35906852-1443-4cdb-aa57-eae8bc02bbe1\"}, {\"type\": \"Line\", \"attributes\": {\"line_color\": {\"value\": \"#1f77b4\"}, \"x\": {\"field\": \"x\"}, \"y\": {\"field\": \"y\"}}, \"id\": \"9b13d037-e964-494d-b9e8-e95b38783bde\"}, {\"type\": \"Plot\", \"attributes\": {\"x_range\": {\"type\": \"DataRange1d\", \"id\": \"baf71888-ef7c-4f4f-8e44-b2dbf3316545\"}, \"left\": [{\"type\": \"LinearAxis\", \"id\": \"0a4cb264-3304-4b5c-8e61-c57ddaada748\"}], \"renderers\": [{\"type\": \"LinearAxis\", \"id\": \"fa4fcf62-1b8d-49e0-a4f5-fb46900d6651\"}, {\"type\": \"Grid\", \"id\": \"22fa42a1-9356-433a-a72a-73fa316e148d\"}, {\"type\": \"LinearAxis\", \"id\": \"0a4cb264-3304-4b5c-8e61-c57ddaada748\"}, {\"type\": \"Grid\", \"id\": \"2f3d41de-45f5-447d-9cab-5fd4aad7c35f\"}, {\"type\": \"BoxAnnotation\", \"id\": \"d3f6d36c-57a1-4885-b40f-20d672d7d929\"}, {\"type\": \"GlyphRenderer\", \"id\": \"11bf0a83-842a-4510-a6b3-676607264b73\"}], \"tool_events\": {\"type\": \"ToolEvents\", \"id\": \"a617e3f5-5337-4a56-8f3f-54f1f83a9cb5\"}, \"tools\": [{\"type\": \"PanTool\", \"id\": \"8f1533a9-2636-408c-8b01-2d0b40e4628a\"}, {\"type\": \"WheelZoomTool\", \"id\": \"754a83ca-1522-40a2-9f66-aa4bbc4509be\"}, {\"type\": \"BoxZoomTool\", \"id\": \"0c685000-6462-4dc8-9bce-e5b2777bf295\"}, {\"type\": \"PreviewSaveTool\", \"id\": \"ee343276-1907-4272-816a-b78e0dd0b363\"}, {\"type\": \"ResizeTool\", \"id\": \"7d1be0ce-8d1d-4d24-959a-15c4df53b1c8\"}, {\"type\": \"ResetTool\", \"id\": \"35906852-1443-4cdb-aa57-eae8bc02bbe1\"}, {\"type\": \"HelpTool\", \"id\": \"d5375267-311a-46e6-9111-d50e9260eff5\"}], \"y_range\": {\"type\": \"DataRange1d\", \"id\": \"5da766aa-69fe-4016-b3b9-6765dbb6959e\"}, \"below\": [{\"type\": \"LinearAxis\", \"id\": \"fa4fcf62-1b8d-49e0-a4f5-fb46900d6651\"}]}, \"subtype\": \"Figure\", \"id\": \"1cb8a836-ad53-4b2b-bbd4-3db4e3b75bf2\"}, {\"type\": \"BasicTicker\", \"attributes\": {}, \"id\": \"6f2708b1-b5d3-4de2-b645-7dae672c2f55\"}, {\"type\": \"WheelZoomTool\", \"attributes\": {\"plot\": {\"type\": \"Plot\", \"id\": \"c55136e3-b542-4820-a893-ac2bc3319c81\", \"subtype\": \"Figure\"}}, \"id\": \"c9ccee80-3bcf-4443-b071-842fe6273c54\"}, {\"type\": \"Line\", \"attributes\": {\"line_alpha\": {\"value\": 0.1}, \"line_color\": {\"value\": \"#1f77b4\"}, \"x\": {\"field\": \"x\"}, \"y\": {\"field\": \"y\"}}, \"id\": \"f5c301d0-7f55-493b-b27b-56a8a6ff0bab\"}, {\"type\": \"BasicTicker\", \"attributes\": {}, \"id\": \"e53eb193-2063-43fc-9919-e5d9d92c5d29\"}, {\"type\": \"LinearAxis\", \"attributes\": {\"axis_label\": \"Day\", \"plot\": {\"type\": \"Plot\", \"id\": \"d02bdba0-7f6d-44ee-be67-fccdac233d4b\", \"subtype\": \"Figure\"}, \"formatter\": {\"type\": \"BasicTickFormatter\", \"id\": \"d21d2aee-01c7-4d0c-8b1b-fea53a0d7d83\"}, \"ticker\": {\"type\": \"BasicTicker\", \"id\": \"610659ff-c487-489e-ab08-f2f4af7f23a0\"}}, \"id\": \"46a92eed-5988-4d99-a2ac-75bff95a96e1\"}, {\"type\": \"Grid\", \"attributes\": {\"plot\": {\"type\": \"Plot\", \"id\": \"59899abe-fc82-4e86-bbca-9be468ead2f6\", \"subtype\": \"Figure\"}, \"dimension\": 1, \"ticker\": {\"type\": \"BasicTicker\", \"id\": \"e04697bb-8b80-430c-a26c-261e92afe8fe\"}}, \"id\": \"93e4db4f-65e6-4a25-b5be-0aaa77475f61\"}, {\"type\": \"DataRange1d\", \"attributes\": {\"callback\": null}, \"id\": \"5bd14e38-0bf7-4412-83b7-06f83135687d\"}, {\"type\": \"BoxAnnotation\", \"attributes\": {\"fill_alpha\": {\"value\": 0.5}, \"line_dash\": [4, 4], \"render_mode\": \"css\", \"bottom_units\": \"screen\", \"right_units\": \"screen\", \"line_alpha\": {\"value\": 1.0}, \"plot\": null, \"top_units\": \"screen\", \"fill_color\": {\"value\": \"lightgrey\"}, \"line_width\": {\"value\": 2}, \"left_units\": \"screen\", \"level\": \"overlay\", \"line_color\": {\"value\": \"black\"}}, \"id\": \"d3f6d36c-57a1-4885-b40f-20d672d7d929\"}, {\"type\": \"Grid\", \"attributes\": {\"plot\": {\"type\": \"Plot\", \"id\": \"42dc7392-1323-49d8-b81c-bf55dada76ec\", \"subtype\": \"Figure\"}, \"ticker\": {\"type\": \"BasicTicker\", \"id\": \"1e199a2b-c6fa-4a8b-ae5c-e17f398b6594\"}}, \"id\": \"9804f50c-4612-474e-ba1f-112983af8c04\"}, {\"type\": \"WheelZoomTool\", \"attributes\": {\"plot\": {\"type\": \"Plot\", \"id\": \"d02bdba0-7f6d-44ee-be67-fccdac233d4b\", \"subtype\": \"Figure\"}}, \"id\": \"5a332e9b-e61d-4244-b422-f026d6b28c03\"}, {\"type\": \"GlyphRenderer\", \"attributes\": {\"nonselection_glyph\": {\"type\": \"Line\", \"id\": \"6ba36a44-022d-4800-9685-5ba5da76286f\"}, \"data_source\": {\"type\": \"ColumnDataSource\", \"id\": \"fab79e8e-6275-4c7e-a55b-ca5bf396de8b\"}, \"selection_glyph\": null, \"hover_glyph\": null, \"glyph\": {\"type\": \"Line\", \"id\": \"237397c5-bfaa-4043-a6fc-d6b3501515c3\"}}, \"id\": \"97cb1ed4-7e5c-4482-bbbe-45139c039925\"}, {\"type\": \"ResizeTool\", \"attributes\": {\"plot\": {\"type\": \"Plot\", \"id\": \"6dc380a6-b1ae-4eff-9330-34cd39dbf16e\", \"subtype\": \"Figure\"}}, \"id\": \"08bfd82b-58c8-4896-9b8d-01ae3bc83239\"}, {\"type\": \"DataRange1d\", \"attributes\": {\"callback\": null}, \"id\": \"507a1bf7-72e8-450f-b33b-0a5d59a2fc98\"}, {\"type\": \"PanTool\", \"attributes\": {\"plot\": {\"type\": \"Plot\", \"id\": \"41ae819b-f50a-411a-80c7-0d49cc226975\", \"subtype\": \"Figure\"}}, \"id\": \"d6d24be6-3b69-4855-8c5f-50f923af15b6\"}, {\"type\": \"PreviewSaveTool\", \"attributes\": {\"plot\": {\"type\": \"Plot\", \"id\": \"59899abe-fc82-4e86-bbca-9be468ead2f6\", \"subtype\": \"Figure\"}}, \"id\": \"62c540be-18a6-4269-8be6-4267ecbbdbb8\"}, {\"type\": \"BoxZoomTool\", \"attributes\": {\"plot\": {\"type\": \"Plot\", \"id\": \"42dc7392-1323-49d8-b81c-bf55dada76ec\", \"subtype\": \"Figure\"}, \"overlay\": {\"type\": \"BoxAnnotation\", \"id\": \"903cddaf-06b4-45eb-b0e0-ce5fc7a3ffca\"}}, \"id\": \"0fcca2ff-c8ac-429d-9248-3b53c040905e\"}, {\"type\": \"WheelZoomTool\", \"attributes\": {\"plot\": {\"type\": \"Plot\", \"id\": \"6dc380a6-b1ae-4eff-9330-34cd39dbf16e\", \"subtype\": \"Figure\"}}, \"id\": \"44562f08-da51-4b94-b731-efb480b49cd6\"}, {\"type\": \"BoxZoomTool\", \"attributes\": {\"plot\": {\"type\": \"Plot\", \"id\": \"d02bdba0-7f6d-44ee-be67-fccdac233d4b\", \"subtype\": \"Figure\"}, \"overlay\": {\"type\": \"BoxAnnotation\", \"id\": \"97b61806-c300-4386-91ea-44f1cd79ac07\"}}, \"id\": \"7251f50e-4276-4233-aab5-87146a7032dd\"}, {\"type\": \"Line\", \"attributes\": {\"line_color\": {\"value\": \"#1f77b4\"}, \"x\": {\"field\": \"x\"}, \"y\": {\"field\": \"y\"}}, \"id\": \"e7fad632-f2c7-4009-b318-dc02d18a7ba2\"}, {\"type\": \"BasicTicker\", \"attributes\": {}, \"id\": \"136e5db2-9730-490c-a451-f4d46cf259a2\"}, {\"type\": \"ColumnDataSource\", \"attributes\": {\"data\": {\"y\": [0.0, 0.45, 1.1166666666666667, 1.75, 2.433333333333333, 3.15, 3.8, 3.8833333333333333, 5.233333333333333, 5.516666666666667, 5.95, 5.9, 8.35, 7.733333333333333, 8.366666666666667, 9.5, 9.583333333333334, 10.633333333333333, 11.566666666666666, 12.35, 13.25, 11.966666666666667, 11.033333333333333, 10.166666666666666, 10.0, 8.666666666666666, 9.15, 7.25, 7.333333333333333, 6.583333333333333, 6.066666666666666, 5.95, 5.116666666666666, 3.6, 3.3, 3.566666666666667, 2.4833333333333334, 1.5, 1.1333333333333333, 0.5666666666666667], \"x\": [0, 1, 2, 3, 4, 5, 6, 7, 8, 9, 10, 11, 12, 13, 14, 15, 16, 17, 18, 19, 20, 21, 22, 23, 24, 25, 26, 27, 28, 29, 30, 31, 32, 33, 34, 35, 36, 37, 38, 39]}, \"column_names\": [\"y\", \"x\"], \"callback\": null}, \"id\": \"db6d560f-ea3d-4091-abf3-a905ba8feab2\"}, {\"type\": \"BoxAnnotation\", \"attributes\": {\"fill_alpha\": {\"value\": 0.5}, \"line_dash\": [4, 4], \"render_mode\": \"css\", \"bottom_units\": \"screen\", \"right_units\": \"screen\", \"line_alpha\": {\"value\": 1.0}, \"plot\": null, \"top_units\": \"screen\", \"fill_color\": {\"value\": \"lightgrey\"}, \"line_width\": {\"value\": 2}, \"left_units\": \"screen\", \"level\": \"overlay\", \"line_color\": {\"value\": \"black\"}}, \"id\": \"033c3e3b-60f5-4cdd-97a5-ad5ce8760f80\"}, {\"type\": \"HelpTool\", \"attributes\": {\"plot\": {\"type\": \"Plot\", \"id\": \"d02bdba0-7f6d-44ee-be67-fccdac233d4b\", \"subtype\": \"Figure\"}}, \"id\": \"11d27d3d-2c0d-4b47-90f0-e179db4af9e1\"}, {\"type\": \"Legend\", \"attributes\": {\"plot\": {\"type\": \"Plot\", \"id\": \"0fe06206-5017-4813-b2ec-d0fd0ad80555\", \"subtype\": \"Figure\"}, \"legends\": [[\"Average\", [{\"type\": \"GlyphRenderer\", \"id\": \"7da80203-c492-43de-948f-e3334715659e\"}]], [\"Max\", [{\"type\": \"GlyphRenderer\", \"id\": \"9b80651d-0cef-4a73-b7b4-33409c747b4f\"}]], [\"Min\", [{\"type\": \"GlyphRenderer\", \"id\": \"2903e827-6d90-4cca-a85d-4d74eb6fd69c\"}]]]}, \"id\": \"b3b30aac-53d1-4076-a4bf-58ace1ca2d27\"}, {\"type\": \"ToolEvents\", \"attributes\": {}, \"id\": \"f610919f-363d-4a31-ae85-49e9de3008e3\"}, {\"type\": \"Grid\", \"attributes\": {\"plot\": {\"type\": \"Plot\", \"id\": \"1cb8a836-ad53-4b2b-bbd4-3db4e3b75bf2\", \"subtype\": \"Figure\"}, \"ticker\": {\"type\": \"BasicTicker\", \"id\": \"72d9fa8f-44b1-46b0-a737-eeccbacfbe95\"}}, \"id\": \"22fa42a1-9356-433a-a72a-73fa316e148d\"}, {\"type\": \"ResetTool\", \"attributes\": {\"plot\": {\"type\": \"Plot\", \"id\": \"42dc7392-1323-49d8-b81c-bf55dada76ec\", \"subtype\": \"Figure\"}}, \"id\": \"88c54c77-acca-49a2-8ebf-00773c63a3be\"}, {\"type\": \"DataRange1d\", \"attributes\": {\"callback\": null}, \"id\": \"00227695-5e52-4335-8036-6f4b35d5e4d9\"}, {\"type\": \"LinearAxis\", \"attributes\": {\"axis_label\": \"Inflammation\", \"plot\": {\"type\": \"Plot\", \"id\": \"42dc7392-1323-49d8-b81c-bf55dada76ec\", \"subtype\": \"Figure\"}, \"formatter\": {\"type\": \"BasicTickFormatter\", \"id\": \"96df3347-c855-45e7-92f6-67adfa7c2b5b\"}, \"ticker\": {\"type\": \"BasicTicker\", \"id\": \"e53eb193-2063-43fc-9919-e5d9d92c5d29\"}}, \"id\": \"89ab87f1-0194-448f-92d0-974446bee317\"}, {\"type\": \"LinearAxis\", \"attributes\": {\"axis_label\": \"Day\", \"plot\": {\"type\": \"Plot\", \"id\": \"e3412a97-d19a-469e-935d-bfb931e497ab\", \"subtype\": \"Figure\"}, \"formatter\": {\"type\": \"BasicTickFormatter\", \"id\": \"39748f90-d0f6-448d-8e20-0333a0fc0ec5\"}, \"ticker\": {\"type\": \"BasicTicker\", \"id\": \"4d5e6592-80ff-4cfd-baea-f37aafcf5f0b\"}}, \"id\": \"90c95a76-fa7d-468a-b1a4-29f41e4b3021\"}, {\"type\": \"Plot\", \"attributes\": {\"x_range\": {\"type\": \"DataRange1d\", \"id\": \"00227695-5e52-4335-8036-6f4b35d5e4d9\"}, \"left\": [{\"type\": \"LinearAxis\", \"id\": \"5493b375-22cf-42a4-bfd9-33739f0cb970\"}], \"renderers\": [{\"type\": \"LinearAxis\", \"id\": \"879152e7-3009-4d38-9006-f935343b008a\"}, {\"type\": \"Grid\", \"id\": \"c09ea3db-c7c8-41fd-b355-3c1bf4d973b8\"}, {\"type\": \"LinearAxis\", \"id\": \"5493b375-22cf-42a4-bfd9-33739f0cb970\"}, {\"type\": \"Grid\", \"id\": \"93e4db4f-65e6-4a25-b5be-0aaa77475f61\"}, {\"type\": \"BoxAnnotation\", \"id\": \"c8c0157d-12e8-462e-9e73-8d941daba2ec\"}, {\"type\": \"GlyphRenderer\", \"id\": \"003dfb82-5084-4961-8908-ab7a20841b9e\"}], \"tool_events\": {\"type\": \"ToolEvents\", \"id\": \"9756d811-7481-46eb-b70e-6df3dddb6b08\"}, \"tools\": [{\"type\": \"PanTool\", \"id\": \"eedc984b-3087-435c-aabd-9caba0352783\"}, {\"type\": \"WheelZoomTool\", \"id\": \"668aeb42-52fb-455e-ad24-1e5c036cb354\"}, {\"type\": \"BoxZoomTool\", \"id\": \"149eafca-7301-4c9e-a178-a2ba2dbc3729\"}, {\"type\": \"PreviewSaveTool\", \"id\": \"62c540be-18a6-4269-8be6-4267ecbbdbb8\"}, {\"type\": \"ResizeTool\", \"id\": \"190fb071-956a-429e-86db-a8e130c83fa5\"}, {\"type\": \"ResetTool\", \"id\": \"6e718466-8c44-475c-a417-02e1af4fa09b\"}, {\"type\": \"HelpTool\", \"id\": \"b4dc18ba-54a9-48fa-b451-97c7aa393c25\"}], \"y_range\": {\"type\": \"DataRange1d\", \"id\": \"8fab73ea-93e7-4837-8ace-a9b1ac3eb84d\"}, \"below\": [{\"type\": \"LinearAxis\", \"id\": \"879152e7-3009-4d38-9006-f935343b008a\"}]}, \"subtype\": \"Figure\", \"id\": \"59899abe-fc82-4e86-bbca-9be468ead2f6\"}, {\"type\": \"BoxZoomTool\", \"attributes\": {\"plot\": {\"type\": \"Plot\", \"id\": \"1cb8a836-ad53-4b2b-bbd4-3db4e3b75bf2\", \"subtype\": \"Figure\"}, \"overlay\": {\"type\": \"BoxAnnotation\", \"id\": \"d3f6d36c-57a1-4885-b40f-20d672d7d929\"}}, \"id\": \"0c685000-6462-4dc8-9bce-e5b2777bf295\"}, {\"type\": \"ResetTool\", \"attributes\": {\"plot\": {\"type\": \"Plot\", \"id\": \"6dc380a6-b1ae-4eff-9330-34cd39dbf16e\", \"subtype\": \"Figure\"}}, \"id\": \"299bea49-2051-4a1d-93d4-bdd20bcac595\"}, {\"type\": \"PanTool\", \"attributes\": {\"plot\": {\"type\": \"Plot\", \"id\": \"1cb8a836-ad53-4b2b-bbd4-3db4e3b75bf2\", \"subtype\": \"Figure\"}}, \"id\": \"8f1533a9-2636-408c-8b01-2d0b40e4628a\"}, {\"type\": \"ColumnDataSource\", \"attributes\": {\"data\": {\"y\": [0.0, 1.0, 2.0, 3.0, 4.0, 5.0, 6.0, 7.0, 8.0, 9.0, 10.0, 11.0, 12.0, 13.0, 14.0, 15.0, 16.0, 17.0, 18.0, 19.0, 20.0, 19.0, 18.0, 17.0, 16.0, 15.0, 14.0, 13.0, 12.0, 11.0, 10.0, 9.0, 8.0, 7.0, 6.0, 5.0, 4.0, 3.0, 2.0, 1.0], \"x\": [0, 1, 2, 3, 4, 5, 6, 7, 8, 9, 10, 11, 12, 13, 14, 15, 16, 17, 18, 19, 20, 21, 22, 23, 24, 25, 26, 27, 28, 29, 30, 31, 32, 33, 34, 35, 36, 37, 38, 39]}, \"column_names\": [\"y\", \"x\"], \"callback\": null}, \"id\": \"82aba571-f6ce-4f95-9e6d-feda630f89b8\"}, {\"type\": \"BasicTicker\", \"attributes\": {}, \"id\": \"ef4435a3-1836-47b5-88ca-aa1079b2f6b9\"}, {\"type\": \"PreviewSaveTool\", \"attributes\": {\"plot\": {\"type\": \"Plot\", \"id\": \"0fe06206-5017-4813-b2ec-d0fd0ad80555\", \"subtype\": \"Figure\"}}, \"id\": \"400af48b-3a4b-48d9-8759-c2254b24bdbc\"}, {\"type\": \"ResizeTool\", \"attributes\": {\"plot\": {\"type\": \"Plot\", \"id\": \"42dc7392-1323-49d8-b81c-bf55dada76ec\", \"subtype\": \"Figure\"}}, \"id\": \"73cf7951-895c-4faf-b590-bfd1696ea9ee\"}, {\"type\": \"BasicTickFormatter\", \"attributes\": {}, \"id\": \"704213c9-af86-4fed-836e-a6b30c99929b\"}, {\"type\": \"ResetTool\", \"attributes\": {\"plot\": {\"type\": \"Plot\", \"id\": \"07de6f7c-d35e-42a8-a0ac-e92516b552c0\", \"subtype\": \"Figure\"}}, \"id\": \"31503fe7-66ee-4e61-b75b-74cf02e89dc5\"}, {\"type\": \"LinearAxis\", \"attributes\": {\"axis_label\": \"Inflammation\", \"plot\": {\"type\": \"Plot\", \"id\": \"e3412a97-d19a-469e-935d-bfb931e497ab\", \"subtype\": \"Figure\"}, \"formatter\": {\"type\": \"BasicTickFormatter\", \"id\": \"126f014c-f643-4ba9-9b99-f1ae1b7cb89e\"}, \"ticker\": {\"type\": \"BasicTicker\", \"id\": \"54dd9b74-19f5-4dc2-b209-09782205e666\"}}, \"id\": \"66dd04e9-62f2-4f64-a9e1-2243dfbd5340\"}, {\"type\": \"Line\", \"attributes\": {\"line_alpha\": {\"value\": 0.1}, \"line_color\": {\"value\": \"#1f77b4\"}, \"x\": {\"field\": \"x\"}, \"y\": {\"field\": \"y\"}}, \"id\": \"7ea52bd7-c5ec-469c-98a3-79567b3aed44\"}, {\"type\": \"BasicTicker\", \"attributes\": {}, \"id\": \"4d5e6592-80ff-4cfd-baea-f37aafcf5f0b\"}, {\"type\": \"WheelZoomTool\", \"attributes\": {\"plot\": {\"type\": \"Plot\", \"id\": \"0fe06206-5017-4813-b2ec-d0fd0ad80555\", \"subtype\": \"Figure\"}}, \"id\": \"1a153d9d-0349-4fc2-9129-2c6aa879f867\"}, {\"type\": \"BoxAnnotation\", \"attributes\": {\"fill_alpha\": {\"value\": 0.5}, \"line_dash\": [4, 4], \"render_mode\": \"css\", \"bottom_units\": \"screen\", \"right_units\": \"screen\", \"line_alpha\": {\"value\": 1.0}, \"plot\": null, \"top_units\": \"screen\", \"fill_color\": {\"value\": \"lightgrey\"}, \"line_width\": {\"value\": 2}, \"left_units\": \"screen\", \"level\": \"overlay\", \"line_color\": {\"value\": \"black\"}}, \"id\": \"903cddaf-06b4-45eb-b0e0-ce5fc7a3ffca\"}, {\"type\": \"ResetTool\", \"attributes\": {\"plot\": {\"type\": \"Plot\", \"id\": \"59899abe-fc82-4e86-bbca-9be468ead2f6\", \"subtype\": \"Figure\"}}, \"id\": \"6e718466-8c44-475c-a417-02e1af4fa09b\"}, {\"type\": \"Grid\", \"attributes\": {\"plot\": {\"type\": \"Plot\", \"id\": \"0fe06206-5017-4813-b2ec-d0fd0ad80555\", \"subtype\": \"Figure\"}, \"ticker\": {\"type\": \"BasicTicker\", \"id\": \"a644e747-b908-40c5-a04c-d7f9bb4842ad\"}}, \"id\": \"be4c6aa7-e862-4532-a746-23c68f824094\"}, {\"type\": \"Grid\", \"attributes\": {\"plot\": {\"type\": \"Plot\", \"id\": \"6dc380a6-b1ae-4eff-9330-34cd39dbf16e\", \"subtype\": \"Figure\"}, \"dimension\": 1, \"ticker\": {\"type\": \"BasicTicker\", \"id\": \"8528bf71-b88e-4169-b7b0-efeb18d34714\"}}, \"id\": \"21c2b41b-4e43-4cfb-aefe-4ea3b1606de5\"}, {\"type\": \"Grid\", \"attributes\": {\"plot\": {\"type\": \"Plot\", \"id\": \"42dc7392-1323-49d8-b81c-bf55dada76ec\", \"subtype\": \"Figure\"}, \"dimension\": 1, \"ticker\": {\"type\": \"BasicTicker\", \"id\": \"e53eb193-2063-43fc-9919-e5d9d92c5d29\"}}, \"id\": \"777259a5-2a0f-4411-96fb-b7ed07fa37aa\"}, {\"type\": \"WheelZoomTool\", \"attributes\": {\"plot\": {\"type\": \"Plot\", \"id\": \"59899abe-fc82-4e86-bbca-9be468ead2f6\", \"subtype\": \"Figure\"}}, \"id\": \"668aeb42-52fb-455e-ad24-1e5c036cb354\"}, {\"type\": \"BoxZoomTool\", \"attributes\": {\"plot\": {\"type\": \"Plot\", \"id\": \"6dc380a6-b1ae-4eff-9330-34cd39dbf16e\", \"subtype\": \"Figure\"}, \"overlay\": {\"type\": \"BoxAnnotation\", \"id\": \"239738b3-b75b-4a73-a0e2-7f8200ec241d\"}}, \"id\": \"b4c483d1-35a5-4fcc-971e-cef677d7d3db\"}, {\"type\": \"WheelZoomTool\", \"attributes\": {\"plot\": {\"type\": \"Plot\", \"id\": \"e3412a97-d19a-469e-935d-bfb931e497ab\", \"subtype\": \"Figure\"}}, \"id\": \"fc20012f-1271-4a79-91f5-8f415618c132\"}, {\"type\": \"WheelZoomTool\", \"attributes\": {\"plot\": {\"type\": \"Plot\", \"id\": \"b7d3a0f4-448a-4a9d-841c-d8c60a5a960a\", \"subtype\": \"Figure\"}}, \"id\": \"a4cc0c50-4ed9-4227-8c90-afd9dbd34e45\"}, {\"type\": \"Grid\", \"attributes\": {\"plot\": {\"type\": \"Plot\", \"id\": \"1cb8a836-ad53-4b2b-bbd4-3db4e3b75bf2\", \"subtype\": \"Figure\"}, \"dimension\": 1, \"ticker\": {\"type\": \"BasicTicker\", \"id\": \"0a20864d-7b74-4ad1-813e-8674637a3a1d\"}}, \"id\": \"2f3d41de-45f5-447d-9cab-5fd4aad7c35f\"}, {\"type\": \"Plot\", \"attributes\": {\"x_range\": {\"type\": \"DataRange1d\", \"id\": \"ec094be6-55cf-4253-b4af-9e06e303cd28\"}, \"left\": [{\"type\": \"LinearAxis\", \"id\": \"481239aa-7517-4795-bff8-f95b3bb1b97f\"}], \"renderers\": [{\"type\": \"LinearAxis\", \"id\": \"46a92eed-5988-4d99-a2ac-75bff95a96e1\"}, {\"type\": \"Grid\", \"id\": \"1ed795f1-fc6d-4d8c-b7d4-68870816fba6\"}, {\"type\": \"LinearAxis\", \"id\": \"481239aa-7517-4795-bff8-f95b3bb1b97f\"}, {\"type\": \"Grid\", \"id\": \"4cc27668-e398-4b3f-a058-91c17653e855\"}, {\"type\": \"BoxAnnotation\", \"id\": \"97b61806-c300-4386-91ea-44f1cd79ac07\"}, {\"type\": \"GlyphRenderer\", \"id\": \"d042a634-1b7b-423d-8bb5-a18620f0f02c\"}], \"tool_events\": {\"type\": \"ToolEvents\", \"id\": \"617aa615-970f-49ff-beaf-e578b095a1ce\"}, \"tools\": [{\"type\": \"PanTool\", \"id\": \"5224d690-eada-452b-861c-d2c9e92b96d2\"}, {\"type\": \"WheelZoomTool\", \"id\": \"5a332e9b-e61d-4244-b422-f026d6b28c03\"}, {\"type\": \"BoxZoomTool\", \"id\": \"7251f50e-4276-4233-aab5-87146a7032dd\"}, {\"type\": \"PreviewSaveTool\", \"id\": \"d496ab65-1cd1-4f50-94e8-b5e70338b5aa\"}, {\"type\": \"ResizeTool\", \"id\": \"9a3b2291-e081-4a42-aeaa-15e6bcb4c4e6\"}, {\"type\": \"ResetTool\", \"id\": \"4f963fba-5e70-4bd9-9797-7fc93806cb53\"}, {\"type\": \"HelpTool\", \"id\": \"11d27d3d-2c0d-4b47-90f0-e179db4af9e1\"}], \"y_range\": {\"type\": \"DataRange1d\", \"id\": \"ed663852-62f6-42e9-8955-227767acd55a\"}, \"below\": [{\"type\": \"LinearAxis\", \"id\": \"46a92eed-5988-4d99-a2ac-75bff95a96e1\"}]}, \"subtype\": \"Figure\", \"id\": \"d02bdba0-7f6d-44ee-be67-fccdac233d4b\"}, {\"type\": \"ColumnDataSource\", \"attributes\": {\"data\": {\"y\": [0.0, 0.45, 1.1166666666666667, 1.75, 2.433333333333333, 3.15, 3.8, 3.8833333333333333, 5.233333333333333, 5.516666666666667, 5.95, 5.9, 8.35, 7.733333333333333, 8.366666666666667, 9.5, 9.583333333333334, 10.633333333333333, 11.566666666666666, 12.35, 13.25, 11.966666666666667, 11.033333333333333, 10.166666666666666, 10.0, 8.666666666666666, 9.15, 7.25, 7.333333333333333, 6.583333333333333, 6.066666666666666, 5.95, 5.116666666666666, 3.6, 3.3, 3.566666666666667, 2.4833333333333334, 1.5, 1.1333333333333333, 0.5666666666666667], \"x\": [0, 1, 2, 3, 4, 5, 6, 7, 8, 9, 10, 11, 12, 13, 14, 15, 16, 17, 18, 19, 20, 21, 22, 23, 24, 25, 26, 27, 28, 29, 30, 31, 32, 33, 34, 35, 36, 37, 38, 39]}, \"column_names\": [\"y\", \"x\", \"y\", \"x\", \"y\", \"x\"], \"callback\": null}, \"id\": \"5975212c-17ec-4063-9b0c-6c35561d3497\"}, {\"type\": \"HelpTool\", \"attributes\": {\"plot\": {\"type\": \"Plot\", \"id\": \"59899abe-fc82-4e86-bbca-9be468ead2f6\", \"subtype\": \"Figure\"}}, \"id\": \"b4dc18ba-54a9-48fa-b451-97c7aa393c25\"}, {\"type\": \"GlyphRenderer\", \"attributes\": {\"nonselection_glyph\": {\"type\": \"Line\", \"id\": \"fe34f610-860c-4db1-9ff4-12f0a7a68758\"}, \"data_source\": {\"type\": \"ColumnDataSource\", \"id\": \"5975212c-17ec-4063-9b0c-6c35561d3497\"}, \"selection_glyph\": null, \"hover_glyph\": null, \"glyph\": {\"type\": \"Line\", \"id\": \"3a754866-04c3-40f1-ad10-44852c41d04c\"}}, \"id\": \"003dfb82-5084-4961-8908-ab7a20841b9e\"}, {\"type\": \"DataRange1d\", \"attributes\": {\"callback\": null}, \"id\": \"25123b20-2313-45f3-ae81-b388d468c6e2\"}, {\"type\": \"ResizeTool\", \"attributes\": {\"plot\": {\"type\": \"Plot\", \"id\": \"c55136e3-b542-4820-a893-ac2bc3319c81\", \"subtype\": \"Figure\"}}, \"id\": \"0db8d475-8105-41d5-9af9-38a9338cf539\"}, {\"type\": \"PreviewSaveTool\", \"attributes\": {\"plot\": {\"type\": \"Plot\", \"id\": \"b7d3a0f4-448a-4a9d-841c-d8c60a5a960a\", \"subtype\": \"Figure\"}}, \"id\": \"2415b377-8334-4376-8baf-6adc6097830b\"}, {\"type\": \"Line\", \"attributes\": {\"line_alpha\": {\"value\": 0.1}, \"line_color\": {\"value\": \"#1f77b4\"}, \"x\": {\"field\": \"x\"}, \"y\": {\"field\": \"y\"}}, \"id\": \"31bb83a7-f09f-47b6-8400-863f40fe153a\"}, {\"type\": \"BasicTicker\", \"attributes\": {}, \"id\": \"33319207-1dfa-4edf-9309-7675f1f8128a\"}, {\"type\": \"WheelZoomTool\", \"attributes\": {\"plot\": {\"type\": \"Plot\", \"id\": \"1cb8a836-ad53-4b2b-bbd4-3db4e3b75bf2\", \"subtype\": \"Figure\"}}, \"id\": \"754a83ca-1522-40a2-9f66-aa4bbc4509be\"}, {\"type\": \"ToolEvents\", \"attributes\": {}, \"id\": \"f8662d81-2d9a-40b9-9d6f-d7adfaaa4ead\"}, {\"type\": \"Line\", \"attributes\": {\"line_color\": {\"value\": \"red\"}, \"x\": {\"field\": \"x\"}, \"y\": {\"field\": \"y\"}}, \"id\": \"59c0cdca-b06f-41b6-8b88-1e7bd74f070b\"}, {\"type\": \"ColumnDataSource\", \"attributes\": {\"data\": {\"y\": [0.0, 1.0, 2.0, 3.0, 4.0, 5.0, 6.0, 7.0, 8.0, 9.0, 10.0, 11.0, 12.0, 13.0, 14.0, 15.0, 16.0, 17.0, 18.0, 19.0, 20.0, 19.0, 18.0, 17.0, 16.0, 15.0, 14.0, 13.0, 12.0, 11.0, 10.0, 9.0, 8.0, 7.0, 6.0, 5.0, 4.0, 3.0, 2.0, 1.0], \"x\": [0, 1, 2, 3, 4, 5, 6, 7, 8, 9, 10, 11, 12, 13, 14, 15, 16, 17, 18, 19, 20, 21, 22, 23, 24, 25, 26, 27, 28, 29, 30, 31, 32, 33, 34, 35, 36, 37, 38, 39]}, \"column_names\": [\"y\", \"x\", \"y\", \"x\"], \"callback\": null}, \"id\": \"746d1b8a-5b63-4ab9-8c54-8018430671d5\"}, {\"type\": \"BasicTickFormatter\", \"attributes\": {}, \"id\": \"13bf5401-1008-411f-a9e7-879b7a7a142a\"}, {\"type\": \"BoxAnnotation\", \"attributes\": {\"fill_alpha\": {\"value\": 0.5}, \"line_dash\": [4, 4], \"render_mode\": \"css\", \"bottom_units\": \"screen\", \"right_units\": \"screen\", \"line_alpha\": {\"value\": 1.0}, \"plot\": null, \"top_units\": \"screen\", \"fill_color\": {\"value\": \"lightgrey\"}, \"line_width\": {\"value\": 2}, \"left_units\": \"screen\", \"level\": \"overlay\", \"line_color\": {\"value\": \"black\"}}, \"id\": \"92fa3e25-63cb-40d4-9aa8-0d2856afd6ed\"}, {\"type\": \"Grid\", \"attributes\": {\"plot\": {\"type\": \"Plot\", \"id\": \"d02bdba0-7f6d-44ee-be67-fccdac233d4b\", \"subtype\": \"Figure\"}, \"ticker\": {\"type\": \"BasicTicker\", \"id\": \"610659ff-c487-489e-ab08-f2f4af7f23a0\"}}, \"id\": \"1ed795f1-fc6d-4d8c-b7d4-68870816fba6\"}, {\"type\": \"BasicTicker\", \"attributes\": {}, \"id\": \"cb1a877f-e802-476c-b56e-0a512cc1522c\"}, {\"type\": \"BasicTickFormatter\", \"attributes\": {}, \"id\": \"42b2b335-9489-48a9-8ee1-ae6501c03082\"}, {\"type\": \"BoxZoomTool\", \"attributes\": {\"plot\": {\"type\": \"Plot\", \"id\": \"b7d3a0f4-448a-4a9d-841c-d8c60a5a960a\", \"subtype\": \"Figure\"}, \"overlay\": {\"type\": \"BoxAnnotation\", \"id\": \"e402fd81-1025-469c-8b1b-16b52fb85664\"}}, \"id\": \"7003890d-43e3-4d64-8d7c-860507149bc5\"}, {\"type\": \"Plot\", \"attributes\": {\"x_range\": {\"type\": \"DataRange1d\", \"id\": \"6a95a46b-33f6-4194-8ff2-c0732f20e3d4\"}, \"left\": [{\"type\": \"LinearAxis\", \"id\": \"2e2251b4-ca9b-4ece-930f-6c886b6d6116\"}], \"renderers\": [{\"type\": \"LinearAxis\", \"id\": \"5f0b4d4d-7fdc-4ed9-a38a-e9a4207f62e7\"}, {\"type\": \"Grid\", \"id\": \"4a3388a0-b06d-49c9-962b-c31f049c76e5\"}, {\"type\": \"LinearAxis\", \"id\": \"2e2251b4-ca9b-4ece-930f-6c886b6d6116\"}, {\"type\": \"Grid\", \"id\": \"eab7351b-e456-401d-a5b6-6b6676a1ff67\"}, {\"type\": \"BoxAnnotation\", \"id\": \"0391b4de-9ace-4153-b1c1-318f295c6532\"}, {\"type\": \"GlyphRenderer\", \"id\": \"dc87139c-9bd1-469f-a786-3b53ae2c68e3\"}], \"tool_events\": {\"type\": \"ToolEvents\", \"id\": \"f3ebd114-d47c-42e9-9a08-1162e07308c3\"}, \"tools\": [{\"type\": \"PanTool\", \"id\": \"d6d24be6-3b69-4855-8c5f-50f923af15b6\"}, {\"type\": \"WheelZoomTool\", \"id\": \"8755b83b-5e0f-4015-8336-3ff32003b67c\"}, {\"type\": \"BoxZoomTool\", \"id\": \"14223c76-a696-49bc-adc1-300750efc9f8\"}, {\"type\": \"PreviewSaveTool\", \"id\": \"982291a7-0258-4173-998f-61275d57166e\"}, {\"type\": \"ResizeTool\", \"id\": \"56a8ff1c-fc95-4e3d-a409-7608b89fc9e6\"}, {\"type\": \"ResetTool\", \"id\": \"6e7d668c-bdd1-48ad-ad87-79d2608efa5d\"}, {\"type\": \"HelpTool\", \"id\": \"60a5a695-bf30-4759-a3fd-0af5418c5b1b\"}], \"y_range\": {\"type\": \"DataRange1d\", \"id\": \"402522dd-a120-4e52-b07c-c3ff94775c4d\"}, \"below\": [{\"type\": \"LinearAxis\", \"id\": \"5f0b4d4d-7fdc-4ed9-a38a-e9a4207f62e7\"}]}, \"subtype\": \"Figure\", \"id\": \"41ae819b-f50a-411a-80c7-0d49cc226975\"}, {\"type\": \"ResizeTool\", \"attributes\": {\"plot\": {\"type\": \"Plot\", \"id\": \"59899abe-fc82-4e86-bbca-9be468ead2f6\", \"subtype\": \"Figure\"}}, \"id\": \"190fb071-956a-429e-86db-a8e130c83fa5\"}, {\"type\": \"DataRange1d\", \"attributes\": {\"callback\": null}, \"id\": \"baf71888-ef7c-4f4f-8e44-b2dbf3316545\"}, {\"type\": \"ResetTool\", \"attributes\": {\"plot\": {\"type\": \"Plot\", \"id\": \"e3412a97-d19a-469e-935d-bfb931e497ab\", \"subtype\": \"Figure\"}}, \"id\": \"2b9fe642-1191-4685-a748-b289a6444029\"}, {\"type\": \"Grid\", \"attributes\": {\"plot\": {\"type\": \"Plot\", \"id\": \"e3412a97-d19a-469e-935d-bfb931e497ab\", \"subtype\": \"Figure\"}, \"ticker\": {\"type\": \"BasicTicker\", \"id\": \"4d5e6592-80ff-4cfd-baea-f37aafcf5f0b\"}}, \"id\": \"7732c769-0241-4695-9179-87df2bd93f7d\"}, {\"type\": \"DataRange1d\", \"attributes\": {\"callback\": null}, \"id\": \"5da766aa-69fe-4016-b3b9-6765dbb6959e\"}, {\"type\": \"GlyphRenderer\", \"attributes\": {\"nonselection_glyph\": {\"type\": \"Line\", \"id\": \"69c660aa-da00-415b-af4a-0bacd653e7f5\"}, \"data_source\": {\"type\": \"ColumnDataSource\", \"id\": \"e0c53c3f-b0a0-4087-9611-c2f1375661d7\"}, \"selection_glyph\": null, \"hover_glyph\": null, \"glyph\": {\"type\": \"Line\", \"id\": \"9b13d037-e964-494d-b9e8-e95b38783bde\"}}, \"id\": \"5244edc4-5c3e-4ead-852a-e36a557d16b2\"}, {\"type\": \"ResizeTool\", \"attributes\": {\"plot\": {\"type\": \"Plot\", \"id\": \"b7d3a0f4-448a-4a9d-841c-d8c60a5a960a\", \"subtype\": \"Figure\"}}, \"id\": \"142a9cac-6977-4cc6-af36-3b79c019c00a\"}, {\"type\": \"WheelZoomTool\", \"attributes\": {\"plot\": {\"type\": \"Plot\", \"id\": \"42dc7392-1323-49d8-b81c-bf55dada76ec\", \"subtype\": \"Figure\"}}, \"id\": \"439a2018-9221-421a-91ab-1220f8b6d0cb\"}, {\"type\": \"HelpTool\", \"attributes\": {\"plot\": {\"type\": \"Plot\", \"id\": \"41ae819b-f50a-411a-80c7-0d49cc226975\", \"subtype\": \"Figure\"}}, \"id\": \"60a5a695-bf30-4759-a3fd-0af5418c5b1b\"}, {\"type\": \"Line\", \"attributes\": {\"line_color\": {\"value\": \"#1f77b4\"}, \"x\": {\"field\": \"x\"}, \"y\": {\"field\": \"y\"}}, \"id\": \"1839ff63-0a43-4139-8c97-62fa108e998b\"}, {\"type\": \"Plot\", \"attributes\": {\"x_range\": {\"type\": \"DataRange1d\", \"id\": \"507a1bf7-72e8-450f-b33b-0a5d59a2fc98\"}, \"left\": [{\"type\": \"LinearAxis\", \"id\": \"66dd04e9-62f2-4f64-a9e1-2243dfbd5340\"}], \"renderers\": [{\"type\": \"LinearAxis\", \"id\": \"90c95a76-fa7d-468a-b1a4-29f41e4b3021\"}, {\"type\": \"Grid\", \"id\": \"7732c769-0241-4695-9179-87df2bd93f7d\"}, {\"type\": \"LinearAxis\", \"id\": \"66dd04e9-62f2-4f64-a9e1-2243dfbd5340\"}, {\"type\": \"Grid\", \"id\": \"ee4c27de-73fe-4309-99b3-2991c05b7afd\"}, {\"type\": \"BoxAnnotation\", \"id\": \"ae1341c6-ea53-4cad-9f62-fe96cf48b013\"}, {\"type\": \"GlyphRenderer\", \"id\": \"bd8d7832-dd1e-4650-a2dd-58567c37e6bf\"}], \"tool_events\": {\"type\": \"ToolEvents\", \"id\": \"f8662d81-2d9a-40b9-9d6f-d7adfaaa4ead\"}, \"tools\": [{\"type\": \"PanTool\", \"id\": \"5da225dc-de54-42e2-a37c-b991d475e8b3\"}, {\"type\": \"WheelZoomTool\", \"id\": \"fc20012f-1271-4a79-91f5-8f415618c132\"}, {\"type\": \"BoxZoomTool\", \"id\": \"0f48e16e-a8e2-4cde-8571-c0a35525c140\"}, {\"type\": \"PreviewSaveTool\", \"id\": \"bdde12cd-c3e5-414d-ac1a-02ba73729b79\"}, {\"type\": \"ResizeTool\", \"id\": \"4a9d8eb7-eebf-48ae-b925-c86291566390\"}, {\"type\": \"ResetTool\", \"id\": \"2b9fe642-1191-4685-a748-b289a6444029\"}, {\"type\": \"HelpTool\", \"id\": \"3299d16d-fe89-48f0-87fe-002ef4178c15\"}], \"y_range\": {\"type\": \"DataRange1d\", \"id\": \"ddbdb055-eaf7-4ea3-92cd-b4de5f21df69\"}, \"below\": [{\"type\": \"LinearAxis\", \"id\": \"90c95a76-fa7d-468a-b1a4-29f41e4b3021\"}]}, \"subtype\": \"Figure\", \"id\": \"e3412a97-d19a-469e-935d-bfb931e497ab\"}, {\"type\": \"BasicTicker\", \"attributes\": {}, \"id\": \"8528bf71-b88e-4169-b7b0-efeb18d34714\"}, {\"type\": \"DataRange1d\", \"attributes\": {\"callback\": null}, \"id\": \"8d64fd39-fdaf-4b38-a0b8-e0c11cee4a77\"}, {\"type\": \"LinearAxis\", \"attributes\": {\"axis_label\": \"Inflammation\", \"plot\": {\"type\": \"Plot\", \"id\": \"59899abe-fc82-4e86-bbca-9be468ead2f6\", \"subtype\": \"Figure\"}, \"formatter\": {\"type\": \"BasicTickFormatter\", \"id\": \"55705142-4e32-4230-bc8c-94a692c8284a\"}, \"ticker\": {\"type\": \"BasicTicker\", \"id\": \"e04697bb-8b80-430c-a26c-261e92afe8fe\"}}, \"id\": \"5493b375-22cf-42a4-bfd9-33739f0cb970\"}, {\"type\": \"BasicTickFormatter\", \"attributes\": {}, \"id\": \"3be47f58-f24d-4017-8677-529d28fb22ea\"}, {\"type\": \"LinearAxis\", \"attributes\": {\"axis_label\": \"Day\", \"plot\": {\"type\": \"Plot\", \"id\": \"59899abe-fc82-4e86-bbca-9be468ead2f6\", \"subtype\": \"Figure\"}, \"formatter\": {\"type\": \"BasicTickFormatter\", \"id\": \"501f3bac-522a-416a-b483-4a878c3cf5d3\"}, \"ticker\": {\"type\": \"BasicTicker\", \"id\": \"bf0a12ed-924e-4537-ae30-d49b3a096ee9\"}}, \"id\": \"879152e7-3009-4d38-9006-f935343b008a\"}, {\"type\": \"ToolEvents\", \"attributes\": {}, \"id\": \"101cc0a3-b47d-4751-bc62-75ba7b6a68a4\"}, {\"type\": \"HelpTool\", \"attributes\": {\"plot\": {\"type\": \"Plot\", \"id\": \"c55136e3-b542-4820-a893-ac2bc3319c81\", \"subtype\": \"Figure\"}}, \"id\": \"ef4efa39-7485-4966-ba86-7f97d709c671\"}, {\"type\": \"BasicTicker\", \"attributes\": {}, \"id\": \"72d9fa8f-44b1-46b0-a737-eeccbacfbe95\"}, {\"type\": \"ToolEvents\", \"attributes\": {}, \"id\": \"764b54b2-a0ed-4ea0-8025-d5903ebe9ea1\"}, {\"type\": \"GlyphRenderer\", \"attributes\": {\"nonselection_glyph\": {\"type\": \"Line\", \"id\": \"5febf644-2a77-4800-abb6-175a45946329\"}, \"data_source\": {\"type\": \"ColumnDataSource\", \"id\": \"53e9c0e6-95c1-4d41-aaca-b46bad388f79\"}, \"selection_glyph\": null, \"hover_glyph\": null, \"glyph\": {\"type\": \"Line\", \"id\": \"f2efbe45-7f6d-4f74-b8f0-913b4c21782d\"}}, \"id\": \"d042a634-1b7b-423d-8bb5-a18620f0f02c\"}, {\"type\": \"DataRange1d\", \"attributes\": {\"callback\": null}, \"id\": \"2e50ecdb-5ebc-475c-bfbd-7f0c05c0c275\"}, {\"type\": \"BoxAnnotation\", \"attributes\": {\"fill_alpha\": {\"value\": 0.5}, \"line_dash\": [4, 4], \"render_mode\": \"css\", \"bottom_units\": \"screen\", \"right_units\": \"screen\", \"line_alpha\": {\"value\": 1.0}, \"plot\": null, \"top_units\": \"screen\", \"fill_color\": {\"value\": \"lightgrey\"}, \"line_width\": {\"value\": 2}, \"left_units\": \"screen\", \"level\": \"overlay\", \"line_color\": {\"value\": \"black\"}}, \"id\": \"ae1341c6-ea53-4cad-9f62-fe96cf48b013\"}, {\"type\": \"ResizeTool\", \"attributes\": {\"plot\": {\"type\": \"Plot\", \"id\": \"d02bdba0-7f6d-44ee-be67-fccdac233d4b\", \"subtype\": \"Figure\"}}, \"id\": \"9a3b2291-e081-4a42-aeaa-15e6bcb4c4e6\"}, {\"type\": \"Line\", \"attributes\": {\"line_color\": {\"value\": \"#1f77b4\"}, \"x\": {\"field\": \"x\"}, \"y\": {\"field\": \"y\"}}, \"id\": \"edc212e2-9c30-4cbb-8fa5-af5a1d429634\"}, {\"type\": \"BoxZoomTool\", \"attributes\": {\"plot\": {\"type\": \"Plot\", \"id\": \"41ae819b-f50a-411a-80c7-0d49cc226975\", \"subtype\": \"Figure\"}, \"overlay\": {\"type\": \"BoxAnnotation\", \"id\": \"0391b4de-9ace-4153-b1c1-318f295c6532\"}}, \"id\": \"14223c76-a696-49bc-adc1-300750efc9f8\"}, {\"type\": \"Grid\", \"attributes\": {\"plot\": {\"type\": \"Plot\", \"id\": \"b7d3a0f4-448a-4a9d-841c-d8c60a5a960a\", \"subtype\": \"Figure\"}, \"ticker\": {\"type\": \"BasicTicker\", \"id\": \"ec5e8025-3d79-457d-a681-1dbe524140e2\"}}, \"id\": \"cc8aabba-b0ba-4351-a807-6ce3bc68d6e3\"}, {\"type\": \"BasicTickFormatter\", \"attributes\": {}, \"id\": \"126f014c-f643-4ba9-9b99-f1ae1b7cb89e\"}, {\"type\": \"Grid\", \"attributes\": {\"plot\": {\"type\": \"Plot\", \"id\": \"d02bdba0-7f6d-44ee-be67-fccdac233d4b\", \"subtype\": \"Figure\"}, \"dimension\": 1, \"ticker\": {\"type\": \"BasicTicker\", \"id\": \"f385b5f6-425a-418e-b030-51188fa01745\"}}, \"id\": \"4cc27668-e398-4b3f-a058-91c17653e855\"}, {\"type\": \"BasicTicker\", \"attributes\": {}, \"id\": \"54dd9b74-19f5-4dc2-b209-09782205e666\"}, {\"type\": \"LinearAxis\", \"attributes\": {\"formatter\": {\"type\": \"BasicTickFormatter\", \"id\": \"44518742-21f2-4fb7-9cf8-3a5ca69ee9de\"}, \"plot\": {\"type\": \"Plot\", \"id\": \"6dc380a6-b1ae-4eff-9330-34cd39dbf16e\", \"subtype\": \"Figure\"}, \"ticker\": {\"type\": \"BasicTicker\", \"id\": \"8528bf71-b88e-4169-b7b0-efeb18d34714\"}}, \"id\": \"fa6cb4af-b6ab-4783-92a1-5540e728301e\"}, {\"type\": \"ToolEvents\", \"attributes\": {}, \"id\": \"0cbe1e29-5e15-45c7-96db-f8d7e06e28fb\"}, {\"type\": \"Line\", \"attributes\": {\"line_alpha\": {\"value\": 0.1}, \"line_color\": {\"value\": \"#1f77b4\"}, \"x\": {\"field\": \"x\"}, \"y\": {\"field\": \"y\"}}, \"id\": \"114750be-1111-468c-a233-48188af54b0c\"}, {\"type\": \"PanTool\", \"attributes\": {\"plot\": {\"type\": \"Plot\", \"id\": \"42dc7392-1323-49d8-b81c-bf55dada76ec\", \"subtype\": \"Figure\"}}, \"id\": \"df5944e0-69d6-49e3-a5fb-6c7211956172\"}, {\"type\": \"BasicTicker\", \"attributes\": {}, \"id\": \"f385b5f6-425a-418e-b030-51188fa01745\"}, {\"type\": \"GlyphRenderer\", \"attributes\": {\"nonselection_glyph\": {\"type\": \"Line\", \"id\": \"ccc01585-05ec-4f93-a262-411eab2ba39b\"}, \"data_source\": {\"type\": \"ColumnDataSource\", \"id\": \"db6d560f-ea3d-4091-abf3-a905ba8feab2\"}, \"selection_glyph\": null, \"hover_glyph\": null, \"glyph\": {\"type\": \"Line\", \"id\": \"35d94fec-1bfd-40bf-a197-6426f65c0a21\"}}, \"id\": \"7da80203-c492-43de-948f-e3334715659e\"}, {\"type\": \"HelpTool\", \"attributes\": {\"plot\": {\"type\": \"Plot\", \"id\": \"e3412a97-d19a-469e-935d-bfb931e497ab\", \"subtype\": \"Figure\"}}, \"id\": \"3299d16d-fe89-48f0-87fe-002ef4178c15\"}, {\"type\": \"BoxAnnotation\", \"attributes\": {\"fill_alpha\": {\"value\": 0.5}, \"line_dash\": [4, 4], \"render_mode\": \"css\", \"bottom_units\": \"screen\", \"right_units\": \"screen\", \"line_alpha\": {\"value\": 1.0}, \"plot\": null, \"top_units\": \"screen\", \"fill_color\": {\"value\": \"lightgrey\"}, \"line_width\": {\"value\": 2}, \"left_units\": \"screen\", \"level\": \"overlay\", \"line_color\": {\"value\": \"black\"}}, \"id\": \"97b61806-c300-4386-91ea-44f1cd79ac07\"}, {\"type\": \"BasicTickFormatter\", \"attributes\": {}, \"id\": \"96df3347-c855-45e7-92f6-67adfa7c2b5b\"}, {\"type\": \"Line\", \"attributes\": {\"line_alpha\": {\"value\": 0.1}, \"line_color\": {\"value\": \"#1f77b4\"}, \"x\": {\"field\": \"x\"}, \"y\": {\"field\": \"y\"}}, \"id\": \"d7368cc4-bab5-4b7b-91a8-233ed797eab1\"}, {\"type\": \"Line\", \"attributes\": {\"line_color\": {\"value\": \"green\"}, \"x\": {\"field\": \"x\"}, \"y\": {\"field\": \"y\"}}, \"id\": \"35d94fec-1bfd-40bf-a197-6426f65c0a21\"}, {\"type\": \"DataRange1d\", \"attributes\": {\"callback\": null}, \"id\": \"ddbdb055-eaf7-4ea3-92cd-b4de5f21df69\"}, {\"type\": \"BasicTickFormatter\", \"attributes\": {}, \"id\": \"23b5a85c-6606-4e76-9e68-aaebdb838bb1\"}, {\"type\": \"DataRange1d\", \"attributes\": {\"callback\": null}, \"id\": \"402522dd-a120-4e52-b07c-c3ff94775c4d\"}, {\"type\": \"Plot\", \"attributes\": {\"x_range\": {\"type\": \"DataRange1d\", \"id\": \"a88cfc13-fd98-4366-81e9-10c1c4e00800\"}, \"left\": [{\"type\": \"LinearAxis\", \"id\": \"f33e0d6b-2ef7-4bdf-9f93-ad091738b181\"}], \"renderers\": [{\"type\": \"LinearAxis\", \"id\": \"2c8f1d5a-e284-4f38-8317-7e0dd917c2a6\"}, {\"type\": \"Grid\", \"id\": \"cc8aabba-b0ba-4351-a807-6ce3bc68d6e3\"}, {\"type\": \"LinearAxis\", \"id\": \"f33e0d6b-2ef7-4bdf-9f93-ad091738b181\"}, {\"type\": \"Grid\", \"id\": \"2ecc2cdb-98d7-4f3a-8c4c-9ea071f4459e\"}, {\"type\": \"BoxAnnotation\", \"id\": \"e402fd81-1025-469c-8b1b-16b52fb85664\"}, {\"type\": \"GlyphRenderer\", \"id\": \"5244edc4-5c3e-4ead-852a-e36a557d16b2\"}], \"tool_events\": {\"type\": \"ToolEvents\", \"id\": \"101cc0a3-b47d-4751-bc62-75ba7b6a68a4\"}, \"tools\": [{\"type\": \"PanTool\", \"id\": \"03442bda-91bf-42bf-9040-3d47aa0a5a89\"}, {\"type\": \"WheelZoomTool\", \"id\": \"a4cc0c50-4ed9-4227-8c90-afd9dbd34e45\"}, {\"type\": \"BoxZoomTool\", \"id\": \"7003890d-43e3-4d64-8d7c-860507149bc5\"}, {\"type\": \"PreviewSaveTool\", \"id\": \"2415b377-8334-4376-8baf-6adc6097830b\"}, {\"type\": \"ResizeTool\", \"id\": \"142a9cac-6977-4cc6-af36-3b79c019c00a\"}, {\"type\": \"ResetTool\", \"id\": \"3a2e0fc0-800d-4789-94c4-277c5516232f\"}, {\"type\": \"HelpTool\", \"id\": \"05cda629-ca43-4da5-b316-83a04cf0f763\"}], \"y_range\": {\"type\": \"DataRange1d\", \"id\": \"e7c53098-72f0-48b0-8c54-d6b8205b915f\"}, \"below\": [{\"type\": \"LinearAxis\", \"id\": \"2c8f1d5a-e284-4f38-8317-7e0dd917c2a6\"}]}, \"subtype\": \"Figure\", \"id\": \"b7d3a0f4-448a-4a9d-841c-d8c60a5a960a\"}, {\"type\": \"BasicTicker\", \"attributes\": {}, \"id\": \"951e14bb-e516-4693-8742-5948ae3dcb48\"}, {\"type\": \"LinearAxis\", \"attributes\": {\"axis_label\": \"Inflammation\", \"plot\": {\"type\": \"Plot\", \"id\": \"b7d3a0f4-448a-4a9d-841c-d8c60a5a960a\", \"subtype\": \"Figure\"}, \"formatter\": {\"type\": \"BasicTickFormatter\", \"id\": \"42b2b335-9489-48a9-8ee1-ae6501c03082\"}, \"ticker\": {\"type\": \"BasicTicker\", \"id\": \"cb1a877f-e802-476c-b56e-0a512cc1522c\"}}, \"id\": \"f33e0d6b-2ef7-4bdf-9f93-ad091738b181\"}, {\"type\": \"BoxZoomTool\", \"attributes\": {\"plot\": {\"type\": \"Plot\", \"id\": \"c55136e3-b542-4820-a893-ac2bc3319c81\", \"subtype\": \"Figure\"}, \"overlay\": {\"type\": \"BoxAnnotation\", \"id\": \"033c3e3b-60f5-4cdd-97a5-ad5ce8760f80\"}}, \"id\": \"6024ef3a-cd47-4036-89f9-43de3ca64223\"}, {\"type\": \"Line\", \"attributes\": {\"line_alpha\": {\"value\": 0.1}, \"line_color\": {\"value\": \"#1f77b4\"}, \"x\": {\"field\": \"x\"}, \"y\": {\"field\": \"y\"}}, \"id\": \"ccc01585-05ec-4f93-a262-411eab2ba39b\"}, {\"type\": \"PanTool\", \"attributes\": {\"plot\": {\"type\": \"Plot\", \"id\": \"b7d3a0f4-448a-4a9d-841c-d8c60a5a960a\", \"subtype\": \"Figure\"}}, \"id\": \"03442bda-91bf-42bf-9040-3d47aa0a5a89\"}, {\"type\": \"ColumnDataSource\", \"attributes\": {\"data\": {\"y\": [0.0, 0.0, 0.0, 0.0, 1.0, 1.0, 1.0, 1.0, 2.0, 2.0, 2.0, 2.0, 3.0, 3.0, 3.0, 3.0, 4.0, 5.0, 5.0, 5.0, 5.0, 4.0, 4.0, 4.0, 4.0, 3.0, 3.0, 3.0, 3.0, 2.0, 2.0, 2.0, 2.0, 1.0, 1.0, 1.0, 1.0, 0.0, 0.0, 0.0], \"x\": [0, 1, 2, 3, 4, 5, 6, 7, 8, 9, 10, 11, 12, 13, 14, 15, 16, 17, 18, 19, 20, 21, 22, 23, 24, 25, 26, 27, 28, 29, 30, 31, 32, 33, 34, 35, 36, 37, 38, 39]}, \"column_names\": [\"y\", \"x\"], \"callback\": null}, \"id\": \"aaa8098e-d051-4e4c-9f0a-229d98b31183\"}, {\"type\": \"ColumnDataSource\", \"attributes\": {\"data\": {\"y\": [0.0, 0.0, 0.0, 0.0, 1.0, 1.0, 1.0, 1.0, 2.0, 2.0, 2.0, 2.0, 3.0, 3.0, 3.0, 3.0, 4.0, 5.0, 5.0, 5.0, 5.0, 4.0, 4.0, 4.0, 4.0, 3.0, 3.0, 3.0, 3.0, 2.0, 2.0, 2.0, 2.0, 1.0, 1.0, 1.0, 1.0, 0.0, 0.0, 0.0], \"x\": [0, 1, 2, 3, 4, 5, 6, 7, 8, 9, 10, 11, 12, 13, 14, 15, 16, 17, 18, 19, 20, 21, 22, 23, 24, 25, 26, 27, 28, 29, 30, 31, 32, 33, 34, 35, 36, 37, 38, 39]}, \"column_names\": [\"y\", \"x\", \"y\", \"x\", \"y\", \"x\"], \"callback\": null}, \"id\": \"53e9c0e6-95c1-4d41-aaca-b46bad388f79\"}, {\"type\": \"BasicTicker\", \"attributes\": {}, \"id\": \"bf0a12ed-924e-4537-ae30-d49b3a096ee9\"}, {\"type\": \"ResetTool\", \"attributes\": {\"plot\": {\"type\": \"Plot\", \"id\": \"d02bdba0-7f6d-44ee-be67-fccdac233d4b\", \"subtype\": \"Figure\"}}, \"id\": \"4f963fba-5e70-4bd9-9797-7fc93806cb53\"}, {\"type\": \"BasicTicker\", \"attributes\": {}, \"id\": \"ec5e8025-3d79-457d-a681-1dbe524140e2\"}, {\"type\": \"PanTool\", \"attributes\": {\"plot\": {\"type\": \"Plot\", \"id\": \"0fe06206-5017-4813-b2ec-d0fd0ad80555\", \"subtype\": \"Figure\"}}, \"id\": \"09ed4dac-4f48-4dff-a0f7-d1dc6b7b73d5\"}, {\"type\": \"HelpTool\", \"attributes\": {\"plot\": {\"type\": \"Plot\", \"id\": \"07de6f7c-d35e-42a8-a0ac-e92516b552c0\", \"subtype\": \"Figure\"}}, \"id\": \"9f409e3a-918e-477e-8461-bf50715e1531\"}, {\"type\": \"Line\", \"attributes\": {\"line_alpha\": {\"value\": 0.1}, \"line_color\": {\"value\": \"#1f77b4\"}, \"x\": {\"field\": \"x\"}, \"y\": {\"field\": \"y\"}}, \"id\": \"6ba36a44-022d-4800-9685-5ba5da76286f\"}, {\"type\": \"Plot\", \"attributes\": {\"x_range\": {\"type\": \"DataRange1d\", \"id\": \"8d64fd39-fdaf-4b38-a0b8-e0c11cee4a77\"}, \"left\": [{\"type\": \"LinearAxis\", \"id\": \"f87a0999-c923-476e-a144-d6f192c2a42f\"}], \"renderers\": [{\"type\": \"LinearAxis\", \"id\": \"fa0ef287-0337-43e0-9c69-b8c6fa25ab15\"}, {\"type\": \"Grid\", \"id\": \"5670151b-9110-4a90-9e10-23248f065f72\"}, {\"type\": \"LinearAxis\", \"id\": \"f87a0999-c923-476e-a144-d6f192c2a42f\"}, {\"type\": \"Grid\", \"id\": \"9d20c876-3712-418c-87dd-121e934b3410\"}, {\"type\": \"BoxAnnotation\", \"id\": \"83bfe11d-8b62-4514-9aa9-a1bf0609e1ef\"}, {\"type\": \"GlyphRenderer\", \"id\": \"da296579-3b62-4f5f-8945-7a3a1646a45b\"}], \"tool_events\": {\"type\": \"ToolEvents\", \"id\": \"7429cca7-9edb-4952-9f0c-16addae6d79f\"}, \"tools\": [{\"type\": \"PanTool\", \"id\": \"9242ca15-395e-45ae-9cfb-bf5021df06b2\"}, {\"type\": \"WheelZoomTool\", \"id\": \"37b22452-8a43-44e4-b533-971007964b75\"}, {\"type\": \"BoxZoomTool\", \"id\": \"21688bf6-9a71-439b-9563-1aeec65bce8e\"}, {\"type\": \"PreviewSaveTool\", \"id\": \"604a97b1-a944-4008-84c4-60a472d0bb98\"}, {\"type\": \"ResizeTool\", \"id\": \"dfeb22e0-9a09-44fb-85a0-bab638d9f098\"}, {\"type\": \"ResetTool\", \"id\": \"31503fe7-66ee-4e61-b75b-74cf02e89dc5\"}, {\"type\": \"HelpTool\", \"id\": \"9f409e3a-918e-477e-8461-bf50715e1531\"}], \"y_range\": {\"type\": \"DataRange1d\", \"id\": \"e3f3b131-6f64-4c9a-a87a-f109e89cc29b\"}, \"below\": [{\"type\": \"LinearAxis\", \"id\": \"fa0ef287-0337-43e0-9c69-b8c6fa25ab15\"}]}, \"subtype\": \"Figure\", \"id\": \"07de6f7c-d35e-42a8-a0ac-e92516b552c0\"}, {\"type\": \"WheelZoomTool\", \"attributes\": {\"plot\": {\"type\": \"Plot\", \"id\": \"07de6f7c-d35e-42a8-a0ac-e92516b552c0\", \"subtype\": \"Figure\"}}, \"id\": \"37b22452-8a43-44e4-b533-971007964b75\"}, {\"type\": \"BoxZoomTool\", \"attributes\": {\"plot\": {\"type\": \"Plot\", \"id\": \"e3412a97-d19a-469e-935d-bfb931e497ab\", \"subtype\": \"Figure\"}, \"overlay\": {\"type\": \"BoxAnnotation\", \"id\": \"ae1341c6-ea53-4cad-9f62-fe96cf48b013\"}}, \"id\": \"0f48e16e-a8e2-4cde-8571-c0a35525c140\"}, {\"type\": \"Line\", \"attributes\": {\"line_alpha\": {\"value\": 0.1}, \"line_color\": {\"value\": \"#1f77b4\"}, \"x\": {\"field\": \"x\"}, \"y\": {\"field\": \"y\"}}, \"id\": \"f7cf2a29-764d-42d6-9d55-6bafc124031a\"}, {\"type\": \"PreviewSaveTool\", \"attributes\": {\"plot\": {\"type\": \"Plot\", \"id\": \"6dc380a6-b1ae-4eff-9330-34cd39dbf16e\", \"subtype\": \"Figure\"}}, \"id\": \"1238c933-e670-45b5-b0bb-78bf3b54eea5\"}, {\"type\": \"BasicTickFormatter\", \"attributes\": {}, \"id\": \"55705142-4e32-4230-bc8c-94a692c8284a\"}, {\"type\": \"LinearAxis\", \"attributes\": {\"axis_label\": \"Day\", \"plot\": {\"type\": \"Plot\", \"id\": \"41ae819b-f50a-411a-80c7-0d49cc226975\", \"subtype\": \"Figure\"}, \"formatter\": {\"type\": \"BasicTickFormatter\", \"id\": \"704213c9-af86-4fed-836e-a6b30c99929b\"}, \"ticker\": {\"type\": \"BasicTicker\", \"id\": \"136e5db2-9730-490c-a451-f4d46cf259a2\"}}, \"id\": \"5f0b4d4d-7fdc-4ed9-a38a-e9a4207f62e7\"}, {\"type\": \"Grid\", \"attributes\": {\"plot\": {\"type\": \"Plot\", \"id\": \"6dc380a6-b1ae-4eff-9330-34cd39dbf16e\", \"subtype\": \"Figure\"}, \"ticker\": {\"type\": \"BasicTicker\", \"id\": \"6f2708b1-b5d3-4de2-b645-7dae672c2f55\"}}, \"id\": \"aac412d8-6531-4e5c-8410-fa632abd44e7\"}, {\"type\": \"Line\", \"attributes\": {\"line_alpha\": {\"value\": 0.1}, \"line_color\": {\"value\": \"#1f77b4\"}, \"x\": {\"field\": \"x\"}, \"y\": {\"field\": \"y\"}}, \"id\": \"5febf644-2a77-4800-abb6-175a45946329\"}, {\"type\": \"ResizeTool\", \"attributes\": {\"plot\": {\"type\": \"Plot\", \"id\": \"e3412a97-d19a-469e-935d-bfb931e497ab\", \"subtype\": \"Figure\"}}, \"id\": \"4a9d8eb7-eebf-48ae-b925-c86291566390\"}, {\"type\": \"DataRange1d\", \"attributes\": {\"callback\": null}, \"id\": \"8fab73ea-93e7-4837-8ace-a9b1ac3eb84d\"}, {\"type\": \"DataRange1d\", \"attributes\": {\"callback\": null}, \"id\": \"e7c53098-72f0-48b0-8c54-d6b8205b915f\"}, {\"type\": \"PanTool\", \"attributes\": {\"plot\": {\"type\": \"Plot\", \"id\": \"c55136e3-b542-4820-a893-ac2bc3319c81\", \"subtype\": \"Figure\"}}, \"id\": \"a1c4ba8c-fdbd-407f-ae56-1e0816922fc1\"}, {\"type\": \"BasicTicker\", \"attributes\": {}, \"id\": \"a5499ccc-4068-41be-a037-d8b7123c12b4\"}, {\"type\": \"BoxAnnotation\", \"attributes\": {\"fill_alpha\": {\"value\": 0.5}, \"line_dash\": [4, 4], \"render_mode\": \"css\", \"bottom_units\": \"screen\", \"right_units\": \"screen\", \"line_alpha\": {\"value\": 1.0}, \"plot\": null, \"top_units\": \"screen\", \"fill_color\": {\"value\": \"lightgrey\"}, \"line_width\": {\"value\": 2}, \"left_units\": \"screen\", \"level\": \"overlay\", \"line_color\": {\"value\": \"black\"}}, \"id\": \"c8c0157d-12e8-462e-9e73-8d941daba2ec\"}, {\"type\": \"LinearAxis\", \"attributes\": {\"axis_label\": \"Day\", \"plot\": {\"type\": \"Plot\", \"id\": \"6dc380a6-b1ae-4eff-9330-34cd39dbf16e\", \"subtype\": \"Figure\"}, \"formatter\": {\"type\": \"BasicTickFormatter\", \"id\": \"23b5a85c-6606-4e76-9e68-aaebdb838bb1\"}, \"ticker\": {\"type\": \"BasicTicker\", \"id\": \"6f2708b1-b5d3-4de2-b645-7dae672c2f55\"}}, \"id\": \"c2ea5ac0-9f32-4628-970a-c785676f0006\"}, {\"type\": \"Plot\", \"attributes\": {\"x_range\": {\"type\": \"DataRange1d\", \"id\": \"487a67db-a1bc-43dc-b651-1993a24260f7\"}, \"left\": [{\"type\": \"LinearAxis\", \"id\": \"bf2cfddc-22d9-4134-b097-e3650ed8f9c9\"}], \"renderers\": [{\"type\": \"LinearAxis\", \"id\": \"783d34ce-8ab2-4322-b362-fff9f52e2946\"}, {\"type\": \"Grid\", \"id\": \"dda93254-426e-4229-a1f8-56c695d9daab\"}, {\"type\": \"LinearAxis\", \"id\": \"bf2cfddc-22d9-4134-b097-e3650ed8f9c9\"}, {\"type\": \"Grid\", \"id\": \"9a84768e-e128-4b19-9170-6bfebecc41a1\"}, {\"type\": \"BoxAnnotation\", \"id\": \"033c3e3b-60f5-4cdd-97a5-ad5ce8760f80\"}, {\"type\": \"GlyphRenderer\", \"id\": \"b3b55f06-66ce-47ff-9e57-45fc7de70f70\"}], \"tool_events\": {\"type\": \"ToolEvents\", \"id\": \"764b54b2-a0ed-4ea0-8025-d5903ebe9ea1\"}, \"tools\": [{\"type\": \"PanTool\", \"id\": \"a1c4ba8c-fdbd-407f-ae56-1e0816922fc1\"}, {\"type\": \"WheelZoomTool\", \"id\": \"c9ccee80-3bcf-4443-b071-842fe6273c54\"}, {\"type\": \"BoxZoomTool\", \"id\": \"6024ef3a-cd47-4036-89f9-43de3ca64223\"}, {\"type\": \"PreviewSaveTool\", \"id\": \"d410d99d-7ba7-4ac2-9fd2-368e789be7de\"}, {\"type\": \"ResizeTool\", \"id\": \"0db8d475-8105-41d5-9af9-38a9338cf539\"}, {\"type\": \"ResetTool\", \"id\": \"e72ca6b0-e354-4a4c-90bb-5abcdc05bb27\"}, {\"type\": \"HelpTool\", \"id\": \"ef4efa39-7485-4966-ba86-7f97d709c671\"}], \"y_range\": {\"type\": \"DataRange1d\", \"id\": \"0542f082-ec16-4027-be96-66c2984b87b6\"}, \"below\": [{\"type\": \"LinearAxis\", \"id\": \"783d34ce-8ab2-4322-b362-fff9f52e2946\"}]}, \"subtype\": \"Figure\", \"id\": \"c55136e3-b542-4820-a893-ac2bc3319c81\"}, {\"type\": \"Grid\", \"attributes\": {\"plot\": {\"type\": \"Plot\", \"id\": \"0fe06206-5017-4813-b2ec-d0fd0ad80555\", \"subtype\": \"Figure\"}, \"dimension\": 1, \"ticker\": {\"type\": \"BasicTicker\", \"id\": \"ef4435a3-1836-47b5-88ca-aa1079b2f6b9\"}}, \"id\": \"784e8103-1041-4c7c-ae0b-5b6de14f4918\"}, {\"type\": \"BasicTicker\", \"attributes\": {}, \"id\": \"1e199a2b-c6fa-4a8b-ae5c-e17f398b6594\"}, {\"type\": \"LinearAxis\", \"attributes\": {\"axis_label\": \"Day\", \"plot\": {\"type\": \"Plot\", \"id\": \"b7d3a0f4-448a-4a9d-841c-d8c60a5a960a\", \"subtype\": \"Figure\"}, \"formatter\": {\"type\": \"BasicTickFormatter\", \"id\": \"3b1a392a-5c99-4f32-8a45-7795324b62a5\"}, \"ticker\": {\"type\": \"BasicTicker\", \"id\": \"ec5e8025-3d79-457d-a681-1dbe524140e2\"}}, \"id\": \"2c8f1d5a-e284-4f38-8317-7e0dd917c2a6\"}, {\"type\": \"GlyphRenderer\", \"attributes\": {\"nonselection_glyph\": {\"type\": \"Line\", \"id\": \"7ea52bd7-c5ec-469c-98a3-79567b3aed44\"}, \"data_source\": {\"type\": \"ColumnDataSource\", \"id\": \"746d1b8a-5b63-4ab9-8c54-8018430671d5\"}, \"selection_glyph\": null, \"hover_glyph\": null, \"glyph\": {\"type\": \"Line\", \"id\": \"add7cc6d-42ae-46d1-8cef-e5b880f444b8\"}}, \"id\": \"bd8d7832-dd1e-4650-a2dd-58567c37e6bf\"}, {\"type\": \"Plot\", \"attributes\": {\"x_range\": {\"type\": \"DataRange1d\", \"id\": \"e6aaa8a1-b3c6-44fb-b3aa-9383fbf4189a\"}, \"left\": [{\"type\": \"LinearAxis\", \"id\": \"89ab87f1-0194-448f-92d0-974446bee317\"}], \"renderers\": [{\"type\": \"LinearAxis\", \"id\": \"62d229b1-7868-486a-9ab4-9c58afd86dfb\"}, {\"type\": \"Grid\", \"id\": \"9804f50c-4612-474e-ba1f-112983af8c04\"}, {\"type\": \"LinearAxis\", \"id\": \"89ab87f1-0194-448f-92d0-974446bee317\"}, {\"type\": \"Grid\", \"id\": \"777259a5-2a0f-4411-96fb-b7ed07fa37aa\"}, {\"type\": \"BoxAnnotation\", \"id\": \"903cddaf-06b4-45eb-b0e0-ce5fc7a3ffca\"}, {\"type\": \"GlyphRenderer\", \"id\": \"97cb1ed4-7e5c-4482-bbbe-45139c039925\"}], \"tool_events\": {\"type\": \"ToolEvents\", \"id\": \"f610919f-363d-4a31-ae85-49e9de3008e3\"}, \"tools\": [{\"type\": \"PanTool\", \"id\": \"df5944e0-69d6-49e3-a5fb-6c7211956172\"}, {\"type\": \"WheelZoomTool\", \"id\": \"439a2018-9221-421a-91ab-1220f8b6d0cb\"}, {\"type\": \"BoxZoomTool\", \"id\": \"0fcca2ff-c8ac-429d-9248-3b53c040905e\"}, {\"type\": \"PreviewSaveTool\", \"id\": \"c69380d8-8045-4714-8443-13eb1a496218\"}, {\"type\": \"ResizeTool\", \"id\": \"73cf7951-895c-4faf-b590-bfd1696ea9ee\"}, {\"type\": \"ResetTool\", \"id\": \"88c54c77-acca-49a2-8ebf-00773c63a3be\"}, {\"type\": \"HelpTool\", \"id\": \"1d610358-d446-4566-9568-d29e2d08f75e\"}], \"y_range\": {\"type\": \"DataRange1d\", \"id\": \"25123b20-2313-45f3-ae81-b388d468c6e2\"}, \"below\": [{\"type\": \"LinearAxis\", \"id\": \"62d229b1-7868-486a-9ab4-9c58afd86dfb\"}]}, \"subtype\": \"Figure\", \"id\": \"42dc7392-1323-49d8-b81c-bf55dada76ec\"}, {\"type\": \"BasicTickFormatter\", \"attributes\": {}, \"id\": \"39748f90-d0f6-448d-8e20-0333a0fc0ec5\"}, {\"type\": \"Grid\", \"attributes\": {\"plot\": {\"type\": \"Plot\", \"id\": \"b7d3a0f4-448a-4a9d-841c-d8c60a5a960a\", \"subtype\": \"Figure\"}, \"dimension\": 1, \"ticker\": {\"type\": \"BasicTicker\", \"id\": \"cb1a877f-e802-476c-b56e-0a512cc1522c\"}}, \"id\": \"2ecc2cdb-98d7-4f3a-8c4c-9ea071f4459e\"}, {\"type\": \"LinearAxis\", \"attributes\": {\"axis_label\": \"Inflammation\", \"plot\": {\"type\": \"Plot\", \"id\": \"d02bdba0-7f6d-44ee-be67-fccdac233d4b\", \"subtype\": \"Figure\"}, \"formatter\": {\"type\": \"BasicTickFormatter\", \"id\": \"c721c8a7-c87c-440a-afd1-57db0f78be2c\"}, \"ticker\": {\"type\": \"BasicTicker\", \"id\": \"f385b5f6-425a-418e-b030-51188fa01745\"}}, \"id\": \"481239aa-7517-4795-bff8-f95b3bb1b97f\"}, {\"type\": \"ToolEvents\", \"attributes\": {}, \"id\": \"617aa615-970f-49ff-beaf-e578b095a1ce\"}, {\"type\": \"HelpTool\", \"attributes\": {\"plot\": {\"type\": \"Plot\", \"id\": \"42dc7392-1323-49d8-b81c-bf55dada76ec\", \"subtype\": \"Figure\"}}, \"id\": \"1d610358-d446-4566-9568-d29e2d08f75e\"}, {\"type\": \"HelpTool\", \"attributes\": {\"plot\": {\"type\": \"Plot\", \"id\": \"b7d3a0f4-448a-4a9d-841c-d8c60a5a960a\", \"subtype\": \"Figure\"}}, \"id\": \"05cda629-ca43-4da5-b316-83a04cf0f763\"}, {\"type\": \"BasicTicker\", \"attributes\": {}, \"id\": \"0a20864d-7b74-4ad1-813e-8674637a3a1d\"}, {\"type\": \"Line\", \"attributes\": {\"line_color\": {\"value\": \"#1f77b4\"}, \"x\": {\"field\": \"x\"}, \"y\": {\"field\": \"y\"}}, \"id\": \"f2efbe45-7f6d-4f74-b8f0-913b4c21782d\"}, {\"type\": \"BoxZoomTool\", \"attributes\": {\"plot\": {\"type\": \"Plot\", \"id\": \"07de6f7c-d35e-42a8-a0ac-e92516b552c0\", \"subtype\": \"Figure\"}, \"overlay\": {\"type\": \"BoxAnnotation\", \"id\": \"83bfe11d-8b62-4514-9aa9-a1bf0609e1ef\"}}, \"id\": \"21688bf6-9a71-439b-9563-1aeec65bce8e\"}, {\"type\": \"PanTool\", \"attributes\": {\"plot\": {\"type\": \"Plot\", \"id\": \"e3412a97-d19a-469e-935d-bfb931e497ab\", \"subtype\": \"Figure\"}}, \"id\": \"5da225dc-de54-42e2-a37c-b991d475e8b3\"}, {\"type\": \"ResetTool\", \"attributes\": {\"plot\": {\"type\": \"Plot\", \"id\": \"b7d3a0f4-448a-4a9d-841c-d8c60a5a960a\", \"subtype\": \"Figure\"}}, \"id\": \"3a2e0fc0-800d-4789-94c4-277c5516232f\"}, {\"type\": \"HelpTool\", \"attributes\": {\"plot\": {\"type\": \"Plot\", \"id\": \"1cb8a836-ad53-4b2b-bbd4-3db4e3b75bf2\", \"subtype\": \"Figure\"}}, \"id\": \"d5375267-311a-46e6-9111-d50e9260eff5\"}, {\"type\": \"DataRange1d\", \"attributes\": {\"callback\": null}, \"id\": \"e6aaa8a1-b3c6-44fb-b3aa-9383fbf4189a\"}, {\"type\": \"Line\", \"attributes\": {\"line_color\": {\"value\": \"#1f77b4\"}, \"x\": {\"field\": \"x\"}, \"y\": {\"field\": \"y\"}}, \"id\": \"237397c5-bfaa-4043-a6fc-d6b3501515c3\"}, {\"type\": \"Line\", \"attributes\": {\"line_color\": {\"value\": \"blue\"}, \"x\": {\"field\": \"x\"}, \"y\": {\"field\": \"y\"}}, \"id\": \"d0b9a26f-0a04-4144-9653-e22655baa60e\"}, {\"type\": \"PanTool\", \"attributes\": {\"plot\": {\"type\": \"Plot\", \"id\": \"59899abe-fc82-4e86-bbca-9be468ead2f6\", \"subtype\": \"Figure\"}}, \"id\": \"eedc984b-3087-435c-aabd-9caba0352783\"}, {\"type\": \"BoxAnnotation\", \"attributes\": {\"fill_alpha\": {\"value\": 0.5}, \"line_dash\": [4, 4], \"render_mode\": \"css\", \"bottom_units\": \"screen\", \"right_units\": \"screen\", \"line_alpha\": {\"value\": 1.0}, \"plot\": null, \"top_units\": \"screen\", \"fill_color\": {\"value\": \"lightgrey\"}, \"line_width\": {\"value\": 2}, \"left_units\": \"screen\", \"level\": \"overlay\", \"line_color\": {\"value\": \"black\"}}, \"id\": \"e402fd81-1025-469c-8b1b-16b52fb85664\"}, {\"type\": \"BoxAnnotation\", \"attributes\": {\"fill_alpha\": {\"value\": 0.5}, \"line_dash\": [4, 4], \"render_mode\": \"css\", \"bottom_units\": \"screen\", \"right_units\": \"screen\", \"line_alpha\": {\"value\": 1.0}, \"plot\": null, \"top_units\": \"screen\", \"fill_color\": {\"value\": \"lightgrey\"}, \"line_width\": {\"value\": 2}, \"left_units\": \"screen\", \"level\": \"overlay\", \"line_color\": {\"value\": \"black\"}}, \"id\": \"83bfe11d-8b62-4514-9aa9-a1bf0609e1ef\"}, {\"type\": \"ColumnDataSource\", \"attributes\": {\"data\": {\"y\": [0.0, 0.45, 1.1166666666666667, 1.75, 2.433333333333333, 3.15, 3.8, 3.8833333333333333, 5.233333333333333, 5.516666666666667, 5.95, 5.9, 8.35, 7.733333333333333, 8.366666666666667, 9.5, 9.583333333333334, 10.633333333333333, 11.566666666666666, 12.35, 13.25, 11.966666666666667, 11.033333333333333, 10.166666666666666, 10.0, 8.666666666666666, 9.15, 7.25, 7.333333333333333, 6.583333333333333, 6.066666666666666, 5.95, 5.116666666666666, 3.6, 3.3, 3.566666666666667, 2.4833333333333334, 1.5, 1.1333333333333333, 0.5666666666666667], \"x\": [0, 1, 2, 3, 4, 5, 6, 7, 8, 9, 10, 11, 12, 13, 14, 15, 16, 17, 18, 19, 20, 21, 22, 23, 24, 25, 26, 27, 28, 29]}, \"column_names\": [\"y\", \"x\", \"y\", \"x\"], \"callback\": null}, \"id\": \"e0c53c3f-b0a0-4087-9611-c2f1375661d7\"}, {\"type\": \"LinearAxis\", \"attributes\": {\"axis_label\": \"Inflammation\", \"plot\": {\"type\": \"Plot\", \"id\": \"c55136e3-b542-4820-a893-ac2bc3319c81\", \"subtype\": \"Figure\"}, \"formatter\": {\"type\": \"BasicTickFormatter\", \"id\": \"91b98f0b-4bed-49eb-b5d1-7279d33fa4f9\"}, \"ticker\": {\"type\": \"BasicTicker\", \"id\": \"951e14bb-e516-4693-8742-5948ae3dcb48\"}}, \"id\": \"bf2cfddc-22d9-4134-b097-e3650ed8f9c9\"}, {\"type\": \"DataRange1d\", \"attributes\": {\"callback\": null}, \"id\": \"487a67db-a1bc-43dc-b651-1993a24260f7\"}, {\"type\": \"ResizeTool\", \"attributes\": {\"plot\": {\"type\": \"Plot\", \"id\": \"07de6f7c-d35e-42a8-a0ac-e92516b552c0\", \"subtype\": \"Figure\"}}, \"id\": \"dfeb22e0-9a09-44fb-85a0-bab638d9f098\"}, {\"type\": \"Grid\", \"attributes\": {\"plot\": {\"type\": \"Plot\", \"id\": \"07de6f7c-d35e-42a8-a0ac-e92516b552c0\", \"subtype\": \"Figure\"}, \"ticker\": {\"type\": \"BasicTicker\", \"id\": \"33319207-1dfa-4edf-9309-7675f1f8128a\"}}, \"id\": \"5670151b-9110-4a90-9e10-23248f065f72\"}, {\"type\": \"LinearAxis\", \"attributes\": {\"axis_label\": \"Inflammation\", \"plot\": {\"type\": \"Plot\", \"id\": \"0fe06206-5017-4813-b2ec-d0fd0ad80555\", \"subtype\": \"Figure\"}, \"formatter\": {\"type\": \"BasicTickFormatter\", \"id\": \"66a29735-19d1-4c27-a6b0-ffb07b034f52\"}, \"ticker\": {\"type\": \"BasicTicker\", \"id\": \"ef4435a3-1836-47b5-88ca-aa1079b2f6b9\"}}, \"id\": \"0787c34e-af57-4c24-93b3-1c6714e665b1\"}, {\"type\": \"Line\", \"attributes\": {\"line_alpha\": {\"value\": 0.1}, \"line_color\": {\"value\": \"#1f77b4\"}, \"x\": {\"field\": \"x\"}, \"y\": {\"field\": \"y\"}}, \"id\": \"69c660aa-da00-415b-af4a-0bacd653e7f5\"}, {\"type\": \"DataRange1d\", \"attributes\": {\"callback\": null}, \"id\": \"ec094be6-55cf-4253-b4af-9e06e303cd28\"}, {\"type\": \"GlyphRenderer\", \"attributes\": {\"nonselection_glyph\": {\"type\": \"Line\", \"id\": \"31bb83a7-f09f-47b6-8400-863f40fe153a\"}, \"data_source\": {\"type\": \"ColumnDataSource\", \"id\": \"2dbe78ac-f0cc-4859-acd2-d90e9b42853f\"}, \"selection_glyph\": null, \"hover_glyph\": null, \"glyph\": {\"type\": \"Line\", \"id\": \"218aea3a-2608-42f4-b536-62cf801242b3\"}}, \"id\": \"b3b55f06-66ce-47ff-9e57-45fc7de70f70\"}, {\"type\": \"ResizeTool\", \"attributes\": {\"plot\": {\"type\": \"Plot\", \"id\": \"1cb8a836-ad53-4b2b-bbd4-3db4e3b75bf2\", \"subtype\": \"Figure\"}}, \"id\": \"7d1be0ce-8d1d-4d24-959a-15c4df53b1c8\"}, {\"type\": \"DataRange1d\", \"attributes\": {\"callback\": null}, \"id\": \"a88cfc13-fd98-4366-81e9-10c1c4e00800\"}, {\"type\": \"ResizeTool\", \"attributes\": {\"plot\": {\"type\": \"Plot\", \"id\": \"41ae819b-f50a-411a-80c7-0d49cc226975\", \"subtype\": \"Figure\"}}, \"id\": \"56a8ff1c-fc95-4e3d-a409-7608b89fc9e6\"}, {\"type\": \"BoxAnnotation\", \"attributes\": {\"fill_alpha\": {\"value\": 0.5}, \"line_dash\": [4, 4], \"render_mode\": \"css\", \"bottom_units\": \"screen\", \"right_units\": \"screen\", \"line_alpha\": {\"value\": 1.0}, \"plot\": null, \"top_units\": \"screen\", \"fill_color\": {\"value\": \"lightgrey\"}, \"line_width\": {\"value\": 2}, \"left_units\": \"screen\", \"level\": \"overlay\", \"line_color\": {\"value\": \"black\"}}, \"id\": \"239738b3-b75b-4a73-a0e2-7f8200ec241d\"}, {\"type\": \"BasicTickFormatter\", \"attributes\": {}, \"id\": \"91b98f0b-4bed-49eb-b5d1-7279d33fa4f9\"}, {\"type\": \"ColumnDataSource\", \"attributes\": {\"data\": {\"y\": [0.0, 0.45, 1.1166666666666667, 1.75, 2.433333333333333, 3.15, 3.8, 3.8833333333333333, 5.233333333333333, 5.516666666666667, 5.95, 5.9, 8.35, 7.733333333333333, 8.366666666666667, 9.5, 9.583333333333334, 10.633333333333333, 11.566666666666666, 12.35, 13.25, 11.966666666666667, 11.033333333333333, 10.166666666666666, 10.0, 8.666666666666666, 9.15, 7.25, 7.333333333333333, 6.583333333333333, 6.066666666666666, 5.95, 5.116666666666666, 3.6, 3.3, 3.566666666666667, 2.4833333333333334, 1.5, 1.1333333333333333, 0.5666666666666667], \"x\": [0, 1, 2, 3, 4, 5, 6, 7, 8, 9, 10, 11, 12, 13, 14, 15, 16, 17, 18, 19, 20, 21, 22, 23, 24, 25, 26, 27, 28, 29, 30, 31, 32, 33, 34, 35, 36, 37, 38, 39]}, \"column_names\": [\"y\", \"x\", \"y\", \"x\", \"y\", \"x\"], \"callback\": null}, \"id\": \"fab79e8e-6275-4c7e-a55b-ca5bf396de8b\"}, {\"type\": \"Grid\", \"attributes\": {\"plot\": {\"type\": \"Plot\", \"id\": \"41ae819b-f50a-411a-80c7-0d49cc226975\", \"subtype\": \"Figure\"}, \"ticker\": {\"type\": \"BasicTicker\", \"id\": \"136e5db2-9730-490c-a451-f4d46cf259a2\"}}, \"id\": \"4a3388a0-b06d-49c9-962b-c31f049c76e5\"}, {\"type\": \"DataRange1d\", \"attributes\": {\"callback\": null}, \"id\": \"6a95a46b-33f6-4194-8ff2-c0732f20e3d4\"}, {\"type\": \"Line\", \"attributes\": {\"line_alpha\": {\"value\": 0.1}, \"line_color\": {\"value\": \"#1f77b4\"}, \"x\": {\"field\": \"x\"}, \"y\": {\"field\": \"y\"}}, \"id\": \"05df3401-ef4a-4e7a-b828-486121208070\"}, {\"type\": \"LinearAxis\", \"attributes\": {\"axis_label\": \"Day\", \"plot\": {\"type\": \"Plot\", \"id\": \"c55136e3-b542-4820-a893-ac2bc3319c81\", \"subtype\": \"Figure\"}, \"formatter\": {\"type\": \"BasicTickFormatter\", \"id\": \"13bf5401-1008-411f-a9e7-879b7a7a142a\"}, \"ticker\": {\"type\": \"BasicTicker\", \"id\": \"a60de3c0-50d8-4ad2-a98d-e48c603c26f7\"}}, \"id\": \"783d34ce-8ab2-4322-b362-fff9f52e2946\"}, {\"type\": \"BasicTickFormatter\", \"attributes\": {}, \"id\": \"c729d29d-336c-4459-b0e5-a205646dfca8\"}, {\"type\": \"Grid\", \"attributes\": {\"plot\": {\"type\": \"Plot\", \"id\": \"c55136e3-b542-4820-a893-ac2bc3319c81\", \"subtype\": \"Figure\"}, \"ticker\": {\"type\": \"BasicTicker\", \"id\": \"a60de3c0-50d8-4ad2-a98d-e48c603c26f7\"}}, \"id\": \"dda93254-426e-4229-a1f8-56c695d9daab\"}, {\"type\": \"PreviewSaveTool\", \"attributes\": {\"plot\": {\"type\": \"Plot\", \"id\": \"42dc7392-1323-49d8-b81c-bf55dada76ec\", \"subtype\": \"Figure\"}}, \"id\": \"c69380d8-8045-4714-8443-13eb1a496218\"}, {\"type\": \"Grid\", \"attributes\": {\"plot\": {\"type\": \"Plot\", \"id\": \"41ae819b-f50a-411a-80c7-0d49cc226975\", \"subtype\": \"Figure\"}, \"dimension\": 1, \"ticker\": {\"type\": \"BasicTicker\", \"id\": \"a5499ccc-4068-41be-a037-d8b7123c12b4\"}}, \"id\": \"eab7351b-e456-401d-a5b6-6b6676a1ff67\"}, {\"type\": \"Line\", \"attributes\": {\"line_color\": {\"value\": \"#1f77b4\"}, \"x\": {\"field\": \"x\"}, \"y\": {\"field\": \"y\"}}, \"id\": \"218aea3a-2608-42f4-b536-62cf801242b3\"}, {\"type\": \"GlyphRenderer\", \"attributes\": {\"nonselection_glyph\": {\"type\": \"Line\", \"id\": \"d7368cc4-bab5-4b7b-91a8-233ed797eab1\"}, \"data_source\": {\"type\": \"ColumnDataSource\", \"id\": \"5975212c-17ec-4063-9b0c-6c35561d3497\"}, \"selection_glyph\": null, \"hover_glyph\": null, \"glyph\": {\"type\": \"Line\", \"id\": \"fefbcb88-16b5-4257-88ab-6673cac53912\"}}, \"id\": \"da296579-3b62-4f5f-8945-7a3a1646a45b\"}, {\"type\": \"BoxZoomTool\", \"attributes\": {\"plot\": {\"type\": \"Plot\", \"id\": \"0fe06206-5017-4813-b2ec-d0fd0ad80555\", \"subtype\": \"Figure\"}, \"overlay\": {\"type\": \"BoxAnnotation\", \"id\": \"92fa3e25-63cb-40d4-9aa8-0d2856afd6ed\"}}, \"id\": \"84d6fe9e-1988-4e1b-b001-57b0a9a9d1a2\"}, {\"type\": \"BasicTickFormatter\", \"attributes\": {}, \"id\": \"4f463e02-7328-4a03-812f-132957667553\"}, {\"type\": \"BasicTickFormatter\", \"attributes\": {}, \"id\": \"501f3bac-522a-416a-b483-4a878c3cf5d3\"}, {\"type\": \"GlyphRenderer\", \"attributes\": {\"nonselection_glyph\": {\"type\": \"Line\", \"id\": \"6a571078-8b38-4c55-8441-57f18d97b2ea\"}, \"data_source\": {\"type\": \"ColumnDataSource\", \"id\": \"aaa8098e-d051-4e4c-9f0a-229d98b31183\"}, \"selection_glyph\": null, \"hover_glyph\": null, \"glyph\": {\"type\": \"Line\", \"id\": \"59c0cdca-b06f-41b6-8b88-1e7bd74f070b\"}}, \"id\": \"2903e827-6d90-4cca-a85d-4d74eb6fd69c\"}, {\"type\": \"Line\", \"attributes\": {\"line_color\": {\"value\": \"#1f77b4\"}, \"x\": {\"field\": \"x\"}, \"y\": {\"field\": \"y\"}}, \"id\": \"3a754866-04c3-40f1-ad10-44852c41d04c\"}, {\"type\": \"LinearAxis\", \"attributes\": {\"axis_label\": \"Inflammation\", \"plot\": {\"type\": \"Plot\", \"id\": \"41ae819b-f50a-411a-80c7-0d49cc226975\", \"subtype\": \"Figure\"}, \"formatter\": {\"type\": \"BasicTickFormatter\", \"id\": \"0eed27ae-896a-46d1-973c-25fbcc3ace31\"}, \"ticker\": {\"type\": \"BasicTicker\", \"id\": \"a5499ccc-4068-41be-a037-d8b7123c12b4\"}}, \"id\": \"2e2251b4-ca9b-4ece-930f-6c886b6d6116\"}, {\"type\": \"BoxAnnotation\", \"attributes\": {\"fill_alpha\": {\"value\": 0.5}, \"line_dash\": [4, 4], \"render_mode\": \"css\", \"bottom_units\": \"screen\", \"right_units\": \"screen\", \"line_alpha\": {\"value\": 1.0}, \"plot\": null, \"top_units\": \"screen\", \"fill_color\": {\"value\": \"lightgrey\"}, \"line_width\": {\"value\": 2}, \"left_units\": \"screen\", \"level\": \"overlay\", \"line_color\": {\"value\": \"black\"}}, \"id\": \"0391b4de-9ace-4153-b1c1-318f295c6532\"}, {\"type\": \"LinearAxis\", \"attributes\": {\"axis_label\": \"Day\", \"plot\": {\"type\": \"Plot\", \"id\": \"07de6f7c-d35e-42a8-a0ac-e92516b552c0\", \"subtype\": \"Figure\"}, \"formatter\": {\"type\": \"BasicTickFormatter\", \"id\": \"a5141548-7290-4407-b530-f036b25dd12e\"}, \"ticker\": {\"type\": \"BasicTicker\", \"id\": \"33319207-1dfa-4edf-9309-7675f1f8128a\"}}, \"id\": \"fa0ef287-0337-43e0-9c69-b8c6fa25ab15\"}, {\"type\": \"PreviewSaveTool\", \"attributes\": {\"plot\": {\"type\": \"Plot\", \"id\": \"1cb8a836-ad53-4b2b-bbd4-3db4e3b75bf2\", \"subtype\": \"Figure\"}}, \"id\": \"ee343276-1907-4272-816a-b78e0dd0b363\"}, {\"type\": \"Plot\", \"attributes\": {\"x_range\": {\"type\": \"DataRange1d\", \"id\": \"5bd14e38-0bf7-4412-83b7-06f83135687d\"}, \"left\": [{\"type\": \"LinearAxis\", \"id\": \"0787c34e-af57-4c24-93b3-1c6714e665b1\"}], \"renderers\": [{\"type\": \"LinearAxis\", \"id\": \"88a1f013-1e4e-4843-b96c-cf15e9feef4e\"}, {\"type\": \"Grid\", \"id\": \"be4c6aa7-e862-4532-a746-23c68f824094\"}, {\"type\": \"LinearAxis\", \"id\": \"0787c34e-af57-4c24-93b3-1c6714e665b1\"}, {\"type\": \"Grid\", \"id\": \"784e8103-1041-4c7c-ae0b-5b6de14f4918\"}, {\"type\": \"BoxAnnotation\", \"id\": \"92fa3e25-63cb-40d4-9aa8-0d2856afd6ed\"}, {\"type\": \"Legend\", \"id\": \"b3b30aac-53d1-4076-a4bf-58ace1ca2d27\"}, {\"type\": \"GlyphRenderer\", \"id\": \"7da80203-c492-43de-948f-e3334715659e\"}, {\"type\": \"GlyphRenderer\", \"id\": \"9b80651d-0cef-4a73-b7b4-33409c747b4f\"}, {\"type\": \"GlyphRenderer\", \"id\": \"2903e827-6d90-4cca-a85d-4d74eb6fd69c\"}], \"tool_events\": {\"type\": \"ToolEvents\", \"id\": \"a5f19de9-fdba-43c8-b246-3b1a1c5c6d03\"}, \"tools\": [{\"type\": \"PanTool\", \"id\": \"09ed4dac-4f48-4dff-a0f7-d1dc6b7b73d5\"}, {\"type\": \"WheelZoomTool\", \"id\": \"1a153d9d-0349-4fc2-9129-2c6aa879f867\"}, {\"type\": \"BoxZoomTool\", \"id\": \"84d6fe9e-1988-4e1b-b001-57b0a9a9d1a2\"}, {\"type\": \"PreviewSaveTool\", \"id\": \"400af48b-3a4b-48d9-8759-c2254b24bdbc\"}, {\"type\": \"ResizeTool\", \"id\": \"a003fbe4-2f37-48c0-a496-02cbbdd0db95\"}, {\"type\": \"ResetTool\", \"id\": \"728a2555-2062-48b9-b75f-2019608e4a6a\"}, {\"type\": \"HelpTool\", \"id\": \"93853238-8a83-463d-bf70-2ea07c52b793\"}], \"y_range\": {\"type\": \"DataRange1d\", \"id\": \"2e50ecdb-5ebc-475c-bfbd-7f0c05c0c275\"}, \"below\": [{\"type\": \"LinearAxis\", \"id\": \"88a1f013-1e4e-4843-b96c-cf15e9feef4e\"}]}, \"subtype\": \"Figure\", \"id\": \"0fe06206-5017-4813-b2ec-d0fd0ad80555\"}, {\"type\": \"PanTool\", \"attributes\": {\"plot\": {\"type\": \"Plot\", \"id\": \"07de6f7c-d35e-42a8-a0ac-e92516b552c0\", \"subtype\": \"Figure\"}}, \"id\": \"9242ca15-395e-45ae-9cfb-bf5021df06b2\"}, {\"type\": \"PanTool\", \"attributes\": {\"plot\": {\"type\": \"Plot\", \"id\": \"6dc380a6-b1ae-4eff-9330-34cd39dbf16e\", \"subtype\": \"Figure\"}}, \"id\": \"a6230222-2a1a-480e-914f-4cceb60c4636\"}, {\"type\": \"Plot\", \"attributes\": {\"x_range\": {\"type\": \"DataRange1d\", \"id\": \"f2131dd8-3835-4883-bf02-24fe5b60b45e\"}, \"left\": [{\"type\": \"LinearAxis\", \"id\": \"fa6cb4af-b6ab-4783-92a1-5540e728301e\"}], \"renderers\": [{\"type\": \"LinearAxis\", \"id\": \"c2ea5ac0-9f32-4628-970a-c785676f0006\"}, {\"type\": \"Grid\", \"id\": \"aac412d8-6531-4e5c-8410-fa632abd44e7\"}, {\"type\": \"LinearAxis\", \"id\": \"fa6cb4af-b6ab-4783-92a1-5540e728301e\"}, {\"type\": \"Grid\", \"id\": \"21c2b41b-4e43-4cfb-aefe-4ea3b1606de5\"}, {\"type\": \"BoxAnnotation\", \"id\": \"239738b3-b75b-4a73-a0e2-7f8200ec241d\"}, {\"type\": \"GlyphRenderer\", \"id\": \"b348930d-48c1-4feb-a831-038bb4383812\"}], \"tool_events\": {\"type\": \"ToolEvents\", \"id\": \"0cbe1e29-5e15-45c7-96db-f8d7e06e28fb\"}, \"tools\": [{\"type\": \"PanTool\", \"id\": \"a6230222-2a1a-480e-914f-4cceb60c4636\"}, {\"type\": \"WheelZoomTool\", \"id\": \"44562f08-da51-4b94-b731-efb480b49cd6\"}, {\"type\": \"BoxZoomTool\", \"id\": \"b4c483d1-35a5-4fcc-971e-cef677d7d3db\"}, {\"type\": \"PreviewSaveTool\", \"id\": \"1238c933-e670-45b5-b0bb-78bf3b54eea5\"}, {\"type\": \"ResizeTool\", \"id\": \"08bfd82b-58c8-4896-9b8d-01ae3bc83239\"}, {\"type\": \"ResetTool\", \"id\": \"299bea49-2051-4a1d-93d4-bdd20bcac595\"}, {\"type\": \"HelpTool\", \"id\": \"1011f937-ee8a-41a9-907b-8d34cb40ce8d\"}], \"y_range\": {\"type\": \"DataRange1d\", \"id\": \"c2bd80c7-53a1-4f26-8e4e-f88c88bb29fc\"}, \"below\": [{\"type\": \"LinearAxis\", \"id\": \"c2ea5ac0-9f32-4628-970a-c785676f0006\"}]}, \"subtype\": \"Figure\", \"id\": \"6dc380a6-b1ae-4eff-9330-34cd39dbf16e\"}, {\"type\": \"PanTool\", \"attributes\": {\"plot\": {\"type\": \"Plot\", \"id\": \"d02bdba0-7f6d-44ee-be67-fccdac233d4b\", \"subtype\": \"Figure\"}}, \"id\": \"5224d690-eada-452b-861c-d2c9e92b96d2\"}, {\"type\": \"LinearAxis\", \"attributes\": {\"axis_label\": \"Day\", \"plot\": {\"type\": \"Plot\", \"id\": \"1cb8a836-ad53-4b2b-bbd4-3db4e3b75bf2\", \"subtype\": \"Figure\"}, \"formatter\": {\"type\": \"BasicTickFormatter\", \"id\": \"3be47f58-f24d-4017-8677-529d28fb22ea\"}, \"ticker\": {\"type\": \"BasicTicker\", \"id\": \"72d9fa8f-44b1-46b0-a737-eeccbacfbe95\"}}, \"id\": \"fa4fcf62-1b8d-49e0-a4f5-fb46900d6651\"}, {\"type\": \"Grid\", \"attributes\": {\"plot\": {\"type\": \"Plot\", \"id\": \"e3412a97-d19a-469e-935d-bfb931e497ab\", \"subtype\": \"Figure\"}, \"dimension\": 1, \"ticker\": {\"type\": \"BasicTicker\", \"id\": \"54dd9b74-19f5-4dc2-b209-09782205e666\"}}, \"id\": \"ee4c27de-73fe-4309-99b3-2991c05b7afd\"}, {\"type\": \"ToolEvents\", \"attributes\": {}, \"id\": \"f3ebd114-d47c-42e9-9a08-1162e07308c3\"}, {\"type\": \"BasicTickFormatter\", \"attributes\": {}, \"id\": \"a5141548-7290-4407-b530-f036b25dd12e\"}]}, \"version\": \"0.11.0\", \"title\": \"Bokeh Application\"}};\n",
       "            var render_items = [{\"notebook_comms_target\": \"8386b2d8-8005-434a-b96f-631649cd70b7\", \"elementid\": \"c0305eea-4b57-4d94-bb27-e72a7b459aaa\", \"docid\": \"27f1de90-80d5-4ac3-be24-eb5653bebe9b\", \"modelid\": \"42dc7392-1323-49d8-b81c-bf55dada76ec\"}];\n",
       "            \n",
       "            Bokeh.embed.embed_items(docs_json, render_items);\n",
       "        });\n",
       "      },\n",
       "      function(Bokeh) {\n",
       "      }\n",
       "    ];\n",
       "  \n",
       "    function run_inline_js() {\n",
       "      for (var i = 0; i < inline_js.length; i++) {\n",
       "        inline_js[i](window.Bokeh);\n",
       "      }\n",
       "    }\n",
       "  \n",
       "    if (window._bokeh_is_loading === 0) {\n",
       "      console.log(\"Bokeh: BokehJS loaded, going straight to plotting\");\n",
       "      run_inline_js();\n",
       "    } else {\n",
       "      load_libs(js_urls, function() {\n",
       "        console.log(\"Bokeh: BokehJS plotting callback run at\", now());\n",
       "        run_inline_js();\n",
       "      });\n",
       "    }\n",
       "  }(this));\n",
       "</script>"
      ]
     },
     "metadata": {},
     "output_type": "display_data"
    },
    {
     "data": {
      "text/plain": [
       "<bokeh.io._CommsHandle at 0x7f01b44e7dd8>"
      ]
     },
     "execution_count": 47,
     "metadata": {},
     "output_type": "execute_result"
    }
   ],
   "source": [
    "fig = bplot.figure()\n",
    "\n",
    "days = np.arange(data.shape[1])\n",
    "\n",
    "fig.xaxis.axis_label = 'Day'\n",
    "fig.yaxis.axis_label = 'Inflammation'\n",
    "\n",
    "fig.line(initial_coordinates['x'], initial_coordinates['y'], source=source)\n",
    "bplot.show(fig)"
   ]
  },
  {
   "cell_type": "markdown",
   "metadata": {
    "slideshow": {
     "slide_type": "notes"
    }
   },
   "source": [
    "Now we need a widget to use this..."
   ]
  },
  {
   "cell_type": "code",
   "execution_count": 48,
   "metadata": {
    "collapsed": false,
    "slideshow": {
     "slide_type": "slide"
    }
   },
   "outputs": [],
   "source": [
    "from ipywidgets import interact\n",
    "\n",
    "interact(update_plot_statistic, statistic=[\"Average\", \"Max\", \"Min\"])"
   ]
  },
  {
   "cell_type": "markdown",
   "metadata": {
    "slideshow": {
     "slide_type": "notes"
    }
   },
   "source": [
    "This a very basic approach - the widget tool guesses you want a drop-down because you pass a list. Alternatively, you could pass a tuple with two floats as limits and get a slider back."
   ]
  },
  {
   "cell_type": "markdown",
   "metadata": {
    "slideshow": {
     "slide_type": "notes"
    }
   },
   "source": [
    "It seems you do have to output the image before the widgets, if you define the callback in Python, at least. However, there are a lot of other interactors - you can pass a JS callback (as a string), assign URLs to various objects in your plot, animate it, etc. etc. etc."
   ]
  },
  {
   "cell_type": "markdown",
   "metadata": {
    "slideshow": {
     "slide_type": "slide"
    }
   },
   "source": [
    "# Final Challenge\n",
    "\n",
    "Add a slider for variable N from 1 to 60 that reduces the dataset from all Patients to Patients 1 to N. Unless you're feeling particularly ambitious, you can replace the drop-down from the previous example with this slider."
   ]
  },
  {
   "cell_type": "code",
   "execution_count": 36,
   "metadata": {
    "collapsed": true
   },
   "outputs": [],
   "source": [
    "# Use this cell for the plot"
   ]
  },
  {
   "cell_type": "code",
   "execution_count": null,
   "metadata": {
    "collapsed": true
   },
   "outputs": [],
   "source": [
    "# And this for the one line `interact` call afterwards"
   ]
  },
  {
   "cell_type": "markdown",
   "metadata": {
    "slideshow": {
     "slide_type": "notes"
    }
   },
   "source": [
    "Don't forget your star!"
   ]
  },
  {
   "cell_type": "code",
   "execution_count": 45,
   "metadata": {
    "collapsed": false,
    "slideshow": {
     "slide_type": "notes"
    }
   },
   "outputs": [
    {
     "data": {
      "text/html": [
       "\n",
       "\n",
       "    <div class=\"plotdiv\" id=\"52af57fa-aa9e-4b02-872d-a584a4484b2c\"></div>\n",
       "<script type=\"text/javascript\">\n",
       "  \n",
       "  (function(global) {\n",
       "    function now() {\n",
       "      return new Date();\n",
       "    }\n",
       "  \n",
       "    if (typeof (window._bokeh_onload_callbacks) === \"undefined\") {\n",
       "      window._bokeh_onload_callbacks = [];\n",
       "    }\n",
       "  \n",
       "    function run_callbacks() {\n",
       "      window._bokeh_onload_callbacks.forEach(function(callback) { callback() });\n",
       "      delete window._bokeh_onload_callbacks\n",
       "      console.info(\"Bokeh: all callbacks have finished\");\n",
       "    }\n",
       "  \n",
       "    function load_libs(js_urls, callback) {\n",
       "      window._bokeh_onload_callbacks.push(callback);\n",
       "      if (window._bokeh_is_loading > 0) {\n",
       "        console.log(\"Bokeh: BokehJS is being loaded, scheduling callback at\", now());\n",
       "        return null;\n",
       "      }\n",
       "      if (js_urls == null || js_urls.length === 0) {\n",
       "        run_callbacks();\n",
       "        return null;\n",
       "      }\n",
       "      console.log(\"Bokeh: BokehJS not loaded, scheduling load and callback at\", now());\n",
       "      window._bokeh_is_loading = js_urls.length;\n",
       "      for (var i = 0; i < js_urls.length; i++) {\n",
       "        var url = js_urls[i];\n",
       "        var s = document.createElement('script');\n",
       "        s.src = url;\n",
       "        s.async = false;\n",
       "        s.onreadystatechange = s.onload = function() {\n",
       "          window._bokeh_is_loading--;\n",
       "          if (window._bokeh_is_loading === 0) {\n",
       "            console.log(\"Bokeh: all BokehJS libraries loaded\");\n",
       "            run_callbacks()\n",
       "          }\n",
       "        };\n",
       "        s.onerror = function() {\n",
       "          console.warn(\"failed to load library \" + url);\n",
       "        };\n",
       "        console.log(\"Bokeh: injecting script tag for BokehJS library: \", url);\n",
       "        document.getElementsByTagName(\"head\")[0].appendChild(s);\n",
       "      }\n",
       "    };var element = document.getElementById(\"52af57fa-aa9e-4b02-872d-a584a4484b2c\");\n",
       "    if (element == null) {\n",
       "      console.log(\"Bokeh: ERROR: autoload.js configured with elementid '52af57fa-aa9e-4b02-872d-a584a4484b2c' but no matching script tag was found. \")\n",
       "      return false;\n",
       "    }var js_urls = [];\n",
       "  \n",
       "    var inline_js = [\n",
       "      function(Bokeh) {\n",
       "        Bokeh.$(function() {\n",
       "            var docs_json = {\"8935a421-ddcd-49f9-b0d6-fbaab073a813\": {\"roots\": {\"root_ids\": [\"6dc380a6-b1ae-4eff-9330-34cd39dbf16e\", \"0fe06206-5017-4813-b2ec-d0fd0ad80555\", \"d02bdba0-7f6d-44ee-be67-fccdac233d4b\", \"41ae819b-f50a-411a-80c7-0d49cc226975\", \"b7d3a0f4-448a-4a9d-841c-d8c60a5a960a\", \"59899abe-fc82-4e86-bbca-9be468ead2f6\", \"07de6f7c-d35e-42a8-a0ac-e92516b552c0\", \"c55136e3-b542-4820-a893-ac2bc3319c81\", \"e3412a97-d19a-469e-935d-bfb931e497ab\", \"1cb8a836-ad53-4b2b-bbd4-3db4e3b75bf2\"], \"references\": [{\"type\": \"PreviewSaveTool\", \"attributes\": {\"plot\": {\"type\": \"Plot\", \"id\": \"d02bdba0-7f6d-44ee-be67-fccdac233d4b\", \"subtype\": \"Figure\"}}, \"id\": \"d496ab65-1cd1-4f50-94e8-b5e70338b5aa\"}, {\"type\": \"PreviewSaveTool\", \"attributes\": {\"plot\": {\"type\": \"Plot\", \"id\": \"07de6f7c-d35e-42a8-a0ac-e92516b552c0\", \"subtype\": \"Figure\"}}, \"id\": \"604a97b1-a944-4008-84c4-60a472d0bb98\"}, {\"type\": \"LinearAxis\", \"attributes\": {\"axis_label\": \"Day\", \"plot\": {\"type\": \"Plot\", \"id\": \"0fe06206-5017-4813-b2ec-d0fd0ad80555\", \"subtype\": \"Figure\"}, \"formatter\": {\"type\": \"BasicTickFormatter\", \"id\": \"4f463e02-7328-4a03-812f-132957667553\"}, \"ticker\": {\"type\": \"BasicTicker\", \"id\": \"a644e747-b908-40c5-a04c-d7f9bb4842ad\"}}, \"id\": \"88a1f013-1e4e-4843-b96c-cf15e9feef4e\"}, {\"type\": \"DataRange1d\", \"attributes\": {\"callback\": null}, \"id\": \"ed663852-62f6-42e9-8955-227767acd55a\"}, {\"type\": \"HelpTool\", \"attributes\": {\"plot\": {\"type\": \"Plot\", \"id\": \"0fe06206-5017-4813-b2ec-d0fd0ad80555\", \"subtype\": \"Figure\"}}, \"id\": \"93853238-8a83-463d-bf70-2ea07c52b793\"}, {\"type\": \"PreviewSaveTool\", \"attributes\": {\"plot\": {\"type\": \"Plot\", \"id\": \"c55136e3-b542-4820-a893-ac2bc3319c81\", \"subtype\": \"Figure\"}}, \"id\": \"d410d99d-7ba7-4ac2-9fd2-368e789be7de\"}, {\"type\": \"BasicTicker\", \"attributes\": {}, \"id\": \"a60de3c0-50d8-4ad2-a98d-e48c603c26f7\"}, {\"type\": \"Line\", \"attributes\": {\"line_color\": {\"value\": \"#1f77b4\"}, \"x\": {\"field\": \"x\"}, \"y\": {\"field\": \"y\"}}, \"id\": \"fefbcb88-16b5-4257-88ab-6673cac53912\"}, {\"type\": \"Line\", \"attributes\": {\"line_alpha\": {\"value\": 0.1}, \"line_color\": {\"value\": \"#1f77b4\"}, \"x\": {\"field\": \"x\"}, \"y\": {\"field\": \"y\"}}, \"id\": \"fe34f610-860c-4db1-9ff4-12f0a7a68758\"}, {\"type\": \"PreviewSaveTool\", \"attributes\": {\"plot\": {\"type\": \"Plot\", \"id\": \"41ae819b-f50a-411a-80c7-0d49cc226975\", \"subtype\": \"Figure\"}}, \"id\": \"982291a7-0258-4173-998f-61275d57166e\"}, {\"type\": \"Grid\", \"attributes\": {\"plot\": {\"type\": \"Plot\", \"id\": \"59899abe-fc82-4e86-bbca-9be468ead2f6\", \"subtype\": \"Figure\"}, \"ticker\": {\"type\": \"BasicTicker\", \"id\": \"bf0a12ed-924e-4537-ae30-d49b3a096ee9\"}}, \"id\": \"c09ea3db-c7c8-41fd-b355-3c1bf4d973b8\"}, {\"type\": \"BasicTickFormatter\", \"attributes\": {}, \"id\": \"44518742-21f2-4fb7-9cf8-3a5ca69ee9de\"}, {\"type\": \"HelpTool\", \"attributes\": {\"plot\": {\"type\": \"Plot\", \"id\": \"6dc380a6-b1ae-4eff-9330-34cd39dbf16e\", \"subtype\": \"Figure\"}}, \"id\": \"1011f937-ee8a-41a9-907b-8d34cb40ce8d\"}, {\"type\": \"GlyphRenderer\", \"attributes\": {\"nonselection_glyph\": {\"type\": \"Line\", \"id\": \"05df3401-ef4a-4e7a-b828-486121208070\"}, \"data_source\": {\"type\": \"ColumnDataSource\", \"id\": \"fab79e8e-6275-4c7e-a55b-ca5bf396de8b\"}, \"selection_glyph\": null, \"hover_glyph\": null, \"glyph\": {\"type\": \"Line\", \"id\": \"1839ff63-0a43-4139-8c97-62fa108e998b\"}}, \"id\": \"11bf0a83-842a-4510-a6b3-676607264b73\"}, {\"type\": \"BasicTickFormatter\", \"attributes\": {}, \"id\": \"c721c8a7-c87c-440a-afd1-57db0f78be2c\"}, {\"type\": \"WheelZoomTool\", \"attributes\": {\"plot\": {\"type\": \"Plot\", \"id\": \"41ae819b-f50a-411a-80c7-0d49cc226975\", \"subtype\": \"Figure\"}}, \"id\": \"8755b83b-5e0f-4015-8336-3ff32003b67c\"}, {\"type\": \"BasicTickFormatter\", \"attributes\": {}, \"id\": \"66a29735-19d1-4c27-a6b0-ffb07b034f52\"}, {\"type\": \"BasicTicker\", \"attributes\": {}, \"id\": \"a644e747-b908-40c5-a04c-d7f9bb4842ad\"}, {\"type\": \"ToolEvents\", \"attributes\": {}, \"id\": \"7429cca7-9edb-4952-9f0c-16addae6d79f\"}, {\"type\": \"BasicTickFormatter\", \"attributes\": {}, \"id\": \"0eed27ae-896a-46d1-973c-25fbcc3ace31\"}, {\"type\": \"GlyphRenderer\", \"attributes\": {\"nonselection_glyph\": {\"type\": \"Line\", \"id\": \"114750be-1111-468c-a233-48188af54b0c\"}, \"data_source\": {\"type\": \"ColumnDataSource\", \"id\": \"53e9c0e6-95c1-4d41-aaca-b46bad388f79\"}, \"selection_glyph\": null, \"hover_glyph\": null, \"glyph\": {\"type\": \"Line\", \"id\": \"edc212e2-9c30-4cbb-8fa5-af5a1d429634\"}}, \"id\": \"dc87139c-9bd1-469f-a786-3b53ae2c68e3\"}, {\"type\": \"ColumnDataSource\", \"attributes\": {\"data\": {\"y\": [0.0, 0.45, 1.1166666666666667, 1.75, 2.433333333333333, 3.15, 3.8, 3.8833333333333333, 5.233333333333333, 5.516666666666667, 5.95, 5.9, 8.35, 7.733333333333333, 8.366666666666667, 9.5, 9.583333333333334, 10.633333333333333, 11.566666666666666, 12.35, 13.25, 11.966666666666667, 11.033333333333333, 10.166666666666666, 10.0, 8.666666666666666, 9.15, 7.25, 7.333333333333333, 6.583333333333333, 6.066666666666666, 5.95, 5.116666666666666, 3.6, 3.3, 3.566666666666667, 2.4833333333333334, 1.5, 1.1333333333333333, 0.5666666666666667], \"x\": [0, 1, 2, 3, 4, 5, 6, 7, 8, 9, 10, 11, 12, 13, 14, 15, 16, 17, 18, 19, 20, 21, 22, 23, 24, 25, 26, 27, 28, 29, 30, 31, 32, 33, 34, 35, 36, 37, 38, 39]}, \"column_names\": [\"y\", \"x\"], \"callback\": null}, \"id\": \"dd50e726-ffe3-4417-b3ca-50a196179c38\"}, {\"type\": \"PreviewSaveTool\", \"attributes\": {\"plot\": {\"type\": \"Plot\", \"id\": \"e3412a97-d19a-469e-935d-bfb931e497ab\", \"subtype\": \"Figure\"}}, \"id\": \"bdde12cd-c3e5-414d-ac1a-02ba73729b79\"}, {\"type\": \"BasicTicker\", \"attributes\": {}, \"id\": \"e04697bb-8b80-430c-a26c-261e92afe8fe\"}, {\"type\": \"BasicTickFormatter\", \"attributes\": {}, \"id\": \"d21d2aee-01c7-4d0c-8b1b-fea53a0d7d83\"}, {\"type\": \"ColumnDataSource\", \"attributes\": {\"data\": {\"y\": [0.0, 0.0, 0.0, 0.0, 1.0, 1.0, 1.0, 1.0, 2.0, 2.0, 2.0, 2.0, 3.0, 3.0, 3.0, 3.0, 4.0, 5.0, 5.0, 5.0, 5.0, 4.0, 4.0, 4.0, 4.0, 3.0, 3.0, 3.0, 3.0, 2.0, 2.0, 2.0, 2.0, 1.0, 1.0, 1.0, 1.0, 0.0, 0.0, 0.0], \"x\": [0, 1, 2, 3, 4, 5, 6, 7, 8, 9, 10, 11, 12, 13, 14, 15, 16, 17, 18, 19, 20, 21, 22, 23, 24, 25, 26, 27, 28, 29, 30, 31, 32, 33, 34, 35, 36, 37, 38, 39]}, \"column_names\": [\"y\", \"x\", \"y\", \"x\"], \"callback\": null}, \"id\": \"2dbe78ac-f0cc-4859-acd2-d90e9b42853f\"}, {\"type\": \"ResetTool\", \"attributes\": {\"plot\": {\"type\": \"Plot\", \"id\": \"41ae819b-f50a-411a-80c7-0d49cc226975\", \"subtype\": \"Figure\"}}, \"id\": \"6e7d668c-bdd1-48ad-ad87-79d2608efa5d\"}, {\"type\": \"ResetTool\", \"attributes\": {\"plot\": {\"type\": \"Plot\", \"id\": \"0fe06206-5017-4813-b2ec-d0fd0ad80555\", \"subtype\": \"Figure\"}}, \"id\": \"728a2555-2062-48b9-b75f-2019608e4a6a\"}, {\"type\": \"ToolEvents\", \"attributes\": {}, \"id\": \"a5f19de9-fdba-43c8-b246-3b1a1c5c6d03\"}, {\"type\": \"BasicTickFormatter\", \"attributes\": {}, \"id\": \"3b1a392a-5c99-4f32-8a45-7795324b62a5\"}, {\"type\": \"BasicTickFormatter\", \"attributes\": {}, \"id\": \"baf54699-888b-4c59-8688-71428ce056f1\"}, {\"type\": \"BasicTicker\", \"attributes\": {}, \"id\": \"610659ff-c487-489e-ab08-f2f4af7f23a0\"}, {\"type\": \"GlyphRenderer\", \"attributes\": {\"nonselection_glyph\": {\"type\": \"Line\", \"id\": \"f7cf2a29-764d-42d6-9d55-6bafc124031a\"}, \"data_source\": {\"type\": \"ColumnDataSource\", \"id\": \"dd50e726-ffe3-4417-b3ca-50a196179c38\"}, \"selection_glyph\": null, \"hover_glyph\": null, \"glyph\": {\"type\": \"Line\", \"id\": \"e7fad632-f2c7-4009-b318-dc02d18a7ba2\"}}, \"id\": \"b348930d-48c1-4feb-a831-038bb4383812\"}, {\"type\": \"ResizeTool\", \"attributes\": {\"plot\": {\"type\": \"Plot\", \"id\": \"0fe06206-5017-4813-b2ec-d0fd0ad80555\", \"subtype\": \"Figure\"}}, \"id\": \"a003fbe4-2f37-48c0-a496-02cbbdd0db95\"}, {\"type\": \"Grid\", \"attributes\": {\"plot\": {\"type\": \"Plot\", \"id\": \"07de6f7c-d35e-42a8-a0ac-e92516b552c0\", \"subtype\": \"Figure\"}, \"dimension\": 1, \"ticker\": {\"type\": \"BasicTicker\", \"id\": \"feef39bd-6dc0-409c-ba1c-0d13f2a5e7f7\"}}, \"id\": \"9d20c876-3712-418c-87dd-121e934b3410\"}, {\"type\": \"ToolEvents\", \"attributes\": {}, \"id\": \"a617e3f5-5337-4a56-8f3f-54f1f83a9cb5\"}, {\"type\": \"LinearAxis\", \"attributes\": {\"axis_label\": \"Inflammation\", \"plot\": {\"type\": \"Plot\", \"id\": \"07de6f7c-d35e-42a8-a0ac-e92516b552c0\", \"subtype\": \"Figure\"}, \"formatter\": {\"type\": \"BasicTickFormatter\", \"id\": \"baf54699-888b-4c59-8688-71428ce056f1\"}, \"ticker\": {\"type\": \"BasicTicker\", \"id\": \"feef39bd-6dc0-409c-ba1c-0d13f2a5e7f7\"}}, \"id\": \"f87a0999-c923-476e-a144-d6f192c2a42f\"}, {\"type\": \"LinearAxis\", \"attributes\": {\"axis_label\": \"Inflammation\", \"plot\": {\"type\": \"Plot\", \"id\": \"1cb8a836-ad53-4b2b-bbd4-3db4e3b75bf2\", \"subtype\": \"Figure\"}, \"formatter\": {\"type\": \"BasicTickFormatter\", \"id\": \"c729d29d-336c-4459-b0e5-a205646dfca8\"}, \"ticker\": {\"type\": \"BasicTicker\", \"id\": \"0a20864d-7b74-4ad1-813e-8674637a3a1d\"}}, \"id\": \"0a4cb264-3304-4b5c-8e61-c57ddaada748\"}, {\"type\": \"DataRange1d\", \"attributes\": {\"callback\": null}, \"id\": \"e3f3b131-6f64-4c9a-a87a-f109e89cc29b\"}, {\"type\": \"Grid\", \"attributes\": {\"plot\": {\"type\": \"Plot\", \"id\": \"c55136e3-b542-4820-a893-ac2bc3319c81\", \"subtype\": \"Figure\"}, \"dimension\": 1, \"ticker\": {\"type\": \"BasicTicker\", \"id\": \"951e14bb-e516-4693-8742-5948ae3dcb48\"}}, \"id\": \"9a84768e-e128-4b19-9170-6bfebecc41a1\"}, {\"type\": \"Line\", \"attributes\": {\"line_alpha\": {\"value\": 0.1}, \"line_color\": {\"value\": \"#1f77b4\"}, \"x\": {\"field\": \"x\"}, \"y\": {\"field\": \"y\"}}, \"id\": \"6a571078-8b38-4c55-8441-57f18d97b2ea\"}, {\"type\": \"BoxZoomTool\", \"attributes\": {\"plot\": {\"type\": \"Plot\", \"id\": \"59899abe-fc82-4e86-bbca-9be468ead2f6\", \"subtype\": \"Figure\"}, \"overlay\": {\"type\": \"BoxAnnotation\", \"id\": \"c8c0157d-12e8-462e-9e73-8d941daba2ec\"}}, \"id\": \"149eafca-7301-4c9e-a178-a2ba2dbc3729\"}, {\"type\": \"ResetTool\", \"attributes\": {\"plot\": {\"type\": \"Plot\", \"id\": \"c55136e3-b542-4820-a893-ac2bc3319c81\", \"subtype\": \"Figure\"}}, \"id\": \"e72ca6b0-e354-4a4c-90bb-5abcdc05bb27\"}, {\"type\": \"Line\", \"attributes\": {\"line_color\": {\"value\": \"#1f77b4\"}, \"x\": {\"field\": \"x\"}, \"y\": {\"field\": \"y\"}}, \"id\": \"add7cc6d-42ae-46d1-8cef-e5b880f444b8\"}, {\"type\": \"DataRange1d\", \"attributes\": {\"callback\": null}, \"id\": \"c2bd80c7-53a1-4f26-8e4e-f88c88bb29fc\"}, {\"type\": \"ToolEvents\", \"attributes\": {}, \"id\": \"9756d811-7481-46eb-b70e-6df3dddb6b08\"}, {\"type\": \"DataRange1d\", \"attributes\": {\"callback\": null}, \"id\": \"f2131dd8-3835-4883-bf02-24fe5b60b45e\"}, {\"type\": \"DataRange1d\", \"attributes\": {\"callback\": null}, \"id\": \"0542f082-ec16-4027-be96-66c2984b87b6\"}, {\"type\": \"GlyphRenderer\", \"attributes\": {\"nonselection_glyph\": {\"type\": \"Line\", \"id\": \"f5c301d0-7f55-493b-b27b-56a8a6ff0bab\"}, \"data_source\": {\"type\": \"ColumnDataSource\", \"id\": \"82aba571-f6ce-4f95-9e6d-feda630f89b8\"}, \"selection_glyph\": null, \"hover_glyph\": null, \"glyph\": {\"type\": \"Line\", \"id\": \"d0b9a26f-0a04-4144-9653-e22655baa60e\"}}, \"id\": \"9b80651d-0cef-4a73-b7b4-33409c747b4f\"}, {\"type\": \"BasicTicker\", \"attributes\": {}, \"id\": \"feef39bd-6dc0-409c-ba1c-0d13f2a5e7f7\"}, {\"type\": \"ResetTool\", \"attributes\": {\"plot\": {\"type\": \"Plot\", \"id\": \"1cb8a836-ad53-4b2b-bbd4-3db4e3b75bf2\", \"subtype\": \"Figure\"}}, \"id\": \"35906852-1443-4cdb-aa57-eae8bc02bbe1\"}, {\"type\": \"Line\", \"attributes\": {\"line_color\": {\"value\": \"#1f77b4\"}, \"x\": {\"field\": \"x\"}, \"y\": {\"field\": \"y\"}}, \"id\": \"9b13d037-e964-494d-b9e8-e95b38783bde\"}, {\"type\": \"Plot\", \"attributes\": {\"x_range\": {\"type\": \"DataRange1d\", \"id\": \"baf71888-ef7c-4f4f-8e44-b2dbf3316545\"}, \"left\": [{\"type\": \"LinearAxis\", \"id\": \"0a4cb264-3304-4b5c-8e61-c57ddaada748\"}], \"renderers\": [{\"type\": \"LinearAxis\", \"id\": \"fa4fcf62-1b8d-49e0-a4f5-fb46900d6651\"}, {\"type\": \"Grid\", \"id\": \"22fa42a1-9356-433a-a72a-73fa316e148d\"}, {\"type\": \"LinearAxis\", \"id\": \"0a4cb264-3304-4b5c-8e61-c57ddaada748\"}, {\"type\": \"Grid\", \"id\": \"2f3d41de-45f5-447d-9cab-5fd4aad7c35f\"}, {\"type\": \"BoxAnnotation\", \"id\": \"d3f6d36c-57a1-4885-b40f-20d672d7d929\"}, {\"type\": \"GlyphRenderer\", \"id\": \"11bf0a83-842a-4510-a6b3-676607264b73\"}], \"tool_events\": {\"type\": \"ToolEvents\", \"id\": \"a617e3f5-5337-4a56-8f3f-54f1f83a9cb5\"}, \"tools\": [{\"type\": \"PanTool\", \"id\": \"8f1533a9-2636-408c-8b01-2d0b40e4628a\"}, {\"type\": \"WheelZoomTool\", \"id\": \"754a83ca-1522-40a2-9f66-aa4bbc4509be\"}, {\"type\": \"BoxZoomTool\", \"id\": \"0c685000-6462-4dc8-9bce-e5b2777bf295\"}, {\"type\": \"PreviewSaveTool\", \"id\": \"ee343276-1907-4272-816a-b78e0dd0b363\"}, {\"type\": \"ResizeTool\", \"id\": \"7d1be0ce-8d1d-4d24-959a-15c4df53b1c8\"}, {\"type\": \"ResetTool\", \"id\": \"35906852-1443-4cdb-aa57-eae8bc02bbe1\"}, {\"type\": \"HelpTool\", \"id\": \"d5375267-311a-46e6-9111-d50e9260eff5\"}], \"y_range\": {\"type\": \"DataRange1d\", \"id\": \"5da766aa-69fe-4016-b3b9-6765dbb6959e\"}, \"below\": [{\"type\": \"LinearAxis\", \"id\": \"fa4fcf62-1b8d-49e0-a4f5-fb46900d6651\"}]}, \"subtype\": \"Figure\", \"id\": \"1cb8a836-ad53-4b2b-bbd4-3db4e3b75bf2\"}, {\"type\": \"BasicTicker\", \"attributes\": {}, \"id\": \"6f2708b1-b5d3-4de2-b645-7dae672c2f55\"}, {\"type\": \"WheelZoomTool\", \"attributes\": {\"plot\": {\"type\": \"Plot\", \"id\": \"c55136e3-b542-4820-a893-ac2bc3319c81\", \"subtype\": \"Figure\"}}, \"id\": \"c9ccee80-3bcf-4443-b071-842fe6273c54\"}, {\"type\": \"Line\", \"attributes\": {\"line_alpha\": {\"value\": 0.1}, \"line_color\": {\"value\": \"#1f77b4\"}, \"x\": {\"field\": \"x\"}, \"y\": {\"field\": \"y\"}}, \"id\": \"f5c301d0-7f55-493b-b27b-56a8a6ff0bab\"}, {\"type\": \"LinearAxis\", \"attributes\": {\"axis_label\": \"Day\", \"plot\": {\"type\": \"Plot\", \"id\": \"d02bdba0-7f6d-44ee-be67-fccdac233d4b\", \"subtype\": \"Figure\"}, \"formatter\": {\"type\": \"BasicTickFormatter\", \"id\": \"d21d2aee-01c7-4d0c-8b1b-fea53a0d7d83\"}, \"ticker\": {\"type\": \"BasicTicker\", \"id\": \"610659ff-c487-489e-ab08-f2f4af7f23a0\"}}, \"id\": \"46a92eed-5988-4d99-a2ac-75bff95a96e1\"}, {\"type\": \"Grid\", \"attributes\": {\"plot\": {\"type\": \"Plot\", \"id\": \"59899abe-fc82-4e86-bbca-9be468ead2f6\", \"subtype\": \"Figure\"}, \"dimension\": 1, \"ticker\": {\"type\": \"BasicTicker\", \"id\": \"e04697bb-8b80-430c-a26c-261e92afe8fe\"}}, \"id\": \"93e4db4f-65e6-4a25-b5be-0aaa77475f61\"}, {\"type\": \"DataRange1d\", \"attributes\": {\"callback\": null}, \"id\": \"5bd14e38-0bf7-4412-83b7-06f83135687d\"}, {\"type\": \"BoxAnnotation\", \"attributes\": {\"fill_alpha\": {\"value\": 0.5}, \"line_dash\": [4, 4], \"render_mode\": \"css\", \"bottom_units\": \"screen\", \"right_units\": \"screen\", \"line_alpha\": {\"value\": 1.0}, \"plot\": null, \"top_units\": \"screen\", \"fill_color\": {\"value\": \"lightgrey\"}, \"line_width\": {\"value\": 2}, \"left_units\": \"screen\", \"level\": \"overlay\", \"line_color\": {\"value\": \"black\"}}, \"id\": \"d3f6d36c-57a1-4885-b40f-20d672d7d929\"}, {\"type\": \"WheelZoomTool\", \"attributes\": {\"plot\": {\"type\": \"Plot\", \"id\": \"d02bdba0-7f6d-44ee-be67-fccdac233d4b\", \"subtype\": \"Figure\"}}, \"id\": \"5a332e9b-e61d-4244-b422-f026d6b28c03\"}, {\"type\": \"ResizeTool\", \"attributes\": {\"plot\": {\"type\": \"Plot\", \"id\": \"6dc380a6-b1ae-4eff-9330-34cd39dbf16e\", \"subtype\": \"Figure\"}}, \"id\": \"08bfd82b-58c8-4896-9b8d-01ae3bc83239\"}, {\"type\": \"DataRange1d\", \"attributes\": {\"callback\": null}, \"id\": \"507a1bf7-72e8-450f-b33b-0a5d59a2fc98\"}, {\"type\": \"PanTool\", \"attributes\": {\"plot\": {\"type\": \"Plot\", \"id\": \"41ae819b-f50a-411a-80c7-0d49cc226975\", \"subtype\": \"Figure\"}}, \"id\": \"d6d24be6-3b69-4855-8c5f-50f923af15b6\"}, {\"type\": \"PreviewSaveTool\", \"attributes\": {\"plot\": {\"type\": \"Plot\", \"id\": \"59899abe-fc82-4e86-bbca-9be468ead2f6\", \"subtype\": \"Figure\"}}, \"id\": \"62c540be-18a6-4269-8be6-4267ecbbdbb8\"}, {\"type\": \"WheelZoomTool\", \"attributes\": {\"plot\": {\"type\": \"Plot\", \"id\": \"6dc380a6-b1ae-4eff-9330-34cd39dbf16e\", \"subtype\": \"Figure\"}}, \"id\": \"44562f08-da51-4b94-b731-efb480b49cd6\"}, {\"type\": \"BoxZoomTool\", \"attributes\": {\"plot\": {\"type\": \"Plot\", \"id\": \"d02bdba0-7f6d-44ee-be67-fccdac233d4b\", \"subtype\": \"Figure\"}, \"overlay\": {\"type\": \"BoxAnnotation\", \"id\": \"97b61806-c300-4386-91ea-44f1cd79ac07\"}}, \"id\": \"7251f50e-4276-4233-aab5-87146a7032dd\"}, {\"type\": \"Line\", \"attributes\": {\"line_color\": {\"value\": \"#1f77b4\"}, \"x\": {\"field\": \"x\"}, \"y\": {\"field\": \"y\"}}, \"id\": \"e7fad632-f2c7-4009-b318-dc02d18a7ba2\"}, {\"type\": \"BasicTicker\", \"attributes\": {}, \"id\": \"136e5db2-9730-490c-a451-f4d46cf259a2\"}, {\"type\": \"ColumnDataSource\", \"attributes\": {\"data\": {\"y\": [0.0, 0.45, 1.1166666666666667, 1.75, 2.433333333333333, 3.15, 3.8, 3.8833333333333333, 5.233333333333333, 5.516666666666667, 5.95, 5.9, 8.35, 7.733333333333333, 8.366666666666667, 9.5, 9.583333333333334, 10.633333333333333, 11.566666666666666, 12.35, 13.25, 11.966666666666667, 11.033333333333333, 10.166666666666666, 10.0, 8.666666666666666, 9.15, 7.25, 7.333333333333333, 6.583333333333333, 6.066666666666666, 5.95, 5.116666666666666, 3.6, 3.3, 3.566666666666667, 2.4833333333333334, 1.5, 1.1333333333333333, 0.5666666666666667], \"x\": [0, 1, 2, 3, 4, 5, 6, 7, 8, 9, 10, 11, 12, 13, 14, 15, 16, 17, 18, 19, 20, 21, 22, 23, 24, 25, 26, 27, 28, 29, 30, 31, 32, 33, 34, 35, 36, 37, 38, 39]}, \"column_names\": [\"y\", \"x\"], \"callback\": null}, \"id\": \"db6d560f-ea3d-4091-abf3-a905ba8feab2\"}, {\"type\": \"BoxAnnotation\", \"attributes\": {\"fill_alpha\": {\"value\": 0.5}, \"line_dash\": [4, 4], \"render_mode\": \"css\", \"bottom_units\": \"screen\", \"right_units\": \"screen\", \"line_alpha\": {\"value\": 1.0}, \"plot\": null, \"top_units\": \"screen\", \"fill_color\": {\"value\": \"lightgrey\"}, \"line_width\": {\"value\": 2}, \"left_units\": \"screen\", \"level\": \"overlay\", \"line_color\": {\"value\": \"black\"}}, \"id\": \"033c3e3b-60f5-4cdd-97a5-ad5ce8760f80\"}, {\"type\": \"HelpTool\", \"attributes\": {\"plot\": {\"type\": \"Plot\", \"id\": \"d02bdba0-7f6d-44ee-be67-fccdac233d4b\", \"subtype\": \"Figure\"}}, \"id\": \"11d27d3d-2c0d-4b47-90f0-e179db4af9e1\"}, {\"type\": \"Legend\", \"attributes\": {\"plot\": {\"type\": \"Plot\", \"id\": \"0fe06206-5017-4813-b2ec-d0fd0ad80555\", \"subtype\": \"Figure\"}, \"legends\": [[\"Average\", [{\"type\": \"GlyphRenderer\", \"id\": \"7da80203-c492-43de-948f-e3334715659e\"}]], [\"Max\", [{\"type\": \"GlyphRenderer\", \"id\": \"9b80651d-0cef-4a73-b7b4-33409c747b4f\"}]], [\"Min\", [{\"type\": \"GlyphRenderer\", \"id\": \"2903e827-6d90-4cca-a85d-4d74eb6fd69c\"}]]]}, \"id\": \"b3b30aac-53d1-4076-a4bf-58ace1ca2d27\"}, {\"type\": \"Line\", \"attributes\": {\"line_color\": {\"value\": \"blue\"}, \"x\": {\"field\": \"x\"}, \"y\": {\"field\": \"y\"}}, \"id\": \"d0b9a26f-0a04-4144-9653-e22655baa60e\"}, {\"type\": \"Grid\", \"attributes\": {\"plot\": {\"type\": \"Plot\", \"id\": \"1cb8a836-ad53-4b2b-bbd4-3db4e3b75bf2\", \"subtype\": \"Figure\"}, \"ticker\": {\"type\": \"BasicTicker\", \"id\": \"72d9fa8f-44b1-46b0-a737-eeccbacfbe95\"}}, \"id\": \"22fa42a1-9356-433a-a72a-73fa316e148d\"}, {\"type\": \"DataRange1d\", \"attributes\": {\"callback\": null}, \"id\": \"00227695-5e52-4335-8036-6f4b35d5e4d9\"}, {\"type\": \"LinearAxis\", \"attributes\": {\"axis_label\": \"Day\", \"plot\": {\"type\": \"Plot\", \"id\": \"e3412a97-d19a-469e-935d-bfb931e497ab\", \"subtype\": \"Figure\"}, \"formatter\": {\"type\": \"BasicTickFormatter\", \"id\": \"39748f90-d0f6-448d-8e20-0333a0fc0ec5\"}, \"ticker\": {\"type\": \"BasicTicker\", \"id\": \"4d5e6592-80ff-4cfd-baea-f37aafcf5f0b\"}}, \"id\": \"90c95a76-fa7d-468a-b1a4-29f41e4b3021\"}, {\"type\": \"Plot\", \"attributes\": {\"x_range\": {\"type\": \"DataRange1d\", \"id\": \"00227695-5e52-4335-8036-6f4b35d5e4d9\"}, \"left\": [{\"type\": \"LinearAxis\", \"id\": \"5493b375-22cf-42a4-bfd9-33739f0cb970\"}], \"renderers\": [{\"type\": \"LinearAxis\", \"id\": \"879152e7-3009-4d38-9006-f935343b008a\"}, {\"type\": \"Grid\", \"id\": \"c09ea3db-c7c8-41fd-b355-3c1bf4d973b8\"}, {\"type\": \"LinearAxis\", \"id\": \"5493b375-22cf-42a4-bfd9-33739f0cb970\"}, {\"type\": \"Grid\", \"id\": \"93e4db4f-65e6-4a25-b5be-0aaa77475f61\"}, {\"type\": \"BoxAnnotation\", \"id\": \"c8c0157d-12e8-462e-9e73-8d941daba2ec\"}, {\"type\": \"GlyphRenderer\", \"id\": \"003dfb82-5084-4961-8908-ab7a20841b9e\"}], \"tool_events\": {\"type\": \"ToolEvents\", \"id\": \"9756d811-7481-46eb-b70e-6df3dddb6b08\"}, \"tools\": [{\"type\": \"PanTool\", \"id\": \"eedc984b-3087-435c-aabd-9caba0352783\"}, {\"type\": \"WheelZoomTool\", \"id\": \"668aeb42-52fb-455e-ad24-1e5c036cb354\"}, {\"type\": \"BoxZoomTool\", \"id\": \"149eafca-7301-4c9e-a178-a2ba2dbc3729\"}, {\"type\": \"PreviewSaveTool\", \"id\": \"62c540be-18a6-4269-8be6-4267ecbbdbb8\"}, {\"type\": \"ResizeTool\", \"id\": \"190fb071-956a-429e-86db-a8e130c83fa5\"}, {\"type\": \"ResetTool\", \"id\": \"6e718466-8c44-475c-a417-02e1af4fa09b\"}, {\"type\": \"HelpTool\", \"id\": \"b4dc18ba-54a9-48fa-b451-97c7aa393c25\"}], \"y_range\": {\"type\": \"DataRange1d\", \"id\": \"8fab73ea-93e7-4837-8ace-a9b1ac3eb84d\"}, \"below\": [{\"type\": \"LinearAxis\", \"id\": \"879152e7-3009-4d38-9006-f935343b008a\"}]}, \"subtype\": \"Figure\", \"id\": \"59899abe-fc82-4e86-bbca-9be468ead2f6\"}, {\"type\": \"BoxZoomTool\", \"attributes\": {\"plot\": {\"type\": \"Plot\", \"id\": \"1cb8a836-ad53-4b2b-bbd4-3db4e3b75bf2\", \"subtype\": \"Figure\"}, \"overlay\": {\"type\": \"BoxAnnotation\", \"id\": \"d3f6d36c-57a1-4885-b40f-20d672d7d929\"}}, \"id\": \"0c685000-6462-4dc8-9bce-e5b2777bf295\"}, {\"type\": \"ResetTool\", \"attributes\": {\"plot\": {\"type\": \"Plot\", \"id\": \"6dc380a6-b1ae-4eff-9330-34cd39dbf16e\", \"subtype\": \"Figure\"}}, \"id\": \"299bea49-2051-4a1d-93d4-bdd20bcac595\"}, {\"type\": \"PanTool\", \"attributes\": {\"plot\": {\"type\": \"Plot\", \"id\": \"1cb8a836-ad53-4b2b-bbd4-3db4e3b75bf2\", \"subtype\": \"Figure\"}}, \"id\": \"8f1533a9-2636-408c-8b01-2d0b40e4628a\"}, {\"type\": \"ColumnDataSource\", \"attributes\": {\"data\": {\"y\": [0.0, 1.0, 2.0, 3.0, 4.0, 5.0, 6.0, 7.0, 8.0, 9.0, 10.0, 11.0, 12.0, 13.0, 14.0, 15.0, 16.0, 17.0, 18.0, 19.0, 20.0, 19.0, 18.0, 17.0, 16.0, 15.0, 14.0, 13.0, 12.0, 11.0, 10.0, 9.0, 8.0, 7.0, 6.0, 5.0, 4.0, 3.0, 2.0, 1.0], \"x\": [0, 1, 2, 3, 4, 5, 6, 7, 8, 9, 10, 11, 12, 13, 14, 15, 16, 17, 18, 19, 20, 21, 22, 23, 24, 25, 26, 27, 28, 29, 30, 31, 32, 33, 34, 35, 36, 37, 38, 39]}, \"column_names\": [\"y\", \"x\"], \"callback\": null}, \"id\": \"82aba571-f6ce-4f95-9e6d-feda630f89b8\"}, {\"type\": \"BasicTicker\", \"attributes\": {}, \"id\": \"ef4435a3-1836-47b5-88ca-aa1079b2f6b9\"}, {\"type\": \"PreviewSaveTool\", \"attributes\": {\"plot\": {\"type\": \"Plot\", \"id\": \"0fe06206-5017-4813-b2ec-d0fd0ad80555\", \"subtype\": \"Figure\"}}, \"id\": \"400af48b-3a4b-48d9-8759-c2254b24bdbc\"}, {\"type\": \"BasicTickFormatter\", \"attributes\": {}, \"id\": \"704213c9-af86-4fed-836e-a6b30c99929b\"}, {\"type\": \"ResetTool\", \"attributes\": {\"plot\": {\"type\": \"Plot\", \"id\": \"07de6f7c-d35e-42a8-a0ac-e92516b552c0\", \"subtype\": \"Figure\"}}, \"id\": \"31503fe7-66ee-4e61-b75b-74cf02e89dc5\"}, {\"type\": \"LinearAxis\", \"attributes\": {\"axis_label\": \"Inflammation\", \"plot\": {\"type\": \"Plot\", \"id\": \"e3412a97-d19a-469e-935d-bfb931e497ab\", \"subtype\": \"Figure\"}, \"formatter\": {\"type\": \"BasicTickFormatter\", \"id\": \"126f014c-f643-4ba9-9b99-f1ae1b7cb89e\"}, \"ticker\": {\"type\": \"BasicTicker\", \"id\": \"54dd9b74-19f5-4dc2-b209-09782205e666\"}}, \"id\": \"66dd04e9-62f2-4f64-a9e1-2243dfbd5340\"}, {\"type\": \"Line\", \"attributes\": {\"line_alpha\": {\"value\": 0.1}, \"line_color\": {\"value\": \"#1f77b4\"}, \"x\": {\"field\": \"x\"}, \"y\": {\"field\": \"y\"}}, \"id\": \"7ea52bd7-c5ec-469c-98a3-79567b3aed44\"}, {\"type\": \"BasicTicker\", \"attributes\": {}, \"id\": \"4d5e6592-80ff-4cfd-baea-f37aafcf5f0b\"}, {\"type\": \"WheelZoomTool\", \"attributes\": {\"plot\": {\"type\": \"Plot\", \"id\": \"0fe06206-5017-4813-b2ec-d0fd0ad80555\", \"subtype\": \"Figure\"}}, \"id\": \"1a153d9d-0349-4fc2-9129-2c6aa879f867\"}, {\"type\": \"ResetTool\", \"attributes\": {\"plot\": {\"type\": \"Plot\", \"id\": \"59899abe-fc82-4e86-bbca-9be468ead2f6\", \"subtype\": \"Figure\"}}, \"id\": \"6e718466-8c44-475c-a417-02e1af4fa09b\"}, {\"type\": \"Grid\", \"attributes\": {\"plot\": {\"type\": \"Plot\", \"id\": \"0fe06206-5017-4813-b2ec-d0fd0ad80555\", \"subtype\": \"Figure\"}, \"ticker\": {\"type\": \"BasicTicker\", \"id\": \"a644e747-b908-40c5-a04c-d7f9bb4842ad\"}}, \"id\": \"be4c6aa7-e862-4532-a746-23c68f824094\"}, {\"type\": \"Grid\", \"attributes\": {\"plot\": {\"type\": \"Plot\", \"id\": \"6dc380a6-b1ae-4eff-9330-34cd39dbf16e\", \"subtype\": \"Figure\"}, \"dimension\": 1, \"ticker\": {\"type\": \"BasicTicker\", \"id\": \"8528bf71-b88e-4169-b7b0-efeb18d34714\"}}, \"id\": \"21c2b41b-4e43-4cfb-aefe-4ea3b1606de5\"}, {\"type\": \"WheelZoomTool\", \"attributes\": {\"plot\": {\"type\": \"Plot\", \"id\": \"59899abe-fc82-4e86-bbca-9be468ead2f6\", \"subtype\": \"Figure\"}}, \"id\": \"668aeb42-52fb-455e-ad24-1e5c036cb354\"}, {\"type\": \"BoxZoomTool\", \"attributes\": {\"plot\": {\"type\": \"Plot\", \"id\": \"6dc380a6-b1ae-4eff-9330-34cd39dbf16e\", \"subtype\": \"Figure\"}, \"overlay\": {\"type\": \"BoxAnnotation\", \"id\": \"239738b3-b75b-4a73-a0e2-7f8200ec241d\"}}, \"id\": \"b4c483d1-35a5-4fcc-971e-cef677d7d3db\"}, {\"type\": \"WheelZoomTool\", \"attributes\": {\"plot\": {\"type\": \"Plot\", \"id\": \"e3412a97-d19a-469e-935d-bfb931e497ab\", \"subtype\": \"Figure\"}}, \"id\": \"fc20012f-1271-4a79-91f5-8f415618c132\"}, {\"type\": \"WheelZoomTool\", \"attributes\": {\"plot\": {\"type\": \"Plot\", \"id\": \"b7d3a0f4-448a-4a9d-841c-d8c60a5a960a\", \"subtype\": \"Figure\"}}, \"id\": \"a4cc0c50-4ed9-4227-8c90-afd9dbd34e45\"}, {\"type\": \"Grid\", \"attributes\": {\"plot\": {\"type\": \"Plot\", \"id\": \"1cb8a836-ad53-4b2b-bbd4-3db4e3b75bf2\", \"subtype\": \"Figure\"}, \"dimension\": 1, \"ticker\": {\"type\": \"BasicTicker\", \"id\": \"0a20864d-7b74-4ad1-813e-8674637a3a1d\"}}, \"id\": \"2f3d41de-45f5-447d-9cab-5fd4aad7c35f\"}, {\"type\": \"Plot\", \"attributes\": {\"x_range\": {\"type\": \"DataRange1d\", \"id\": \"ec094be6-55cf-4253-b4af-9e06e303cd28\"}, \"left\": [{\"type\": \"LinearAxis\", \"id\": \"481239aa-7517-4795-bff8-f95b3bb1b97f\"}], \"renderers\": [{\"type\": \"LinearAxis\", \"id\": \"46a92eed-5988-4d99-a2ac-75bff95a96e1\"}, {\"type\": \"Grid\", \"id\": \"1ed795f1-fc6d-4d8c-b7d4-68870816fba6\"}, {\"type\": \"LinearAxis\", \"id\": \"481239aa-7517-4795-bff8-f95b3bb1b97f\"}, {\"type\": \"Grid\", \"id\": \"4cc27668-e398-4b3f-a058-91c17653e855\"}, {\"type\": \"BoxAnnotation\", \"id\": \"97b61806-c300-4386-91ea-44f1cd79ac07\"}, {\"type\": \"GlyphRenderer\", \"id\": \"d042a634-1b7b-423d-8bb5-a18620f0f02c\"}], \"tool_events\": {\"type\": \"ToolEvents\", \"id\": \"617aa615-970f-49ff-beaf-e578b095a1ce\"}, \"tools\": [{\"type\": \"PanTool\", \"id\": \"5224d690-eada-452b-861c-d2c9e92b96d2\"}, {\"type\": \"WheelZoomTool\", \"id\": \"5a332e9b-e61d-4244-b422-f026d6b28c03\"}, {\"type\": \"BoxZoomTool\", \"id\": \"7251f50e-4276-4233-aab5-87146a7032dd\"}, {\"type\": \"PreviewSaveTool\", \"id\": \"d496ab65-1cd1-4f50-94e8-b5e70338b5aa\"}, {\"type\": \"ResizeTool\", \"id\": \"9a3b2291-e081-4a42-aeaa-15e6bcb4c4e6\"}, {\"type\": \"ResetTool\", \"id\": \"4f963fba-5e70-4bd9-9797-7fc93806cb53\"}, {\"type\": \"HelpTool\", \"id\": \"11d27d3d-2c0d-4b47-90f0-e179db4af9e1\"}], \"y_range\": {\"type\": \"DataRange1d\", \"id\": \"ed663852-62f6-42e9-8955-227767acd55a\"}, \"below\": [{\"type\": \"LinearAxis\", \"id\": \"46a92eed-5988-4d99-a2ac-75bff95a96e1\"}]}, \"subtype\": \"Figure\", \"id\": \"d02bdba0-7f6d-44ee-be67-fccdac233d4b\"}, {\"type\": \"ColumnDataSource\", \"attributes\": {\"data\": {\"y\": [0.0, 0.45, 1.1166666666666667, 1.75, 2.433333333333333, 3.15, 3.8, 3.8833333333333333, 5.233333333333333, 5.516666666666667, 5.95, 5.9, 8.35, 7.733333333333333, 8.366666666666667, 9.5, 9.583333333333334, 10.633333333333333, 11.566666666666666, 12.35, 13.25, 11.966666666666667, 11.033333333333333, 10.166666666666666, 10.0, 8.666666666666666, 9.15, 7.25, 7.333333333333333, 6.583333333333333, 6.066666666666666, 5.95, 5.116666666666666, 3.6, 3.3, 3.566666666666667, 2.4833333333333334, 1.5, 1.1333333333333333, 0.5666666666666667], \"x\": [0, 1, 2, 3, 4, 5, 6, 7, 8, 9, 10, 11, 12, 13, 14, 15, 16, 17, 18, 19, 20, 21, 22, 23, 24, 25, 26, 27, 28, 29, 30, 31, 32, 33, 34, 35, 36, 37, 38, 39]}, \"column_names\": [\"y\", \"x\", \"y\", \"x\", \"y\", \"x\"], \"callback\": null}, \"id\": \"5975212c-17ec-4063-9b0c-6c35561d3497\"}, {\"type\": \"HelpTool\", \"attributes\": {\"plot\": {\"type\": \"Plot\", \"id\": \"59899abe-fc82-4e86-bbca-9be468ead2f6\", \"subtype\": \"Figure\"}}, \"id\": \"b4dc18ba-54a9-48fa-b451-97c7aa393c25\"}, {\"type\": \"GlyphRenderer\", \"attributes\": {\"nonselection_glyph\": {\"type\": \"Line\", \"id\": \"fe34f610-860c-4db1-9ff4-12f0a7a68758\"}, \"data_source\": {\"type\": \"ColumnDataSource\", \"id\": \"5975212c-17ec-4063-9b0c-6c35561d3497\"}, \"selection_glyph\": null, \"hover_glyph\": null, \"glyph\": {\"type\": \"Line\", \"id\": \"3a754866-04c3-40f1-ad10-44852c41d04c\"}}, \"id\": \"003dfb82-5084-4961-8908-ab7a20841b9e\"}, {\"type\": \"BasicTickFormatter\", \"attributes\": {}, \"id\": \"23b5a85c-6606-4e76-9e68-aaebdb838bb1\"}, {\"type\": \"ResizeTool\", \"attributes\": {\"plot\": {\"type\": \"Plot\", \"id\": \"c55136e3-b542-4820-a893-ac2bc3319c81\", \"subtype\": \"Figure\"}}, \"id\": \"0db8d475-8105-41d5-9af9-38a9338cf539\"}, {\"type\": \"PreviewSaveTool\", \"attributes\": {\"plot\": {\"type\": \"Plot\", \"id\": \"b7d3a0f4-448a-4a9d-841c-d8c60a5a960a\", \"subtype\": \"Figure\"}}, \"id\": \"2415b377-8334-4376-8baf-6adc6097830b\"}, {\"type\": \"Line\", \"attributes\": {\"line_alpha\": {\"value\": 0.1}, \"line_color\": {\"value\": \"#1f77b4\"}, \"x\": {\"field\": \"x\"}, \"y\": {\"field\": \"y\"}}, \"id\": \"31bb83a7-f09f-47b6-8400-863f40fe153a\"}, {\"type\": \"BasicTicker\", \"attributes\": {}, \"id\": \"33319207-1dfa-4edf-9309-7675f1f8128a\"}, {\"type\": \"WheelZoomTool\", \"attributes\": {\"plot\": {\"type\": \"Plot\", \"id\": \"1cb8a836-ad53-4b2b-bbd4-3db4e3b75bf2\", \"subtype\": \"Figure\"}}, \"id\": \"754a83ca-1522-40a2-9f66-aa4bbc4509be\"}, {\"type\": \"BasicTicker\", \"attributes\": {}, \"id\": \"72d9fa8f-44b1-46b0-a737-eeccbacfbe95\"}, {\"type\": \"Line\", \"attributes\": {\"line_color\": {\"value\": \"red\"}, \"x\": {\"field\": \"x\"}, \"y\": {\"field\": \"y\"}}, \"id\": \"59c0cdca-b06f-41b6-8b88-1e7bd74f070b\"}, {\"type\": \"ColumnDataSource\", \"attributes\": {\"data\": {\"y\": [0.0, 1.0, 2.0, 3.0, 4.0, 5.0, 6.0, 7.0, 8.0, 9.0, 10.0, 11.0, 12.0, 13.0, 14.0, 15.0, 16.0, 17.0, 18.0, 19.0, 20.0, 19.0, 18.0, 17.0, 16.0, 15.0, 14.0, 13.0, 12.0, 11.0, 10.0, 9.0, 8.0, 7.0, 6.0, 5.0, 4.0, 3.0, 2.0, 1.0], \"x\": [0, 1, 2, 3, 4, 5, 6, 7, 8, 9, 10, 11, 12, 13, 14, 15, 16, 17, 18, 19, 20, 21, 22, 23, 24, 25, 26, 27, 28, 29, 30, 31, 32, 33, 34, 35, 36, 37, 38, 39]}, \"column_names\": [\"y\", \"x\", \"y\", \"x\"], \"callback\": null}, \"id\": \"746d1b8a-5b63-4ab9-8c54-8018430671d5\"}, {\"type\": \"BasicTickFormatter\", \"attributes\": {}, \"id\": \"13bf5401-1008-411f-a9e7-879b7a7a142a\"}, {\"type\": \"BoxAnnotation\", \"attributes\": {\"fill_alpha\": {\"value\": 0.5}, \"line_dash\": [4, 4], \"render_mode\": \"css\", \"bottom_units\": \"screen\", \"right_units\": \"screen\", \"line_alpha\": {\"value\": 1.0}, \"plot\": null, \"top_units\": \"screen\", \"fill_color\": {\"value\": \"lightgrey\"}, \"line_width\": {\"value\": 2}, \"left_units\": \"screen\", \"level\": \"overlay\", \"line_color\": {\"value\": \"black\"}}, \"id\": \"92fa3e25-63cb-40d4-9aa8-0d2856afd6ed\"}, {\"type\": \"Grid\", \"attributes\": {\"plot\": {\"type\": \"Plot\", \"id\": \"d02bdba0-7f6d-44ee-be67-fccdac233d4b\", \"subtype\": \"Figure\"}, \"ticker\": {\"type\": \"BasicTicker\", \"id\": \"610659ff-c487-489e-ab08-f2f4af7f23a0\"}}, \"id\": \"1ed795f1-fc6d-4d8c-b7d4-68870816fba6\"}, {\"type\": \"BasicTicker\", \"attributes\": {}, \"id\": \"cb1a877f-e802-476c-b56e-0a512cc1522c\"}, {\"type\": \"BasicTickFormatter\", \"attributes\": {}, \"id\": \"42b2b335-9489-48a9-8ee1-ae6501c03082\"}, {\"type\": \"BoxZoomTool\", \"attributes\": {\"plot\": {\"type\": \"Plot\", \"id\": \"b7d3a0f4-448a-4a9d-841c-d8c60a5a960a\", \"subtype\": \"Figure\"}, \"overlay\": {\"type\": \"BoxAnnotation\", \"id\": \"e402fd81-1025-469c-8b1b-16b52fb85664\"}}, \"id\": \"7003890d-43e3-4d64-8d7c-860507149bc5\"}, {\"type\": \"Plot\", \"attributes\": {\"x_range\": {\"type\": \"DataRange1d\", \"id\": \"6a95a46b-33f6-4194-8ff2-c0732f20e3d4\"}, \"left\": [{\"type\": \"LinearAxis\", \"id\": \"2e2251b4-ca9b-4ece-930f-6c886b6d6116\"}], \"renderers\": [{\"type\": \"LinearAxis\", \"id\": \"5f0b4d4d-7fdc-4ed9-a38a-e9a4207f62e7\"}, {\"type\": \"Grid\", \"id\": \"4a3388a0-b06d-49c9-962b-c31f049c76e5\"}, {\"type\": \"LinearAxis\", \"id\": \"2e2251b4-ca9b-4ece-930f-6c886b6d6116\"}, {\"type\": \"Grid\", \"id\": \"eab7351b-e456-401d-a5b6-6b6676a1ff67\"}, {\"type\": \"BoxAnnotation\", \"id\": \"0391b4de-9ace-4153-b1c1-318f295c6532\"}, {\"type\": \"GlyphRenderer\", \"id\": \"dc87139c-9bd1-469f-a786-3b53ae2c68e3\"}], \"tool_events\": {\"type\": \"ToolEvents\", \"id\": \"f3ebd114-d47c-42e9-9a08-1162e07308c3\"}, \"tools\": [{\"type\": \"PanTool\", \"id\": \"d6d24be6-3b69-4855-8c5f-50f923af15b6\"}, {\"type\": \"WheelZoomTool\", \"id\": \"8755b83b-5e0f-4015-8336-3ff32003b67c\"}, {\"type\": \"BoxZoomTool\", \"id\": \"14223c76-a696-49bc-adc1-300750efc9f8\"}, {\"type\": \"PreviewSaveTool\", \"id\": \"982291a7-0258-4173-998f-61275d57166e\"}, {\"type\": \"ResizeTool\", \"id\": \"56a8ff1c-fc95-4e3d-a409-7608b89fc9e6\"}, {\"type\": \"ResetTool\", \"id\": \"6e7d668c-bdd1-48ad-ad87-79d2608efa5d\"}, {\"type\": \"HelpTool\", \"id\": \"60a5a695-bf30-4759-a3fd-0af5418c5b1b\"}], \"y_range\": {\"type\": \"DataRange1d\", \"id\": \"402522dd-a120-4e52-b07c-c3ff94775c4d\"}, \"below\": [{\"type\": \"LinearAxis\", \"id\": \"5f0b4d4d-7fdc-4ed9-a38a-e9a4207f62e7\"}]}, \"subtype\": \"Figure\", \"id\": \"41ae819b-f50a-411a-80c7-0d49cc226975\"}, {\"type\": \"ResizeTool\", \"attributes\": {\"plot\": {\"type\": \"Plot\", \"id\": \"59899abe-fc82-4e86-bbca-9be468ead2f6\", \"subtype\": \"Figure\"}}, \"id\": \"190fb071-956a-429e-86db-a8e130c83fa5\"}, {\"type\": \"DataRange1d\", \"attributes\": {\"callback\": null}, \"id\": \"baf71888-ef7c-4f4f-8e44-b2dbf3316545\"}, {\"type\": \"ResetTool\", \"attributes\": {\"plot\": {\"type\": \"Plot\", \"id\": \"e3412a97-d19a-469e-935d-bfb931e497ab\", \"subtype\": \"Figure\"}}, \"id\": \"2b9fe642-1191-4685-a748-b289a6444029\"}, {\"type\": \"Grid\", \"attributes\": {\"plot\": {\"type\": \"Plot\", \"id\": \"e3412a97-d19a-469e-935d-bfb931e497ab\", \"subtype\": \"Figure\"}, \"ticker\": {\"type\": \"BasicTicker\", \"id\": \"4d5e6592-80ff-4cfd-baea-f37aafcf5f0b\"}}, \"id\": \"7732c769-0241-4695-9179-87df2bd93f7d\"}, {\"type\": \"DataRange1d\", \"attributes\": {\"callback\": null}, \"id\": \"5da766aa-69fe-4016-b3b9-6765dbb6959e\"}, {\"type\": \"GlyphRenderer\", \"attributes\": {\"nonselection_glyph\": {\"type\": \"Line\", \"id\": \"69c660aa-da00-415b-af4a-0bacd653e7f5\"}, \"data_source\": {\"type\": \"ColumnDataSource\", \"id\": \"e0c53c3f-b0a0-4087-9611-c2f1375661d7\"}, \"selection_glyph\": null, \"hover_glyph\": null, \"glyph\": {\"type\": \"Line\", \"id\": \"9b13d037-e964-494d-b9e8-e95b38783bde\"}}, \"id\": \"5244edc4-5c3e-4ead-852a-e36a557d16b2\"}, {\"type\": \"ResizeTool\", \"attributes\": {\"plot\": {\"type\": \"Plot\", \"id\": \"b7d3a0f4-448a-4a9d-841c-d8c60a5a960a\", \"subtype\": \"Figure\"}}, \"id\": \"142a9cac-6977-4cc6-af36-3b79c019c00a\"}, {\"type\": \"HelpTool\", \"attributes\": {\"plot\": {\"type\": \"Plot\", \"id\": \"41ae819b-f50a-411a-80c7-0d49cc226975\", \"subtype\": \"Figure\"}}, \"id\": \"60a5a695-bf30-4759-a3fd-0af5418c5b1b\"}, {\"type\": \"Line\", \"attributes\": {\"line_color\": {\"value\": \"#1f77b4\"}, \"x\": {\"field\": \"x\"}, \"y\": {\"field\": \"y\"}}, \"id\": \"1839ff63-0a43-4139-8c97-62fa108e998b\"}, {\"type\": \"Plot\", \"attributes\": {\"x_range\": {\"type\": \"DataRange1d\", \"id\": \"507a1bf7-72e8-450f-b33b-0a5d59a2fc98\"}, \"left\": [{\"type\": \"LinearAxis\", \"id\": \"66dd04e9-62f2-4f64-a9e1-2243dfbd5340\"}], \"renderers\": [{\"type\": \"LinearAxis\", \"id\": \"90c95a76-fa7d-468a-b1a4-29f41e4b3021\"}, {\"type\": \"Grid\", \"id\": \"7732c769-0241-4695-9179-87df2bd93f7d\"}, {\"type\": \"LinearAxis\", \"id\": \"66dd04e9-62f2-4f64-a9e1-2243dfbd5340\"}, {\"type\": \"Grid\", \"id\": \"ee4c27de-73fe-4309-99b3-2991c05b7afd\"}, {\"type\": \"BoxAnnotation\", \"id\": \"ae1341c6-ea53-4cad-9f62-fe96cf48b013\"}, {\"type\": \"GlyphRenderer\", \"id\": \"bd8d7832-dd1e-4650-a2dd-58567c37e6bf\"}], \"tool_events\": {\"type\": \"ToolEvents\", \"id\": \"f8662d81-2d9a-40b9-9d6f-d7adfaaa4ead\"}, \"tools\": [{\"type\": \"PanTool\", \"id\": \"5da225dc-de54-42e2-a37c-b991d475e8b3\"}, {\"type\": \"WheelZoomTool\", \"id\": \"fc20012f-1271-4a79-91f5-8f415618c132\"}, {\"type\": \"BoxZoomTool\", \"id\": \"0f48e16e-a8e2-4cde-8571-c0a35525c140\"}, {\"type\": \"PreviewSaveTool\", \"id\": \"bdde12cd-c3e5-414d-ac1a-02ba73729b79\"}, {\"type\": \"ResizeTool\", \"id\": \"4a9d8eb7-eebf-48ae-b925-c86291566390\"}, {\"type\": \"ResetTool\", \"id\": \"2b9fe642-1191-4685-a748-b289a6444029\"}, {\"type\": \"HelpTool\", \"id\": \"3299d16d-fe89-48f0-87fe-002ef4178c15\"}], \"y_range\": {\"type\": \"DataRange1d\", \"id\": \"ddbdb055-eaf7-4ea3-92cd-b4de5f21df69\"}, \"below\": [{\"type\": \"LinearAxis\", \"id\": \"90c95a76-fa7d-468a-b1a4-29f41e4b3021\"}]}, \"subtype\": \"Figure\", \"id\": \"e3412a97-d19a-469e-935d-bfb931e497ab\"}, {\"type\": \"BasicTicker\", \"attributes\": {}, \"id\": \"8528bf71-b88e-4169-b7b0-efeb18d34714\"}, {\"type\": \"DataRange1d\", \"attributes\": {\"callback\": null}, \"id\": \"8d64fd39-fdaf-4b38-a0b8-e0c11cee4a77\"}, {\"type\": \"LinearAxis\", \"attributes\": {\"axis_label\": \"Inflammation\", \"plot\": {\"type\": \"Plot\", \"id\": \"59899abe-fc82-4e86-bbca-9be468ead2f6\", \"subtype\": \"Figure\"}, \"formatter\": {\"type\": \"BasicTickFormatter\", \"id\": \"55705142-4e32-4230-bc8c-94a692c8284a\"}, \"ticker\": {\"type\": \"BasicTicker\", \"id\": \"e04697bb-8b80-430c-a26c-261e92afe8fe\"}}, \"id\": \"5493b375-22cf-42a4-bfd9-33739f0cb970\"}, {\"type\": \"BasicTickFormatter\", \"attributes\": {}, \"id\": \"3be47f58-f24d-4017-8677-529d28fb22ea\"}, {\"type\": \"LinearAxis\", \"attributes\": {\"axis_label\": \"Day\", \"plot\": {\"type\": \"Plot\", \"id\": \"59899abe-fc82-4e86-bbca-9be468ead2f6\", \"subtype\": \"Figure\"}, \"formatter\": {\"type\": \"BasicTickFormatter\", \"id\": \"501f3bac-522a-416a-b483-4a878c3cf5d3\"}, \"ticker\": {\"type\": \"BasicTicker\", \"id\": \"bf0a12ed-924e-4537-ae30-d49b3a096ee9\"}}, \"id\": \"879152e7-3009-4d38-9006-f935343b008a\"}, {\"type\": \"ToolEvents\", \"attributes\": {}, \"id\": \"101cc0a3-b47d-4751-bc62-75ba7b6a68a4\"}, {\"type\": \"HelpTool\", \"attributes\": {\"plot\": {\"type\": \"Plot\", \"id\": \"c55136e3-b542-4820-a893-ac2bc3319c81\", \"subtype\": \"Figure\"}}, \"id\": \"ef4efa39-7485-4966-ba86-7f97d709c671\"}, {\"type\": \"PanTool\", \"attributes\": {\"plot\": {\"type\": \"Plot\", \"id\": \"07de6f7c-d35e-42a8-a0ac-e92516b552c0\", \"subtype\": \"Figure\"}}, \"id\": \"9242ca15-395e-45ae-9cfb-bf5021df06b2\"}, {\"type\": \"ToolEvents\", \"attributes\": {}, \"id\": \"764b54b2-a0ed-4ea0-8025-d5903ebe9ea1\"}, {\"type\": \"GlyphRenderer\", \"attributes\": {\"nonselection_glyph\": {\"type\": \"Line\", \"id\": \"5febf644-2a77-4800-abb6-175a45946329\"}, \"data_source\": {\"type\": \"ColumnDataSource\", \"id\": \"53e9c0e6-95c1-4d41-aaca-b46bad388f79\"}, \"selection_glyph\": null, \"hover_glyph\": null, \"glyph\": {\"type\": \"Line\", \"id\": \"f2efbe45-7f6d-4f74-b8f0-913b4c21782d\"}}, \"id\": \"d042a634-1b7b-423d-8bb5-a18620f0f02c\"}, {\"type\": \"DataRange1d\", \"attributes\": {\"callback\": null}, \"id\": \"2e50ecdb-5ebc-475c-bfbd-7f0c05c0c275\"}, {\"type\": \"BoxAnnotation\", \"attributes\": {\"fill_alpha\": {\"value\": 0.5}, \"line_dash\": [4, 4], \"render_mode\": \"css\", \"bottom_units\": \"screen\", \"right_units\": \"screen\", \"line_alpha\": {\"value\": 1.0}, \"plot\": null, \"top_units\": \"screen\", \"fill_color\": {\"value\": \"lightgrey\"}, \"line_width\": {\"value\": 2}, \"left_units\": \"screen\", \"level\": \"overlay\", \"line_color\": {\"value\": \"black\"}}, \"id\": \"ae1341c6-ea53-4cad-9f62-fe96cf48b013\"}, {\"type\": \"ResizeTool\", \"attributes\": {\"plot\": {\"type\": \"Plot\", \"id\": \"d02bdba0-7f6d-44ee-be67-fccdac233d4b\", \"subtype\": \"Figure\"}}, \"id\": \"9a3b2291-e081-4a42-aeaa-15e6bcb4c4e6\"}, {\"type\": \"Line\", \"attributes\": {\"line_color\": {\"value\": \"#1f77b4\"}, \"x\": {\"field\": \"x\"}, \"y\": {\"field\": \"y\"}}, \"id\": \"edc212e2-9c30-4cbb-8fa5-af5a1d429634\"}, {\"type\": \"BoxZoomTool\", \"attributes\": {\"plot\": {\"type\": \"Plot\", \"id\": \"41ae819b-f50a-411a-80c7-0d49cc226975\", \"subtype\": \"Figure\"}, \"overlay\": {\"type\": \"BoxAnnotation\", \"id\": \"0391b4de-9ace-4153-b1c1-318f295c6532\"}}, \"id\": \"14223c76-a696-49bc-adc1-300750efc9f8\"}, {\"type\": \"Grid\", \"attributes\": {\"plot\": {\"type\": \"Plot\", \"id\": \"b7d3a0f4-448a-4a9d-841c-d8c60a5a960a\", \"subtype\": \"Figure\"}, \"ticker\": {\"type\": \"BasicTicker\", \"id\": \"ec5e8025-3d79-457d-a681-1dbe524140e2\"}}, \"id\": \"cc8aabba-b0ba-4351-a807-6ce3bc68d6e3\"}, {\"type\": \"BasicTickFormatter\", \"attributes\": {}, \"id\": \"126f014c-f643-4ba9-9b99-f1ae1b7cb89e\"}, {\"type\": \"Grid\", \"attributes\": {\"plot\": {\"type\": \"Plot\", \"id\": \"d02bdba0-7f6d-44ee-be67-fccdac233d4b\", \"subtype\": \"Figure\"}, \"dimension\": 1, \"ticker\": {\"type\": \"BasicTicker\", \"id\": \"f385b5f6-425a-418e-b030-51188fa01745\"}}, \"id\": \"4cc27668-e398-4b3f-a058-91c17653e855\"}, {\"type\": \"BasicTicker\", \"attributes\": {}, \"id\": \"54dd9b74-19f5-4dc2-b209-09782205e666\"}, {\"type\": \"LinearAxis\", \"attributes\": {\"formatter\": {\"type\": \"BasicTickFormatter\", \"id\": \"44518742-21f2-4fb7-9cf8-3a5ca69ee9de\"}, \"plot\": {\"type\": \"Plot\", \"id\": \"6dc380a6-b1ae-4eff-9330-34cd39dbf16e\", \"subtype\": \"Figure\"}, \"ticker\": {\"type\": \"BasicTicker\", \"id\": \"8528bf71-b88e-4169-b7b0-efeb18d34714\"}}, \"id\": \"fa6cb4af-b6ab-4783-92a1-5540e728301e\"}, {\"type\": \"ToolEvents\", \"attributes\": {}, \"id\": \"0cbe1e29-5e15-45c7-96db-f8d7e06e28fb\"}, {\"type\": \"Line\", \"attributes\": {\"line_alpha\": {\"value\": 0.1}, \"line_color\": {\"value\": \"#1f77b4\"}, \"x\": {\"field\": \"x\"}, \"y\": {\"field\": \"y\"}}, \"id\": \"114750be-1111-468c-a233-48188af54b0c\"}, {\"type\": \"BasicTicker\", \"attributes\": {}, \"id\": \"f385b5f6-425a-418e-b030-51188fa01745\"}, {\"type\": \"GlyphRenderer\", \"attributes\": {\"nonselection_glyph\": {\"type\": \"Line\", \"id\": \"ccc01585-05ec-4f93-a262-411eab2ba39b\"}, \"data_source\": {\"type\": \"ColumnDataSource\", \"id\": \"db6d560f-ea3d-4091-abf3-a905ba8feab2\"}, \"selection_glyph\": null, \"hover_glyph\": null, \"glyph\": {\"type\": \"Line\", \"id\": \"35d94fec-1bfd-40bf-a197-6426f65c0a21\"}}, \"id\": \"7da80203-c492-43de-948f-e3334715659e\"}, {\"type\": \"HelpTool\", \"attributes\": {\"plot\": {\"type\": \"Plot\", \"id\": \"e3412a97-d19a-469e-935d-bfb931e497ab\", \"subtype\": \"Figure\"}}, \"id\": \"3299d16d-fe89-48f0-87fe-002ef4178c15\"}, {\"type\": \"BoxAnnotation\", \"attributes\": {\"fill_alpha\": {\"value\": 0.5}, \"line_dash\": [4, 4], \"render_mode\": \"css\", \"bottom_units\": \"screen\", \"right_units\": \"screen\", \"line_alpha\": {\"value\": 1.0}, \"plot\": null, \"top_units\": \"screen\", \"fill_color\": {\"value\": \"lightgrey\"}, \"line_width\": {\"value\": 2}, \"left_units\": \"screen\", \"level\": \"overlay\", \"line_color\": {\"value\": \"black\"}}, \"id\": \"97b61806-c300-4386-91ea-44f1cd79ac07\"}, {\"type\": \"Line\", \"attributes\": {\"line_alpha\": {\"value\": 0.1}, \"line_color\": {\"value\": \"#1f77b4\"}, \"x\": {\"field\": \"x\"}, \"y\": {\"field\": \"y\"}}, \"id\": \"d7368cc4-bab5-4b7b-91a8-233ed797eab1\"}, {\"type\": \"Line\", \"attributes\": {\"line_color\": {\"value\": \"green\"}, \"x\": {\"field\": \"x\"}, \"y\": {\"field\": \"y\"}}, \"id\": \"35d94fec-1bfd-40bf-a197-6426f65c0a21\"}, {\"type\": \"DataRange1d\", \"attributes\": {\"callback\": null}, \"id\": \"ddbdb055-eaf7-4ea3-92cd-b4de5f21df69\"}, {\"type\": \"DataRange1d\", \"attributes\": {\"callback\": null}, \"id\": \"402522dd-a120-4e52-b07c-c3ff94775c4d\"}, {\"type\": \"Plot\", \"attributes\": {\"x_range\": {\"type\": \"DataRange1d\", \"id\": \"a88cfc13-fd98-4366-81e9-10c1c4e00800\"}, \"left\": [{\"type\": \"LinearAxis\", \"id\": \"f33e0d6b-2ef7-4bdf-9f93-ad091738b181\"}], \"renderers\": [{\"type\": \"LinearAxis\", \"id\": \"2c8f1d5a-e284-4f38-8317-7e0dd917c2a6\"}, {\"type\": \"Grid\", \"id\": \"cc8aabba-b0ba-4351-a807-6ce3bc68d6e3\"}, {\"type\": \"LinearAxis\", \"id\": \"f33e0d6b-2ef7-4bdf-9f93-ad091738b181\"}, {\"type\": \"Grid\", \"id\": \"2ecc2cdb-98d7-4f3a-8c4c-9ea071f4459e\"}, {\"type\": \"BoxAnnotation\", \"id\": \"e402fd81-1025-469c-8b1b-16b52fb85664\"}, {\"type\": \"GlyphRenderer\", \"id\": \"5244edc4-5c3e-4ead-852a-e36a557d16b2\"}], \"tool_events\": {\"type\": \"ToolEvents\", \"id\": \"101cc0a3-b47d-4751-bc62-75ba7b6a68a4\"}, \"tools\": [{\"type\": \"PanTool\", \"id\": \"03442bda-91bf-42bf-9040-3d47aa0a5a89\"}, {\"type\": \"WheelZoomTool\", \"id\": \"a4cc0c50-4ed9-4227-8c90-afd9dbd34e45\"}, {\"type\": \"BoxZoomTool\", \"id\": \"7003890d-43e3-4d64-8d7c-860507149bc5\"}, {\"type\": \"PreviewSaveTool\", \"id\": \"2415b377-8334-4376-8baf-6adc6097830b\"}, {\"type\": \"ResizeTool\", \"id\": \"142a9cac-6977-4cc6-af36-3b79c019c00a\"}, {\"type\": \"ResetTool\", \"id\": \"3a2e0fc0-800d-4789-94c4-277c5516232f\"}, {\"type\": \"HelpTool\", \"id\": \"05cda629-ca43-4da5-b316-83a04cf0f763\"}], \"y_range\": {\"type\": \"DataRange1d\", \"id\": \"e7c53098-72f0-48b0-8c54-d6b8205b915f\"}, \"below\": [{\"type\": \"LinearAxis\", \"id\": \"2c8f1d5a-e284-4f38-8317-7e0dd917c2a6\"}]}, \"subtype\": \"Figure\", \"id\": \"b7d3a0f4-448a-4a9d-841c-d8c60a5a960a\"}, {\"type\": \"BasicTicker\", \"attributes\": {}, \"id\": \"951e14bb-e516-4693-8742-5948ae3dcb48\"}, {\"type\": \"LinearAxis\", \"attributes\": {\"axis_label\": \"Inflammation\", \"plot\": {\"type\": \"Plot\", \"id\": \"b7d3a0f4-448a-4a9d-841c-d8c60a5a960a\", \"subtype\": \"Figure\"}, \"formatter\": {\"type\": \"BasicTickFormatter\", \"id\": \"42b2b335-9489-48a9-8ee1-ae6501c03082\"}, \"ticker\": {\"type\": \"BasicTicker\", \"id\": \"cb1a877f-e802-476c-b56e-0a512cc1522c\"}}, \"id\": \"f33e0d6b-2ef7-4bdf-9f93-ad091738b181\"}, {\"type\": \"BoxZoomTool\", \"attributes\": {\"plot\": {\"type\": \"Plot\", \"id\": \"c55136e3-b542-4820-a893-ac2bc3319c81\", \"subtype\": \"Figure\"}, \"overlay\": {\"type\": \"BoxAnnotation\", \"id\": \"033c3e3b-60f5-4cdd-97a5-ad5ce8760f80\"}}, \"id\": \"6024ef3a-cd47-4036-89f9-43de3ca64223\"}, {\"type\": \"Line\", \"attributes\": {\"line_alpha\": {\"value\": 0.1}, \"line_color\": {\"value\": \"#1f77b4\"}, \"x\": {\"field\": \"x\"}, \"y\": {\"field\": \"y\"}}, \"id\": \"ccc01585-05ec-4f93-a262-411eab2ba39b\"}, {\"type\": \"PanTool\", \"attributes\": {\"plot\": {\"type\": \"Plot\", \"id\": \"b7d3a0f4-448a-4a9d-841c-d8c60a5a960a\", \"subtype\": \"Figure\"}}, \"id\": \"03442bda-91bf-42bf-9040-3d47aa0a5a89\"}, {\"type\": \"ColumnDataSource\", \"attributes\": {\"data\": {\"y\": [0.0, 0.0, 0.0, 0.0, 1.0, 1.0, 1.0, 1.0, 2.0, 2.0, 2.0, 2.0, 3.0, 3.0, 3.0, 3.0, 4.0, 5.0, 5.0, 5.0, 5.0, 4.0, 4.0, 4.0, 4.0, 3.0, 3.0, 3.0, 3.0, 2.0, 2.0, 2.0, 2.0, 1.0, 1.0, 1.0, 1.0, 0.0, 0.0, 0.0], \"x\": [0, 1, 2, 3, 4, 5, 6, 7, 8, 9, 10, 11, 12, 13, 14, 15, 16, 17, 18, 19, 20, 21, 22, 23, 24, 25, 26, 27, 28, 29, 30, 31, 32, 33, 34, 35, 36, 37, 38, 39]}, \"column_names\": [\"y\", \"x\"], \"callback\": null}, \"id\": \"aaa8098e-d051-4e4c-9f0a-229d98b31183\"}, {\"type\": \"ColumnDataSource\", \"attributes\": {\"data\": {\"y\": [0.0, 0.0, 0.0, 0.0, 1.0, 1.0, 1.0, 1.0, 2.0, 2.0, 2.0, 2.0, 3.0, 3.0, 3.0, 3.0, 4.0, 5.0, 5.0, 5.0, 5.0, 4.0, 4.0, 4.0, 4.0, 3.0, 3.0, 3.0, 3.0, 2.0, 2.0, 2.0, 2.0, 1.0, 1.0, 1.0, 1.0, 0.0, 0.0, 0.0], \"x\": [0, 1, 2, 3, 4, 5, 6, 7, 8, 9, 10, 11, 12, 13, 14, 15, 16, 17, 18, 19, 20, 21, 22, 23, 24, 25, 26, 27, 28, 29, 30, 31, 32, 33, 34, 35, 36, 37, 38, 39]}, \"column_names\": [\"y\", \"x\", \"y\", \"x\", \"y\", \"x\"], \"callback\": null}, \"id\": \"53e9c0e6-95c1-4d41-aaca-b46bad388f79\"}, {\"type\": \"BasicTicker\", \"attributes\": {}, \"id\": \"bf0a12ed-924e-4537-ae30-d49b3a096ee9\"}, {\"type\": \"ResetTool\", \"attributes\": {\"plot\": {\"type\": \"Plot\", \"id\": \"d02bdba0-7f6d-44ee-be67-fccdac233d4b\", \"subtype\": \"Figure\"}}, \"id\": \"4f963fba-5e70-4bd9-9797-7fc93806cb53\"}, {\"type\": \"BasicTicker\", \"attributes\": {}, \"id\": \"ec5e8025-3d79-457d-a681-1dbe524140e2\"}, {\"type\": \"PanTool\", \"attributes\": {\"plot\": {\"type\": \"Plot\", \"id\": \"0fe06206-5017-4813-b2ec-d0fd0ad80555\", \"subtype\": \"Figure\"}}, \"id\": \"09ed4dac-4f48-4dff-a0f7-d1dc6b7b73d5\"}, {\"type\": \"HelpTool\", \"attributes\": {\"plot\": {\"type\": \"Plot\", \"id\": \"07de6f7c-d35e-42a8-a0ac-e92516b552c0\", \"subtype\": \"Figure\"}}, \"id\": \"9f409e3a-918e-477e-8461-bf50715e1531\"}, {\"type\": \"Plot\", \"attributes\": {\"x_range\": {\"type\": \"DataRange1d\", \"id\": \"8d64fd39-fdaf-4b38-a0b8-e0c11cee4a77\"}, \"left\": [{\"type\": \"LinearAxis\", \"id\": \"f87a0999-c923-476e-a144-d6f192c2a42f\"}], \"renderers\": [{\"type\": \"LinearAxis\", \"id\": \"fa0ef287-0337-43e0-9c69-b8c6fa25ab15\"}, {\"type\": \"Grid\", \"id\": \"5670151b-9110-4a90-9e10-23248f065f72\"}, {\"type\": \"LinearAxis\", \"id\": \"f87a0999-c923-476e-a144-d6f192c2a42f\"}, {\"type\": \"Grid\", \"id\": \"9d20c876-3712-418c-87dd-121e934b3410\"}, {\"type\": \"BoxAnnotation\", \"id\": \"83bfe11d-8b62-4514-9aa9-a1bf0609e1ef\"}, {\"type\": \"GlyphRenderer\", \"id\": \"da296579-3b62-4f5f-8945-7a3a1646a45b\"}], \"tool_events\": {\"type\": \"ToolEvents\", \"id\": \"7429cca7-9edb-4952-9f0c-16addae6d79f\"}, \"tools\": [{\"type\": \"PanTool\", \"id\": \"9242ca15-395e-45ae-9cfb-bf5021df06b2\"}, {\"type\": \"WheelZoomTool\", \"id\": \"37b22452-8a43-44e4-b533-971007964b75\"}, {\"type\": \"BoxZoomTool\", \"id\": \"21688bf6-9a71-439b-9563-1aeec65bce8e\"}, {\"type\": \"PreviewSaveTool\", \"id\": \"604a97b1-a944-4008-84c4-60a472d0bb98\"}, {\"type\": \"ResizeTool\", \"id\": \"dfeb22e0-9a09-44fb-85a0-bab638d9f098\"}, {\"type\": \"ResetTool\", \"id\": \"31503fe7-66ee-4e61-b75b-74cf02e89dc5\"}, {\"type\": \"HelpTool\", \"id\": \"9f409e3a-918e-477e-8461-bf50715e1531\"}], \"y_range\": {\"type\": \"DataRange1d\", \"id\": \"e3f3b131-6f64-4c9a-a87a-f109e89cc29b\"}, \"below\": [{\"type\": \"LinearAxis\", \"id\": \"fa0ef287-0337-43e0-9c69-b8c6fa25ab15\"}]}, \"subtype\": \"Figure\", \"id\": \"07de6f7c-d35e-42a8-a0ac-e92516b552c0\"}, {\"type\": \"WheelZoomTool\", \"attributes\": {\"plot\": {\"type\": \"Plot\", \"id\": \"07de6f7c-d35e-42a8-a0ac-e92516b552c0\", \"subtype\": \"Figure\"}}, \"id\": \"37b22452-8a43-44e4-b533-971007964b75\"}, {\"type\": \"BoxZoomTool\", \"attributes\": {\"plot\": {\"type\": \"Plot\", \"id\": \"e3412a97-d19a-469e-935d-bfb931e497ab\", \"subtype\": \"Figure\"}, \"overlay\": {\"type\": \"BoxAnnotation\", \"id\": \"ae1341c6-ea53-4cad-9f62-fe96cf48b013\"}}, \"id\": \"0f48e16e-a8e2-4cde-8571-c0a35525c140\"}, {\"type\": \"Line\", \"attributes\": {\"line_alpha\": {\"value\": 0.1}, \"line_color\": {\"value\": \"#1f77b4\"}, \"x\": {\"field\": \"x\"}, \"y\": {\"field\": \"y\"}}, \"id\": \"f7cf2a29-764d-42d6-9d55-6bafc124031a\"}, {\"type\": \"PreviewSaveTool\", \"attributes\": {\"plot\": {\"type\": \"Plot\", \"id\": \"6dc380a6-b1ae-4eff-9330-34cd39dbf16e\", \"subtype\": \"Figure\"}}, \"id\": \"1238c933-e670-45b5-b0bb-78bf3b54eea5\"}, {\"type\": \"BasicTickFormatter\", \"attributes\": {}, \"id\": \"55705142-4e32-4230-bc8c-94a692c8284a\"}, {\"type\": \"LinearAxis\", \"attributes\": {\"axis_label\": \"Day\", \"plot\": {\"type\": \"Plot\", \"id\": \"41ae819b-f50a-411a-80c7-0d49cc226975\", \"subtype\": \"Figure\"}, \"formatter\": {\"type\": \"BasicTickFormatter\", \"id\": \"704213c9-af86-4fed-836e-a6b30c99929b\"}, \"ticker\": {\"type\": \"BasicTicker\", \"id\": \"136e5db2-9730-490c-a451-f4d46cf259a2\"}}, \"id\": \"5f0b4d4d-7fdc-4ed9-a38a-e9a4207f62e7\"}, {\"type\": \"Grid\", \"attributes\": {\"plot\": {\"type\": \"Plot\", \"id\": \"6dc380a6-b1ae-4eff-9330-34cd39dbf16e\", \"subtype\": \"Figure\"}, \"ticker\": {\"type\": \"BasicTicker\", \"id\": \"6f2708b1-b5d3-4de2-b645-7dae672c2f55\"}}, \"id\": \"aac412d8-6531-4e5c-8410-fa632abd44e7\"}, {\"type\": \"Line\", \"attributes\": {\"line_alpha\": {\"value\": 0.1}, \"line_color\": {\"value\": \"#1f77b4\"}, \"x\": {\"field\": \"x\"}, \"y\": {\"field\": \"y\"}}, \"id\": \"5febf644-2a77-4800-abb6-175a45946329\"}, {\"type\": \"ResizeTool\", \"attributes\": {\"plot\": {\"type\": \"Plot\", \"id\": \"e3412a97-d19a-469e-935d-bfb931e497ab\", \"subtype\": \"Figure\"}}, \"id\": \"4a9d8eb7-eebf-48ae-b925-c86291566390\"}, {\"type\": \"DataRange1d\", \"attributes\": {\"callback\": null}, \"id\": \"8fab73ea-93e7-4837-8ace-a9b1ac3eb84d\"}, {\"type\": \"DataRange1d\", \"attributes\": {\"callback\": null}, \"id\": \"e7c53098-72f0-48b0-8c54-d6b8205b915f\"}, {\"type\": \"PanTool\", \"attributes\": {\"plot\": {\"type\": \"Plot\", \"id\": \"c55136e3-b542-4820-a893-ac2bc3319c81\", \"subtype\": \"Figure\"}}, \"id\": \"a1c4ba8c-fdbd-407f-ae56-1e0816922fc1\"}, {\"type\": \"BasicTicker\", \"attributes\": {}, \"id\": \"a5499ccc-4068-41be-a037-d8b7123c12b4\"}, {\"type\": \"BoxAnnotation\", \"attributes\": {\"fill_alpha\": {\"value\": 0.5}, \"line_dash\": [4, 4], \"render_mode\": \"css\", \"bottom_units\": \"screen\", \"right_units\": \"screen\", \"line_alpha\": {\"value\": 1.0}, \"plot\": null, \"top_units\": \"screen\", \"fill_color\": {\"value\": \"lightgrey\"}, \"line_width\": {\"value\": 2}, \"left_units\": \"screen\", \"level\": \"overlay\", \"line_color\": {\"value\": \"black\"}}, \"id\": \"c8c0157d-12e8-462e-9e73-8d941daba2ec\"}, {\"type\": \"Line\", \"attributes\": {\"line_color\": {\"value\": \"#1f77b4\"}, \"x\": {\"field\": \"x\"}, \"y\": {\"field\": \"y\"}}, \"id\": \"f2efbe45-7f6d-4f74-b8f0-913b4c21782d\"}, {\"type\": \"LinearAxis\", \"attributes\": {\"axis_label\": \"Day\", \"plot\": {\"type\": \"Plot\", \"id\": \"6dc380a6-b1ae-4eff-9330-34cd39dbf16e\", \"subtype\": \"Figure\"}, \"formatter\": {\"type\": \"BasicTickFormatter\", \"id\": \"23b5a85c-6606-4e76-9e68-aaebdb838bb1\"}, \"ticker\": {\"type\": \"BasicTicker\", \"id\": \"6f2708b1-b5d3-4de2-b645-7dae672c2f55\"}}, \"id\": \"c2ea5ac0-9f32-4628-970a-c785676f0006\"}, {\"type\": \"Plot\", \"attributes\": {\"x_range\": {\"type\": \"DataRange1d\", \"id\": \"487a67db-a1bc-43dc-b651-1993a24260f7\"}, \"left\": [{\"type\": \"LinearAxis\", \"id\": \"bf2cfddc-22d9-4134-b097-e3650ed8f9c9\"}], \"renderers\": [{\"type\": \"LinearAxis\", \"id\": \"783d34ce-8ab2-4322-b362-fff9f52e2946\"}, {\"type\": \"Grid\", \"id\": \"dda93254-426e-4229-a1f8-56c695d9daab\"}, {\"type\": \"LinearAxis\", \"id\": \"bf2cfddc-22d9-4134-b097-e3650ed8f9c9\"}, {\"type\": \"Grid\", \"id\": \"9a84768e-e128-4b19-9170-6bfebecc41a1\"}, {\"type\": \"BoxAnnotation\", \"id\": \"033c3e3b-60f5-4cdd-97a5-ad5ce8760f80\"}, {\"type\": \"GlyphRenderer\", \"id\": \"b3b55f06-66ce-47ff-9e57-45fc7de70f70\"}], \"tool_events\": {\"type\": \"ToolEvents\", \"id\": \"764b54b2-a0ed-4ea0-8025-d5903ebe9ea1\"}, \"tools\": [{\"type\": \"PanTool\", \"id\": \"a1c4ba8c-fdbd-407f-ae56-1e0816922fc1\"}, {\"type\": \"WheelZoomTool\", \"id\": \"c9ccee80-3bcf-4443-b071-842fe6273c54\"}, {\"type\": \"BoxZoomTool\", \"id\": \"6024ef3a-cd47-4036-89f9-43de3ca64223\"}, {\"type\": \"PreviewSaveTool\", \"id\": \"d410d99d-7ba7-4ac2-9fd2-368e789be7de\"}, {\"type\": \"ResizeTool\", \"id\": \"0db8d475-8105-41d5-9af9-38a9338cf539\"}, {\"type\": \"ResetTool\", \"id\": \"e72ca6b0-e354-4a4c-90bb-5abcdc05bb27\"}, {\"type\": \"HelpTool\", \"id\": \"ef4efa39-7485-4966-ba86-7f97d709c671\"}], \"y_range\": {\"type\": \"DataRange1d\", \"id\": \"0542f082-ec16-4027-be96-66c2984b87b6\"}, \"below\": [{\"type\": \"LinearAxis\", \"id\": \"783d34ce-8ab2-4322-b362-fff9f52e2946\"}]}, \"subtype\": \"Figure\", \"id\": \"c55136e3-b542-4820-a893-ac2bc3319c81\"}, {\"type\": \"Grid\", \"attributes\": {\"plot\": {\"type\": \"Plot\", \"id\": \"0fe06206-5017-4813-b2ec-d0fd0ad80555\", \"subtype\": \"Figure\"}, \"dimension\": 1, \"ticker\": {\"type\": \"BasicTicker\", \"id\": \"ef4435a3-1836-47b5-88ca-aa1079b2f6b9\"}}, \"id\": \"784e8103-1041-4c7c-ae0b-5b6de14f4918\"}, {\"type\": \"LinearAxis\", \"attributes\": {\"axis_label\": \"Day\", \"plot\": {\"type\": \"Plot\", \"id\": \"b7d3a0f4-448a-4a9d-841c-d8c60a5a960a\", \"subtype\": \"Figure\"}, \"formatter\": {\"type\": \"BasicTickFormatter\", \"id\": \"3b1a392a-5c99-4f32-8a45-7795324b62a5\"}, \"ticker\": {\"type\": \"BasicTicker\", \"id\": \"ec5e8025-3d79-457d-a681-1dbe524140e2\"}}, \"id\": \"2c8f1d5a-e284-4f38-8317-7e0dd917c2a6\"}, {\"type\": \"GlyphRenderer\", \"attributes\": {\"nonselection_glyph\": {\"type\": \"Line\", \"id\": \"7ea52bd7-c5ec-469c-98a3-79567b3aed44\"}, \"data_source\": {\"type\": \"ColumnDataSource\", \"id\": \"746d1b8a-5b63-4ab9-8c54-8018430671d5\"}, \"selection_glyph\": null, \"hover_glyph\": null, \"glyph\": {\"type\": \"Line\", \"id\": \"add7cc6d-42ae-46d1-8cef-e5b880f444b8\"}}, \"id\": \"bd8d7832-dd1e-4650-a2dd-58567c37e6bf\"}, {\"type\": \"BasicTickFormatter\", \"attributes\": {}, \"id\": \"39748f90-d0f6-448d-8e20-0333a0fc0ec5\"}, {\"type\": \"Grid\", \"attributes\": {\"plot\": {\"type\": \"Plot\", \"id\": \"b7d3a0f4-448a-4a9d-841c-d8c60a5a960a\", \"subtype\": \"Figure\"}, \"dimension\": 1, \"ticker\": {\"type\": \"BasicTicker\", \"id\": \"cb1a877f-e802-476c-b56e-0a512cc1522c\"}}, \"id\": \"2ecc2cdb-98d7-4f3a-8c4c-9ea071f4459e\"}, {\"type\": \"LinearAxis\", \"attributes\": {\"axis_label\": \"Inflammation\", \"plot\": {\"type\": \"Plot\", \"id\": \"d02bdba0-7f6d-44ee-be67-fccdac233d4b\", \"subtype\": \"Figure\"}, \"formatter\": {\"type\": \"BasicTickFormatter\", \"id\": \"c721c8a7-c87c-440a-afd1-57db0f78be2c\"}, \"ticker\": {\"type\": \"BasicTicker\", \"id\": \"f385b5f6-425a-418e-b030-51188fa01745\"}}, \"id\": \"481239aa-7517-4795-bff8-f95b3bb1b97f\"}, {\"type\": \"ToolEvents\", \"attributes\": {}, \"id\": \"617aa615-970f-49ff-beaf-e578b095a1ce\"}, {\"type\": \"HelpTool\", \"attributes\": {\"plot\": {\"type\": \"Plot\", \"id\": \"b7d3a0f4-448a-4a9d-841c-d8c60a5a960a\", \"subtype\": \"Figure\"}}, \"id\": \"05cda629-ca43-4da5-b316-83a04cf0f763\"}, {\"type\": \"BasicTicker\", \"attributes\": {}, \"id\": \"0a20864d-7b74-4ad1-813e-8674637a3a1d\"}, {\"type\": \"ToolEvents\", \"attributes\": {}, \"id\": \"f8662d81-2d9a-40b9-9d6f-d7adfaaa4ead\"}, {\"type\": \"BoxZoomTool\", \"attributes\": {\"plot\": {\"type\": \"Plot\", \"id\": \"07de6f7c-d35e-42a8-a0ac-e92516b552c0\", \"subtype\": \"Figure\"}, \"overlay\": {\"type\": \"BoxAnnotation\", \"id\": \"83bfe11d-8b62-4514-9aa9-a1bf0609e1ef\"}}, \"id\": \"21688bf6-9a71-439b-9563-1aeec65bce8e\"}, {\"type\": \"PanTool\", \"attributes\": {\"plot\": {\"type\": \"Plot\", \"id\": \"e3412a97-d19a-469e-935d-bfb931e497ab\", \"subtype\": \"Figure\"}}, \"id\": \"5da225dc-de54-42e2-a37c-b991d475e8b3\"}, {\"type\": \"ResetTool\", \"attributes\": {\"plot\": {\"type\": \"Plot\", \"id\": \"b7d3a0f4-448a-4a9d-841c-d8c60a5a960a\", \"subtype\": \"Figure\"}}, \"id\": \"3a2e0fc0-800d-4789-94c4-277c5516232f\"}, {\"type\": \"HelpTool\", \"attributes\": {\"plot\": {\"type\": \"Plot\", \"id\": \"1cb8a836-ad53-4b2b-bbd4-3db4e3b75bf2\", \"subtype\": \"Figure\"}}, \"id\": \"d5375267-311a-46e6-9111-d50e9260eff5\"}, {\"type\": \"Plot\", \"attributes\": {\"x_range\": {\"type\": \"DataRange1d\", \"id\": \"f2131dd8-3835-4883-bf02-24fe5b60b45e\"}, \"left\": [{\"type\": \"LinearAxis\", \"id\": \"fa6cb4af-b6ab-4783-92a1-5540e728301e\"}], \"renderers\": [{\"type\": \"LinearAxis\", \"id\": \"c2ea5ac0-9f32-4628-970a-c785676f0006\"}, {\"type\": \"Grid\", \"id\": \"aac412d8-6531-4e5c-8410-fa632abd44e7\"}, {\"type\": \"LinearAxis\", \"id\": \"fa6cb4af-b6ab-4783-92a1-5540e728301e\"}, {\"type\": \"Grid\", \"id\": \"21c2b41b-4e43-4cfb-aefe-4ea3b1606de5\"}, {\"type\": \"BoxAnnotation\", \"id\": \"239738b3-b75b-4a73-a0e2-7f8200ec241d\"}, {\"type\": \"GlyphRenderer\", \"id\": \"b348930d-48c1-4feb-a831-038bb4383812\"}], \"tool_events\": {\"type\": \"ToolEvents\", \"id\": \"0cbe1e29-5e15-45c7-96db-f8d7e06e28fb\"}, \"tools\": [{\"type\": \"PanTool\", \"id\": \"a6230222-2a1a-480e-914f-4cceb60c4636\"}, {\"type\": \"WheelZoomTool\", \"id\": \"44562f08-da51-4b94-b731-efb480b49cd6\"}, {\"type\": \"BoxZoomTool\", \"id\": \"b4c483d1-35a5-4fcc-971e-cef677d7d3db\"}, {\"type\": \"PreviewSaveTool\", \"id\": \"1238c933-e670-45b5-b0bb-78bf3b54eea5\"}, {\"type\": \"ResizeTool\", \"id\": \"08bfd82b-58c8-4896-9b8d-01ae3bc83239\"}, {\"type\": \"ResetTool\", \"id\": \"299bea49-2051-4a1d-93d4-bdd20bcac595\"}, {\"type\": \"HelpTool\", \"id\": \"1011f937-ee8a-41a9-907b-8d34cb40ce8d\"}], \"y_range\": {\"type\": \"DataRange1d\", \"id\": \"c2bd80c7-53a1-4f26-8e4e-f88c88bb29fc\"}, \"below\": [{\"type\": \"LinearAxis\", \"id\": \"c2ea5ac0-9f32-4628-970a-c785676f0006\"}]}, \"subtype\": \"Figure\", \"id\": \"6dc380a6-b1ae-4eff-9330-34cd39dbf16e\"}, {\"type\": \"Grid\", \"attributes\": {\"plot\": {\"type\": \"Plot\", \"id\": \"07de6f7c-d35e-42a8-a0ac-e92516b552c0\", \"subtype\": \"Figure\"}, \"ticker\": {\"type\": \"BasicTicker\", \"id\": \"33319207-1dfa-4edf-9309-7675f1f8128a\"}}, \"id\": \"5670151b-9110-4a90-9e10-23248f065f72\"}, {\"type\": \"PanTool\", \"attributes\": {\"plot\": {\"type\": \"Plot\", \"id\": \"59899abe-fc82-4e86-bbca-9be468ead2f6\", \"subtype\": \"Figure\"}}, \"id\": \"eedc984b-3087-435c-aabd-9caba0352783\"}, {\"type\": \"BoxAnnotation\", \"attributes\": {\"fill_alpha\": {\"value\": 0.5}, \"line_dash\": [4, 4], \"render_mode\": \"css\", \"bottom_units\": \"screen\", \"right_units\": \"screen\", \"line_alpha\": {\"value\": 1.0}, \"plot\": null, \"top_units\": \"screen\", \"fill_color\": {\"value\": \"lightgrey\"}, \"line_width\": {\"value\": 2}, \"left_units\": \"screen\", \"level\": \"overlay\", \"line_color\": {\"value\": \"black\"}}, \"id\": \"e402fd81-1025-469c-8b1b-16b52fb85664\"}, {\"type\": \"BoxAnnotation\", \"attributes\": {\"fill_alpha\": {\"value\": 0.5}, \"line_dash\": [4, 4], \"render_mode\": \"css\", \"bottom_units\": \"screen\", \"right_units\": \"screen\", \"line_alpha\": {\"value\": 1.0}, \"plot\": null, \"top_units\": \"screen\", \"fill_color\": {\"value\": \"lightgrey\"}, \"line_width\": {\"value\": 2}, \"left_units\": \"screen\", \"level\": \"overlay\", \"line_color\": {\"value\": \"black\"}}, \"id\": \"83bfe11d-8b62-4514-9aa9-a1bf0609e1ef\"}, {\"type\": \"ColumnDataSource\", \"attributes\": {\"data\": {\"y\": [0.0, 0.45, 1.1166666666666667, 1.75, 2.433333333333333, 3.15, 3.8, 3.8833333333333333, 5.233333333333333, 5.516666666666667, 5.95, 5.9, 8.35, 7.733333333333333, 8.366666666666667, 9.5, 9.583333333333334, 10.633333333333333, 11.566666666666666, 12.35, 13.25, 11.966666666666667, 11.033333333333333, 10.166666666666666, 10.0, 8.666666666666666, 9.15, 7.25, 7.333333333333333, 6.583333333333333, 6.066666666666666, 5.95, 5.116666666666666, 3.6, 3.3, 3.566666666666667, 2.4833333333333334, 1.5, 1.1333333333333333, 0.5666666666666667], \"x\": [0, 1, 2, 3, 4, 5, 6, 7, 8, 9, 10, 11, 12, 13, 14, 15, 16, 17, 18, 19, 20, 21, 22, 23, 24, 25, 26, 27, 28, 29]}, \"column_names\": [\"y\", \"x\", \"y\", \"x\"], \"callback\": null}, \"id\": \"e0c53c3f-b0a0-4087-9611-c2f1375661d7\"}, {\"type\": \"LinearAxis\", \"attributes\": {\"axis_label\": \"Inflammation\", \"plot\": {\"type\": \"Plot\", \"id\": \"c55136e3-b542-4820-a893-ac2bc3319c81\", \"subtype\": \"Figure\"}, \"formatter\": {\"type\": \"BasicTickFormatter\", \"id\": \"91b98f0b-4bed-49eb-b5d1-7279d33fa4f9\"}, \"ticker\": {\"type\": \"BasicTicker\", \"id\": \"951e14bb-e516-4693-8742-5948ae3dcb48\"}}, \"id\": \"bf2cfddc-22d9-4134-b097-e3650ed8f9c9\"}, {\"type\": \"DataRange1d\", \"attributes\": {\"callback\": null}, \"id\": \"487a67db-a1bc-43dc-b651-1993a24260f7\"}, {\"type\": \"ResizeTool\", \"attributes\": {\"plot\": {\"type\": \"Plot\", \"id\": \"07de6f7c-d35e-42a8-a0ac-e92516b552c0\", \"subtype\": \"Figure\"}}, \"id\": \"dfeb22e0-9a09-44fb-85a0-bab638d9f098\"}, {\"type\": \"LinearAxis\", \"attributes\": {\"axis_label\": \"Inflammation\", \"plot\": {\"type\": \"Plot\", \"id\": \"0fe06206-5017-4813-b2ec-d0fd0ad80555\", \"subtype\": \"Figure\"}, \"formatter\": {\"type\": \"BasicTickFormatter\", \"id\": \"66a29735-19d1-4c27-a6b0-ffb07b034f52\"}, \"ticker\": {\"type\": \"BasicTicker\", \"id\": \"ef4435a3-1836-47b5-88ca-aa1079b2f6b9\"}}, \"id\": \"0787c34e-af57-4c24-93b3-1c6714e665b1\"}, {\"type\": \"Line\", \"attributes\": {\"line_alpha\": {\"value\": 0.1}, \"line_color\": {\"value\": \"#1f77b4\"}, \"x\": {\"field\": \"x\"}, \"y\": {\"field\": \"y\"}}, \"id\": \"69c660aa-da00-415b-af4a-0bacd653e7f5\"}, {\"type\": \"DataRange1d\", \"attributes\": {\"callback\": null}, \"id\": \"ec094be6-55cf-4253-b4af-9e06e303cd28\"}, {\"type\": \"GlyphRenderer\", \"attributes\": {\"nonselection_glyph\": {\"type\": \"Line\", \"id\": \"31bb83a7-f09f-47b6-8400-863f40fe153a\"}, \"data_source\": {\"type\": \"ColumnDataSource\", \"id\": \"2dbe78ac-f0cc-4859-acd2-d90e9b42853f\"}, \"selection_glyph\": null, \"hover_glyph\": null, \"glyph\": {\"type\": \"Line\", \"id\": \"218aea3a-2608-42f4-b536-62cf801242b3\"}}, \"id\": \"b3b55f06-66ce-47ff-9e57-45fc7de70f70\"}, {\"type\": \"ResizeTool\", \"attributes\": {\"plot\": {\"type\": \"Plot\", \"id\": \"1cb8a836-ad53-4b2b-bbd4-3db4e3b75bf2\", \"subtype\": \"Figure\"}}, \"id\": \"7d1be0ce-8d1d-4d24-959a-15c4df53b1c8\"}, {\"type\": \"DataRange1d\", \"attributes\": {\"callback\": null}, \"id\": \"a88cfc13-fd98-4366-81e9-10c1c4e00800\"}, {\"type\": \"ResizeTool\", \"attributes\": {\"plot\": {\"type\": \"Plot\", \"id\": \"41ae819b-f50a-411a-80c7-0d49cc226975\", \"subtype\": \"Figure\"}}, \"id\": \"56a8ff1c-fc95-4e3d-a409-7608b89fc9e6\"}, {\"type\": \"BoxAnnotation\", \"attributes\": {\"fill_alpha\": {\"value\": 0.5}, \"line_dash\": [4, 4], \"render_mode\": \"css\", \"bottom_units\": \"screen\", \"right_units\": \"screen\", \"line_alpha\": {\"value\": 1.0}, \"plot\": null, \"top_units\": \"screen\", \"fill_color\": {\"value\": \"lightgrey\"}, \"line_width\": {\"value\": 2}, \"left_units\": \"screen\", \"level\": \"overlay\", \"line_color\": {\"value\": \"black\"}}, \"id\": \"239738b3-b75b-4a73-a0e2-7f8200ec241d\"}, {\"type\": \"BasicTickFormatter\", \"attributes\": {}, \"id\": \"91b98f0b-4bed-49eb-b5d1-7279d33fa4f9\"}, {\"type\": \"ColumnDataSource\", \"attributes\": {\"data\": {\"y\": [0.0, 0.45, 1.1166666666666667, 1.75, 2.433333333333333, 3.15, 3.8, 3.8833333333333333, 5.233333333333333, 5.516666666666667, 5.95, 5.9, 8.35, 7.733333333333333, 8.366666666666667, 9.5, 9.583333333333334, 10.633333333333333, 11.566666666666666, 12.35, 13.25, 11.966666666666667, 11.033333333333333, 10.166666666666666, 10.0, 8.666666666666666, 9.15, 7.25, 7.333333333333333, 6.583333333333333, 6.066666666666666, 5.95, 5.116666666666666, 3.6, 3.3, 3.566666666666667, 2.4833333333333334, 1.5, 1.1333333333333333, 0.5666666666666667], \"x\": [0, 1, 2, 3, 4, 5, 6, 7, 8, 9, 10, 11, 12, 13, 14, 15, 16, 17, 18, 19, 20, 21, 22, 23, 24, 25, 26, 27, 28, 29, 30, 31, 32, 33, 34, 35, 36, 37, 38, 39]}, \"column_names\": [\"y\", \"x\", \"y\", \"x\"], \"callback\": null}, \"id\": \"fab79e8e-6275-4c7e-a55b-ca5bf396de8b\"}, {\"type\": \"Grid\", \"attributes\": {\"plot\": {\"type\": \"Plot\", \"id\": \"41ae819b-f50a-411a-80c7-0d49cc226975\", \"subtype\": \"Figure\"}, \"ticker\": {\"type\": \"BasicTicker\", \"id\": \"136e5db2-9730-490c-a451-f4d46cf259a2\"}}, \"id\": \"4a3388a0-b06d-49c9-962b-c31f049c76e5\"}, {\"type\": \"DataRange1d\", \"attributes\": {\"callback\": null}, \"id\": \"6a95a46b-33f6-4194-8ff2-c0732f20e3d4\"}, {\"type\": \"Line\", \"attributes\": {\"line_alpha\": {\"value\": 0.1}, \"line_color\": {\"value\": \"#1f77b4\"}, \"x\": {\"field\": \"x\"}, \"y\": {\"field\": \"y\"}}, \"id\": \"05df3401-ef4a-4e7a-b828-486121208070\"}, {\"type\": \"LinearAxis\", \"attributes\": {\"axis_label\": \"Day\", \"plot\": {\"type\": \"Plot\", \"id\": \"c55136e3-b542-4820-a893-ac2bc3319c81\", \"subtype\": \"Figure\"}, \"formatter\": {\"type\": \"BasicTickFormatter\", \"id\": \"13bf5401-1008-411f-a9e7-879b7a7a142a\"}, \"ticker\": {\"type\": \"BasicTicker\", \"id\": \"a60de3c0-50d8-4ad2-a98d-e48c603c26f7\"}}, \"id\": \"783d34ce-8ab2-4322-b362-fff9f52e2946\"}, {\"type\": \"BasicTickFormatter\", \"attributes\": {}, \"id\": \"c729d29d-336c-4459-b0e5-a205646dfca8\"}, {\"type\": \"Grid\", \"attributes\": {\"plot\": {\"type\": \"Plot\", \"id\": \"c55136e3-b542-4820-a893-ac2bc3319c81\", \"subtype\": \"Figure\"}, \"ticker\": {\"type\": \"BasicTicker\", \"id\": \"a60de3c0-50d8-4ad2-a98d-e48c603c26f7\"}}, \"id\": \"dda93254-426e-4229-a1f8-56c695d9daab\"}, {\"type\": \"Grid\", \"attributes\": {\"plot\": {\"type\": \"Plot\", \"id\": \"41ae819b-f50a-411a-80c7-0d49cc226975\", \"subtype\": \"Figure\"}, \"dimension\": 1, \"ticker\": {\"type\": \"BasicTicker\", \"id\": \"a5499ccc-4068-41be-a037-d8b7123c12b4\"}}, \"id\": \"eab7351b-e456-401d-a5b6-6b6676a1ff67\"}, {\"type\": \"Line\", \"attributes\": {\"line_color\": {\"value\": \"#1f77b4\"}, \"x\": {\"field\": \"x\"}, \"y\": {\"field\": \"y\"}}, \"id\": \"218aea3a-2608-42f4-b536-62cf801242b3\"}, {\"type\": \"GlyphRenderer\", \"attributes\": {\"nonselection_glyph\": {\"type\": \"Line\", \"id\": \"d7368cc4-bab5-4b7b-91a8-233ed797eab1\"}, \"data_source\": {\"type\": \"ColumnDataSource\", \"id\": \"5975212c-17ec-4063-9b0c-6c35561d3497\"}, \"selection_glyph\": null, \"hover_glyph\": null, \"glyph\": {\"type\": \"Line\", \"id\": \"fefbcb88-16b5-4257-88ab-6673cac53912\"}}, \"id\": \"da296579-3b62-4f5f-8945-7a3a1646a45b\"}, {\"type\": \"BoxZoomTool\", \"attributes\": {\"plot\": {\"type\": \"Plot\", \"id\": \"0fe06206-5017-4813-b2ec-d0fd0ad80555\", \"subtype\": \"Figure\"}, \"overlay\": {\"type\": \"BoxAnnotation\", \"id\": \"92fa3e25-63cb-40d4-9aa8-0d2856afd6ed\"}}, \"id\": \"84d6fe9e-1988-4e1b-b001-57b0a9a9d1a2\"}, {\"type\": \"BasicTickFormatter\", \"attributes\": {}, \"id\": \"4f463e02-7328-4a03-812f-132957667553\"}, {\"type\": \"BasicTickFormatter\", \"attributes\": {}, \"id\": \"501f3bac-522a-416a-b483-4a878c3cf5d3\"}, {\"type\": \"GlyphRenderer\", \"attributes\": {\"nonselection_glyph\": {\"type\": \"Line\", \"id\": \"6a571078-8b38-4c55-8441-57f18d97b2ea\"}, \"data_source\": {\"type\": \"ColumnDataSource\", \"id\": \"aaa8098e-d051-4e4c-9f0a-229d98b31183\"}, \"selection_glyph\": null, \"hover_glyph\": null, \"glyph\": {\"type\": \"Line\", \"id\": \"59c0cdca-b06f-41b6-8b88-1e7bd74f070b\"}}, \"id\": \"2903e827-6d90-4cca-a85d-4d74eb6fd69c\"}, {\"type\": \"Line\", \"attributes\": {\"line_color\": {\"value\": \"#1f77b4\"}, \"x\": {\"field\": \"x\"}, \"y\": {\"field\": \"y\"}}, \"id\": \"3a754866-04c3-40f1-ad10-44852c41d04c\"}, {\"type\": \"LinearAxis\", \"attributes\": {\"axis_label\": \"Inflammation\", \"plot\": {\"type\": \"Plot\", \"id\": \"41ae819b-f50a-411a-80c7-0d49cc226975\", \"subtype\": \"Figure\"}, \"formatter\": {\"type\": \"BasicTickFormatter\", \"id\": \"0eed27ae-896a-46d1-973c-25fbcc3ace31\"}, \"ticker\": {\"type\": \"BasicTicker\", \"id\": \"a5499ccc-4068-41be-a037-d8b7123c12b4\"}}, \"id\": \"2e2251b4-ca9b-4ece-930f-6c886b6d6116\"}, {\"type\": \"BoxAnnotation\", \"attributes\": {\"fill_alpha\": {\"value\": 0.5}, \"line_dash\": [4, 4], \"render_mode\": \"css\", \"bottom_units\": \"screen\", \"right_units\": \"screen\", \"line_alpha\": {\"value\": 1.0}, \"plot\": null, \"top_units\": \"screen\", \"fill_color\": {\"value\": \"lightgrey\"}, \"line_width\": {\"value\": 2}, \"left_units\": \"screen\", \"level\": \"overlay\", \"line_color\": {\"value\": \"black\"}}, \"id\": \"0391b4de-9ace-4153-b1c1-318f295c6532\"}, {\"type\": \"LinearAxis\", \"attributes\": {\"axis_label\": \"Day\", \"plot\": {\"type\": \"Plot\", \"id\": \"07de6f7c-d35e-42a8-a0ac-e92516b552c0\", \"subtype\": \"Figure\"}, \"formatter\": {\"type\": \"BasicTickFormatter\", \"id\": \"a5141548-7290-4407-b530-f036b25dd12e\"}, \"ticker\": {\"type\": \"BasicTicker\", \"id\": \"33319207-1dfa-4edf-9309-7675f1f8128a\"}}, \"id\": \"fa0ef287-0337-43e0-9c69-b8c6fa25ab15\"}, {\"type\": \"PreviewSaveTool\", \"attributes\": {\"plot\": {\"type\": \"Plot\", \"id\": \"1cb8a836-ad53-4b2b-bbd4-3db4e3b75bf2\", \"subtype\": \"Figure\"}}, \"id\": \"ee343276-1907-4272-816a-b78e0dd0b363\"}, {\"type\": \"Plot\", \"attributes\": {\"x_range\": {\"type\": \"DataRange1d\", \"id\": \"5bd14e38-0bf7-4412-83b7-06f83135687d\"}, \"left\": [{\"type\": \"LinearAxis\", \"id\": \"0787c34e-af57-4c24-93b3-1c6714e665b1\"}], \"renderers\": [{\"type\": \"LinearAxis\", \"id\": \"88a1f013-1e4e-4843-b96c-cf15e9feef4e\"}, {\"type\": \"Grid\", \"id\": \"be4c6aa7-e862-4532-a746-23c68f824094\"}, {\"type\": \"LinearAxis\", \"id\": \"0787c34e-af57-4c24-93b3-1c6714e665b1\"}, {\"type\": \"Grid\", \"id\": \"784e8103-1041-4c7c-ae0b-5b6de14f4918\"}, {\"type\": \"BoxAnnotation\", \"id\": \"92fa3e25-63cb-40d4-9aa8-0d2856afd6ed\"}, {\"type\": \"Legend\", \"id\": \"b3b30aac-53d1-4076-a4bf-58ace1ca2d27\"}, {\"type\": \"GlyphRenderer\", \"id\": \"7da80203-c492-43de-948f-e3334715659e\"}, {\"type\": \"GlyphRenderer\", \"id\": \"9b80651d-0cef-4a73-b7b4-33409c747b4f\"}, {\"type\": \"GlyphRenderer\", \"id\": \"2903e827-6d90-4cca-a85d-4d74eb6fd69c\"}], \"tool_events\": {\"type\": \"ToolEvents\", \"id\": \"a5f19de9-fdba-43c8-b246-3b1a1c5c6d03\"}, \"tools\": [{\"type\": \"PanTool\", \"id\": \"09ed4dac-4f48-4dff-a0f7-d1dc6b7b73d5\"}, {\"type\": \"WheelZoomTool\", \"id\": \"1a153d9d-0349-4fc2-9129-2c6aa879f867\"}, {\"type\": \"BoxZoomTool\", \"id\": \"84d6fe9e-1988-4e1b-b001-57b0a9a9d1a2\"}, {\"type\": \"PreviewSaveTool\", \"id\": \"400af48b-3a4b-48d9-8759-c2254b24bdbc\"}, {\"type\": \"ResizeTool\", \"id\": \"a003fbe4-2f37-48c0-a496-02cbbdd0db95\"}, {\"type\": \"ResetTool\", \"id\": \"728a2555-2062-48b9-b75f-2019608e4a6a\"}, {\"type\": \"HelpTool\", \"id\": \"93853238-8a83-463d-bf70-2ea07c52b793\"}], \"y_range\": {\"type\": \"DataRange1d\", \"id\": \"2e50ecdb-5ebc-475c-bfbd-7f0c05c0c275\"}, \"below\": [{\"type\": \"LinearAxis\", \"id\": \"88a1f013-1e4e-4843-b96c-cf15e9feef4e\"}]}, \"subtype\": \"Figure\", \"id\": \"0fe06206-5017-4813-b2ec-d0fd0ad80555\"}, {\"type\": \"PanTool\", \"attributes\": {\"plot\": {\"type\": \"Plot\", \"id\": \"6dc380a6-b1ae-4eff-9330-34cd39dbf16e\", \"subtype\": \"Figure\"}}, \"id\": \"a6230222-2a1a-480e-914f-4cceb60c4636\"}, {\"type\": \"PanTool\", \"attributes\": {\"plot\": {\"type\": \"Plot\", \"id\": \"d02bdba0-7f6d-44ee-be67-fccdac233d4b\", \"subtype\": \"Figure\"}}, \"id\": \"5224d690-eada-452b-861c-d2c9e92b96d2\"}, {\"type\": \"LinearAxis\", \"attributes\": {\"axis_label\": \"Day\", \"plot\": {\"type\": \"Plot\", \"id\": \"1cb8a836-ad53-4b2b-bbd4-3db4e3b75bf2\", \"subtype\": \"Figure\"}, \"formatter\": {\"type\": \"BasicTickFormatter\", \"id\": \"3be47f58-f24d-4017-8677-529d28fb22ea\"}, \"ticker\": {\"type\": \"BasicTicker\", \"id\": \"72d9fa8f-44b1-46b0-a737-eeccbacfbe95\"}}, \"id\": \"fa4fcf62-1b8d-49e0-a4f5-fb46900d6651\"}, {\"type\": \"Grid\", \"attributes\": {\"plot\": {\"type\": \"Plot\", \"id\": \"e3412a97-d19a-469e-935d-bfb931e497ab\", \"subtype\": \"Figure\"}, \"dimension\": 1, \"ticker\": {\"type\": \"BasicTicker\", \"id\": \"54dd9b74-19f5-4dc2-b209-09782205e666\"}}, \"id\": \"ee4c27de-73fe-4309-99b3-2991c05b7afd\"}, {\"type\": \"ToolEvents\", \"attributes\": {}, \"id\": \"f3ebd114-d47c-42e9-9a08-1162e07308c3\"}, {\"type\": \"BasicTickFormatter\", \"attributes\": {}, \"id\": \"a5141548-7290-4407-b530-f036b25dd12e\"}]}, \"version\": \"0.11.0\", \"title\": \"Bokeh Application\"}};\n",
       "            var render_items = [{\"notebook_comms_target\": \"46cce618-5a0e-4a78-aef0-e6f87c23c61a\", \"elementid\": \"52af57fa-aa9e-4b02-872d-a584a4484b2c\", \"docid\": \"8935a421-ddcd-49f9-b0d6-fbaab073a813\", \"modelid\": \"1cb8a836-ad53-4b2b-bbd4-3db4e3b75bf2\"}];\n",
       "            \n",
       "            Bokeh.embed.embed_items(docs_json, render_items);\n",
       "        });\n",
       "      },\n",
       "      function(Bokeh) {\n",
       "      }\n",
       "    ];\n",
       "  \n",
       "    function run_inline_js() {\n",
       "      for (var i = 0; i < inline_js.length; i++) {\n",
       "        inline_js[i](window.Bokeh);\n",
       "      }\n",
       "    }\n",
       "  \n",
       "    if (window._bokeh_is_loading === 0) {\n",
       "      console.log(\"Bokeh: BokehJS loaded, going straight to plotting\");\n",
       "      run_inline_js();\n",
       "    } else {\n",
       "      load_libs(js_urls, function() {\n",
       "        console.log(\"Bokeh: BokehJS plotting callback run at\", now());\n",
       "        run_inline_js();\n",
       "      });\n",
       "    }\n",
       "  }(this));\n",
       "</script>"
      ]
     },
     "metadata": {},
     "output_type": "display_data"
    },
    {
     "data": {
      "text/plain": [
       "<bokeh.io._CommsHandle at 0x7f01b440f780>"
      ]
     },
     "execution_count": 45,
     "metadata": {},
     "output_type": "execute_result"
    }
   ],
   "source": [
    "# RMV\n",
    "# Start out with days vs average\n",
    "initial_coordinates = {'x': days, 'y': data.mean(axis=0)}\n",
    "source = ColumnDataSource(initial_coordinates)\n",
    "\n",
    "# Define a callback to update the plot when we\n",
    "# pick something else\n",
    "def update_plot(N):\n",
    "    source.data['x'] = np.arange(N)\n",
    "    push_notebook()\n",
    "    \n",
    "fig = bplot.figure()\n",
    "\n",
    "days = np.arange(data.shape[1])\n",
    "\n",
    "fig.xaxis.axis_label = 'Day'\n",
    "fig.yaxis.axis_label = 'Inflammation'\n",
    "\n",
    "fig.line(initial_coordinates['x'], initial_coordinates['y'], source=source)\n",
    "\n",
    "bplot.show(fig)"
   ]
  },
  {
   "cell_type": "code",
   "execution_count": 46,
   "metadata": {
    "collapsed": false
   },
   "outputs": [],
   "source": [
    "interact(update_plot, N=(1, 60, 1))"
   ]
  },
  {
   "cell_type": "markdown",
   "metadata": {
    "slideshow": {
     "slide_type": "slide"
    }
   },
   "source": [
    "# Summary"
   ]
  },
  {
   "cell_type": "markdown",
   "metadata": {
    "slideshow": {
     "slide_type": "fragment"
    }
   },
   "source": [
    "* **numpy** lets you manipulate large arrays fast "
   ]
  },
  {
   "cell_type": "markdown",
   "metadata": {
    "slideshow": {
     "slide_type": "fragment"
    }
   },
   "source": [
    "* **matplotlib** lets you plot reproducibly"
   ]
  },
  {
   "cell_type": "markdown",
   "metadata": {
    "slideshow": {
     "slide_type": "fragment"
    }
   },
   "source": [
    "* you can do processing and plotting together or separately"
   ]
  }
 ],
 "metadata": {
  "celltoolbar": "Slideshow",
  "kernelspec": {
   "display_name": "Python 3",
   "language": "python",
   "name": "python3"
  },
  "language_info": {
   "codemirror_mode": {
    "name": "ipython",
    "version": 3
   },
   "file_extension": ".py",
   "mimetype": "text/x-python",
   "name": "python",
   "nbconvert_exporter": "python",
   "pygments_lexer": "ipython3",
   "version": "3.4.3"
  },
  "livereveal": {
   "theme": "beige",
   "transition": "cascade"
  }
 },
 "nbformat": 4,
 "nbformat_minor": 0
}
